{
 "cells": [
  {
   "cell_type": "markdown",
   "id": "ba768076",
   "metadata": {},
   "source": [
    "# Proyecto 1: Inteligencia Artificial Aplicada a la Ingeniería Eléctrica"
   ]
  },
  {
   "cell_type": "markdown",
   "id": "7157aa4c",
   "metadata": {},
   "source": [
    "## Algoritmo 1: K-means"
   ]
  },
  {
   "cell_type": "code",
   "execution_count": 161,
   "id": "fbf8182d",
   "metadata": {},
   "outputs": [],
   "source": [
    "# Importamos las librerías\n",
    "import pandas as pd\n",
    "import numpy as np\n",
    "import plotly.express as px\n",
    "import plotly.graph_objects as go\n",
    "import matplotlib.pyplot as plt\n",
    "from matplotlib.ticker import FuncFormatter\n",
    "from sklearn.cluster import KMeans, DBSCAN\n",
    "from sklearn.metrics import silhouette_score\n",
    "from sklearn.preprocessing import StandardScaler\n",
    "from sklearn.neighbors import NearestNeighbors\n",
    "from yellowbrick.cluster import KElbowVisualizer, SilhouetteVisualizer"
   ]
  },
  {
   "cell_type": "code",
   "execution_count": 162,
   "id": "aa4481e5",
   "metadata": {},
   "outputs": [
    {
     "name": "stdout",
     "output_type": "stream",
     "text": [
      "<class 'pandas.core.frame.DataFrame'>\n",
      "RangeIndex: 133 entries, 0 to 132\n",
      "Data columns (total 5 columns):\n",
      " #   Column    Non-Null Count  Dtype  \n",
      "---  ------    --------------  -----  \n",
      " 0   Empresa   133 non-null    object \n",
      " 1   Circuito  133 non-null    object \n",
      " 2   Abonados  133 non-null    int64  \n",
      " 3   DPIR      133 non-null    float64\n",
      " 4   FPI       133 non-null    float64\n",
      "dtypes: float64(2), int64(1), object(2)\n",
      "memory usage: 5.3+ KB\n",
      "None\n",
      "           Abonados        DPIR         FPI\n",
      "count    133.000000  133.000000  133.000000\n",
      "mean    7011.180451   16.092857   13.393985\n",
      "std     4649.287868    8.908077    6.568216\n",
      "min        1.000000    6.350000    1.020000\n",
      "25%     3756.000000    8.930000    8.790000\n",
      "50%     6181.000000   13.900000   11.790000\n",
      "75%    10556.000000   20.480000   16.710000\n",
      "max    21394.000000   54.660000   31.470000\n"
     ]
    }
   ],
   "source": [
    "# Importamos los datos del anexo A\n",
    "csv_file = 'AnexoA.csv'\n",
    "datosA = pd.read_csv(csv_file)\n",
    "print(datosA.info())\n",
    "print(datosA.describe())"
   ]
  },
  {
   "cell_type": "code",
   "execution_count": 163,
   "id": "ee17d12a",
   "metadata": {},
   "outputs": [
    {
     "name": "stdout",
     "output_type": "stream",
     "text": [
      "<class 'pandas.core.frame.DataFrame'>\n",
      "RangeIndex: 352 entries, 0 to 351\n",
      "Data columns (total 5 columns):\n",
      " #   Column    Non-Null Count  Dtype  \n",
      "---  ------    --------------  -----  \n",
      " 0   Empresa   352 non-null    object \n",
      " 1   Circuito  352 non-null    object \n",
      " 2   Abonados  352 non-null    int64  \n",
      " 3   DPIR      352 non-null    float64\n",
      " 4   FPI       352 non-null    float64\n",
      "dtypes: float64(2), int64(1), object(2)\n",
      "memory usage: 13.9+ KB\n",
      "None\n",
      "           Abonados        DPIR         FPI\n",
      "count    352.000000  352.000000  352.000000\n",
      "mean    4357.656250    2.598580    2.494119\n",
      "std     6918.736094    1.930275    1.981300\n",
      "min        0.000000    0.000000    0.000000\n",
      "25%      244.250000    0.662500    0.872500\n",
      "50%     1835.000000    2.675000    2.350000\n",
      "75%     5977.750000    4.250000    4.000000\n",
      "max    58034.000000    5.970000    6.990000\n"
     ]
    }
   ],
   "source": [
    "# Importamos los datos del anexo b\n",
    "csv_file = 'AnexoB.csv'\n",
    "datosB = pd.read_csv(csv_file)\n",
    "print(datosB.info())\n",
    "print(datosB.describe())"
   ]
  },
  {
   "cell_type": "code",
   "execution_count": 164,
   "id": "8d83bce9",
   "metadata": {},
   "outputs": [
    {
     "data": {
      "application/vnd.plotly.v1+json": {
       "config": {
        "plotlyServerURL": "https://plot.ly"
       },
       "data": [
        {
         "hovertemplate": "Abonados=%{x}<br>DPIR=%{y}<br>FPI=%{z}<extra></extra>",
         "legendgroup": "",
         "marker": {
          "color": "#636efa",
          "size": 5,
          "symbol": "circle"
         },
         "mode": "markers",
         "name": "",
         "scene": "scene",
         "showlegend": false,
         "textfont": {
          "color": "red",
          "family": "Arial",
          "size": 18
         },
         "type": "scatter3d",
         "x": [
          3756,
          2230,
          7039,
          9777,
          8644,
          1012,
          6590,
          4508,
          8573,
          17327,
          11346,
          14986,
          9650,
          834,
          17360,
          10355,
          4980,
          6212,
          4855,
          779,
          11976,
          11155,
          10659,
          4929,
          9407,
          445,
          14980,
          10556,
          12650,
          11528,
          11110,
          5287,
          13469,
          4722,
          3726,
          1,
          3034,
          3904,
          1305,
          14855,
          12032,
          5610,
          2496,
          5375,
          135,
          8198,
          1436,
          12604,
          8859,
          6414,
          7901,
          74,
          373,
          2916,
          6181,
          3796,
          1659,
          6716,
          5860,
          10473,
          6279,
          2762,
          8056,
          292,
          9000,
          12534,
          3937,
          8121,
          7065,
          5310,
          2883,
          2685,
          9574,
          7199,
          5556,
          483,
          4251,
          4465,
          2756,
          3315,
          603,
          1210,
          12575,
          4801,
          6226,
          2955,
          797,
          4424,
          2807,
          13457,
          2645,
          6315,
          15918,
          18025,
          6768,
          5516,
          12545,
          3909,
          21394,
          11267,
          7153,
          5279,
          9973,
          10672,
          6281,
          15594,
          13481,
          2168,
          5940,
          10878,
          4772,
          9220,
          4984,
          2964,
          4782,
          4777,
          4571,
          5149,
          11162,
          4036,
          3952,
          6663,
          16997,
          11889,
          11815,
          5252,
          2386,
          6121,
          342,
          15517,
          8536,
          12512,
          6370
         ],
         "y": [
          32.73,
          26.88,
          23.86,
          22.96,
          21.12,
          20.86,
          18.63,
          16.45,
          16.38,
          15.63,
          13.36,
          13.16,
          13.02,
          12.83,
          12.74,
          12.33,
          11.47,
          10.99,
          10.87,
          10.51,
          9.81,
          9.36,
          9.01,
          8.42,
          8.21,
          8.17,
          7.98,
          7.76,
          7.63,
          7.63,
          7.27,
          7.17,
          6.76,
          6.72,
          6.61,
          6.56,
          6.35,
          11.51,
          10.15,
          9.32,
          8.93,
          16.17,
          15.52,
          15.24,
          13.9,
          11.82,
          8.45,
          7.8,
          7.51,
          6.63,
          6.54,
          54.66,
          41.81,
          40.65,
          39.04,
          38.4,
          34.12,
          33.44,
          31.11,
          30.16,
          29.1,
          28.96,
          28.18,
          27.54,
          26.6,
          26.49,
          26.44,
          26.21,
          25.81,
          25.42,
          24.41,
          24.13,
          23.3,
          22,
          21.82,
          21.52,
          20.48,
          20.08,
          20.04,
          19.91,
          19.9,
          18.18,
          17.46,
          17.12,
          16.71,
          16.68,
          15.53,
          15.26,
          15.22,
          14.93,
          14.58,
          14.45,
          14.37,
          13.35,
          12.68,
          11.9,
          11.56,
          11.45,
          11.16,
          10.92,
          9.25,
          9.24,
          9.1,
          8.82,
          8.45,
          8.25,
          8,
          7.76,
          7.8,
          7.7,
          7.15,
          7.02,
          6.92,
          6.86,
          6.66,
          9.64,
          23.6,
          20.3,
          20.1,
          17.5,
          16.61,
          16.1,
          14.3,
          13.8,
          12.32,
          7.86,
          20.74,
          19.95,
          19.93,
          17.34,
          11.61,
          9.36,
          7.38
         ],
         "z": [
          25.97,
          14.23,
          24.46,
          26.82,
          18.52,
          29.87,
          11.76,
          15.82,
          22.06,
          11.52,
          11.62,
          9.98,
          7.54,
          7.75,
          9.76,
          19.72,
          17.98,
          12.6,
          7.75,
          8.4,
          23.1,
          12.38,
          7.91,
          8.4,
          9.37,
          7.78,
          15.01,
          21.24,
          14.9,
          10.75,
          13.32,
          7.41,
          11.5,
          7.71,
          7.33,
          8,
          10.19,
          11.91,
          7.71,
          14.05,
          28.17,
          22.05,
          17.06,
          14.7,
          12.2,
          16.71,
          11.17,
          11.35,
          8.53,
          11.67,
          9.36,
          19.17,
          11.88,
          14.85,
          28.81,
          22.09,
          29.52,
          14.77,
          12.69,
          18.52,
          17.48,
          31.47,
          18.88,
          17.7,
          11.5,
          18.08,
          17.65,
          7.63,
          18.54,
          11.82,
          28.25,
          16.21,
          12.3,
          9.75,
          13.55,
          19.44,
          13.62,
          11.79,
          16.99,
          12.5,
          9.85,
          29.36,
          12.04,
          16.09,
          12.6,
          12.88,
          25.61,
          13.47,
          9.09,
          9.96,
          9.18,
          8.79,
          9.94,
          10.16,
          8.68,
          7.6,
          8.4,
          12.27,
          9.72,
          9.76,
          8.75,
          8.96,
          8.6,
          8.12,
          11.66,
          14.83,
          9.32,
          9.16,
          7.4,
          1.02,
          28.31,
          10.35,
          8.26,
          10.05,
          7.88,
          30.43,
          1.22,
          1.61,
          1.11,
          1.49,
          13.15,
          5.29,
          12,
          7.5,
          8.1,
          8.6,
          13.05,
          19.7,
          10.59,
          15.95,
          11.46,
          9.99,
          7.52
         ]
        }
       ],
       "layout": {
        "legend": {
         "tracegroupgap": 0
        },
        "scene": {
         "domain": {
          "x": [
           0,
           1
          ],
          "y": [
           0,
           1
          ]
         },
         "xaxis": {
          "title": {
           "text": "Abonados"
          }
         },
         "yaxis": {
          "title": {
           "text": "DPIR"
          }
         },
         "zaxis": {
          "title": {
           "text": "FPI"
          }
         }
        },
        "template": {
         "data": {
          "bar": [
           {
            "error_x": {
             "color": "#2a3f5f"
            },
            "error_y": {
             "color": "#2a3f5f"
            },
            "marker": {
             "line": {
              "color": "#E5ECF6",
              "width": 0.5
             },
             "pattern": {
              "fillmode": "overlay",
              "size": 10,
              "solidity": 0.2
             }
            },
            "type": "bar"
           }
          ],
          "barpolar": [
           {
            "marker": {
             "line": {
              "color": "#E5ECF6",
              "width": 0.5
             },
             "pattern": {
              "fillmode": "overlay",
              "size": 10,
              "solidity": 0.2
             }
            },
            "type": "barpolar"
           }
          ],
          "carpet": [
           {
            "aaxis": {
             "endlinecolor": "#2a3f5f",
             "gridcolor": "white",
             "linecolor": "white",
             "minorgridcolor": "white",
             "startlinecolor": "#2a3f5f"
            },
            "baxis": {
             "endlinecolor": "#2a3f5f",
             "gridcolor": "white",
             "linecolor": "white",
             "minorgridcolor": "white",
             "startlinecolor": "#2a3f5f"
            },
            "type": "carpet"
           }
          ],
          "choropleth": [
           {
            "colorbar": {
             "outlinewidth": 0,
             "ticks": ""
            },
            "type": "choropleth"
           }
          ],
          "contour": [
           {
            "colorbar": {
             "outlinewidth": 0,
             "ticks": ""
            },
            "colorscale": [
             [
              0,
              "#0d0887"
             ],
             [
              0.1111111111111111,
              "#46039f"
             ],
             [
              0.2222222222222222,
              "#7201a8"
             ],
             [
              0.3333333333333333,
              "#9c179e"
             ],
             [
              0.4444444444444444,
              "#bd3786"
             ],
             [
              0.5555555555555556,
              "#d8576b"
             ],
             [
              0.6666666666666666,
              "#ed7953"
             ],
             [
              0.7777777777777778,
              "#fb9f3a"
             ],
             [
              0.8888888888888888,
              "#fdca26"
             ],
             [
              1,
              "#f0f921"
             ]
            ],
            "type": "contour"
           }
          ],
          "contourcarpet": [
           {
            "colorbar": {
             "outlinewidth": 0,
             "ticks": ""
            },
            "type": "contourcarpet"
           }
          ],
          "heatmap": [
           {
            "colorbar": {
             "outlinewidth": 0,
             "ticks": ""
            },
            "colorscale": [
             [
              0,
              "#0d0887"
             ],
             [
              0.1111111111111111,
              "#46039f"
             ],
             [
              0.2222222222222222,
              "#7201a8"
             ],
             [
              0.3333333333333333,
              "#9c179e"
             ],
             [
              0.4444444444444444,
              "#bd3786"
             ],
             [
              0.5555555555555556,
              "#d8576b"
             ],
             [
              0.6666666666666666,
              "#ed7953"
             ],
             [
              0.7777777777777778,
              "#fb9f3a"
             ],
             [
              0.8888888888888888,
              "#fdca26"
             ],
             [
              1,
              "#f0f921"
             ]
            ],
            "type": "heatmap"
           }
          ],
          "heatmapgl": [
           {
            "colorbar": {
             "outlinewidth": 0,
             "ticks": ""
            },
            "colorscale": [
             [
              0,
              "#0d0887"
             ],
             [
              0.1111111111111111,
              "#46039f"
             ],
             [
              0.2222222222222222,
              "#7201a8"
             ],
             [
              0.3333333333333333,
              "#9c179e"
             ],
             [
              0.4444444444444444,
              "#bd3786"
             ],
             [
              0.5555555555555556,
              "#d8576b"
             ],
             [
              0.6666666666666666,
              "#ed7953"
             ],
             [
              0.7777777777777778,
              "#fb9f3a"
             ],
             [
              0.8888888888888888,
              "#fdca26"
             ],
             [
              1,
              "#f0f921"
             ]
            ],
            "type": "heatmapgl"
           }
          ],
          "histogram": [
           {
            "marker": {
             "pattern": {
              "fillmode": "overlay",
              "size": 10,
              "solidity": 0.2
             }
            },
            "type": "histogram"
           }
          ],
          "histogram2d": [
           {
            "colorbar": {
             "outlinewidth": 0,
             "ticks": ""
            },
            "colorscale": [
             [
              0,
              "#0d0887"
             ],
             [
              0.1111111111111111,
              "#46039f"
             ],
             [
              0.2222222222222222,
              "#7201a8"
             ],
             [
              0.3333333333333333,
              "#9c179e"
             ],
             [
              0.4444444444444444,
              "#bd3786"
             ],
             [
              0.5555555555555556,
              "#d8576b"
             ],
             [
              0.6666666666666666,
              "#ed7953"
             ],
             [
              0.7777777777777778,
              "#fb9f3a"
             ],
             [
              0.8888888888888888,
              "#fdca26"
             ],
             [
              1,
              "#f0f921"
             ]
            ],
            "type": "histogram2d"
           }
          ],
          "histogram2dcontour": [
           {
            "colorbar": {
             "outlinewidth": 0,
             "ticks": ""
            },
            "colorscale": [
             [
              0,
              "#0d0887"
             ],
             [
              0.1111111111111111,
              "#46039f"
             ],
             [
              0.2222222222222222,
              "#7201a8"
             ],
             [
              0.3333333333333333,
              "#9c179e"
             ],
             [
              0.4444444444444444,
              "#bd3786"
             ],
             [
              0.5555555555555556,
              "#d8576b"
             ],
             [
              0.6666666666666666,
              "#ed7953"
             ],
             [
              0.7777777777777778,
              "#fb9f3a"
             ],
             [
              0.8888888888888888,
              "#fdca26"
             ],
             [
              1,
              "#f0f921"
             ]
            ],
            "type": "histogram2dcontour"
           }
          ],
          "mesh3d": [
           {
            "colorbar": {
             "outlinewidth": 0,
             "ticks": ""
            },
            "type": "mesh3d"
           }
          ],
          "parcoords": [
           {
            "line": {
             "colorbar": {
              "outlinewidth": 0,
              "ticks": ""
             }
            },
            "type": "parcoords"
           }
          ],
          "pie": [
           {
            "automargin": true,
            "type": "pie"
           }
          ],
          "scatter": [
           {
            "fillpattern": {
             "fillmode": "overlay",
             "size": 10,
             "solidity": 0.2
            },
            "type": "scatter"
           }
          ],
          "scatter3d": [
           {
            "line": {
             "colorbar": {
              "outlinewidth": 0,
              "ticks": ""
             }
            },
            "marker": {
             "colorbar": {
              "outlinewidth": 0,
              "ticks": ""
             }
            },
            "type": "scatter3d"
           }
          ],
          "scattercarpet": [
           {
            "marker": {
             "colorbar": {
              "outlinewidth": 0,
              "ticks": ""
             }
            },
            "type": "scattercarpet"
           }
          ],
          "scattergeo": [
           {
            "marker": {
             "colorbar": {
              "outlinewidth": 0,
              "ticks": ""
             }
            },
            "type": "scattergeo"
           }
          ],
          "scattergl": [
           {
            "marker": {
             "colorbar": {
              "outlinewidth": 0,
              "ticks": ""
             }
            },
            "type": "scattergl"
           }
          ],
          "scattermapbox": [
           {
            "marker": {
             "colorbar": {
              "outlinewidth": 0,
              "ticks": ""
             }
            },
            "type": "scattermapbox"
           }
          ],
          "scatterpolar": [
           {
            "marker": {
             "colorbar": {
              "outlinewidth": 0,
              "ticks": ""
             }
            },
            "type": "scatterpolar"
           }
          ],
          "scatterpolargl": [
           {
            "marker": {
             "colorbar": {
              "outlinewidth": 0,
              "ticks": ""
             }
            },
            "type": "scatterpolargl"
           }
          ],
          "scatterternary": [
           {
            "marker": {
             "colorbar": {
              "outlinewidth": 0,
              "ticks": ""
             }
            },
            "type": "scatterternary"
           }
          ],
          "surface": [
           {
            "colorbar": {
             "outlinewidth": 0,
             "ticks": ""
            },
            "colorscale": [
             [
              0,
              "#0d0887"
             ],
             [
              0.1111111111111111,
              "#46039f"
             ],
             [
              0.2222222222222222,
              "#7201a8"
             ],
             [
              0.3333333333333333,
              "#9c179e"
             ],
             [
              0.4444444444444444,
              "#bd3786"
             ],
             [
              0.5555555555555556,
              "#d8576b"
             ],
             [
              0.6666666666666666,
              "#ed7953"
             ],
             [
              0.7777777777777778,
              "#fb9f3a"
             ],
             [
              0.8888888888888888,
              "#fdca26"
             ],
             [
              1,
              "#f0f921"
             ]
            ],
            "type": "surface"
           }
          ],
          "table": [
           {
            "cells": {
             "fill": {
              "color": "#EBF0F8"
             },
             "line": {
              "color": "white"
             }
            },
            "header": {
             "fill": {
              "color": "#C8D4E3"
             },
             "line": {
              "color": "white"
             }
            },
            "type": "table"
           }
          ]
         },
         "layout": {
          "annotationdefaults": {
           "arrowcolor": "#2a3f5f",
           "arrowhead": 0,
           "arrowwidth": 1
          },
          "autotypenumbers": "strict",
          "coloraxis": {
           "colorbar": {
            "outlinewidth": 0,
            "ticks": ""
           }
          },
          "colorscale": {
           "diverging": [
            [
             0,
             "#8e0152"
            ],
            [
             0.1,
             "#c51b7d"
            ],
            [
             0.2,
             "#de77ae"
            ],
            [
             0.3,
             "#f1b6da"
            ],
            [
             0.4,
             "#fde0ef"
            ],
            [
             0.5,
             "#f7f7f7"
            ],
            [
             0.6,
             "#e6f5d0"
            ],
            [
             0.7,
             "#b8e186"
            ],
            [
             0.8,
             "#7fbc41"
            ],
            [
             0.9,
             "#4d9221"
            ],
            [
             1,
             "#276419"
            ]
           ],
           "sequential": [
            [
             0,
             "#0d0887"
            ],
            [
             0.1111111111111111,
             "#46039f"
            ],
            [
             0.2222222222222222,
             "#7201a8"
            ],
            [
             0.3333333333333333,
             "#9c179e"
            ],
            [
             0.4444444444444444,
             "#bd3786"
            ],
            [
             0.5555555555555556,
             "#d8576b"
            ],
            [
             0.6666666666666666,
             "#ed7953"
            ],
            [
             0.7777777777777778,
             "#fb9f3a"
            ],
            [
             0.8888888888888888,
             "#fdca26"
            ],
            [
             1,
             "#f0f921"
            ]
           ],
           "sequentialminus": [
            [
             0,
             "#0d0887"
            ],
            [
             0.1111111111111111,
             "#46039f"
            ],
            [
             0.2222222222222222,
             "#7201a8"
            ],
            [
             0.3333333333333333,
             "#9c179e"
            ],
            [
             0.4444444444444444,
             "#bd3786"
            ],
            [
             0.5555555555555556,
             "#d8576b"
            ],
            [
             0.6666666666666666,
             "#ed7953"
            ],
            [
             0.7777777777777778,
             "#fb9f3a"
            ],
            [
             0.8888888888888888,
             "#fdca26"
            ],
            [
             1,
             "#f0f921"
            ]
           ]
          },
          "colorway": [
           "#636efa",
           "#EF553B",
           "#00cc96",
           "#ab63fa",
           "#FFA15A",
           "#19d3f3",
           "#FF6692",
           "#B6E880",
           "#FF97FF",
           "#FECB52"
          ],
          "font": {
           "color": "#2a3f5f"
          },
          "geo": {
           "bgcolor": "white",
           "lakecolor": "white",
           "landcolor": "#E5ECF6",
           "showlakes": true,
           "showland": true,
           "subunitcolor": "white"
          },
          "hoverlabel": {
           "align": "left"
          },
          "hovermode": "closest",
          "mapbox": {
           "style": "light"
          },
          "paper_bgcolor": "white",
          "plot_bgcolor": "#E5ECF6",
          "polar": {
           "angularaxis": {
            "gridcolor": "white",
            "linecolor": "white",
            "ticks": ""
           },
           "bgcolor": "#E5ECF6",
           "radialaxis": {
            "gridcolor": "white",
            "linecolor": "white",
            "ticks": ""
           }
          },
          "scene": {
           "xaxis": {
            "backgroundcolor": "#E5ECF6",
            "gridcolor": "white",
            "gridwidth": 2,
            "linecolor": "white",
            "showbackground": true,
            "ticks": "",
            "zerolinecolor": "white"
           },
           "yaxis": {
            "backgroundcolor": "#E5ECF6",
            "gridcolor": "white",
            "gridwidth": 2,
            "linecolor": "white",
            "showbackground": true,
            "ticks": "",
            "zerolinecolor": "white"
           },
           "zaxis": {
            "backgroundcolor": "#E5ECF6",
            "gridcolor": "white",
            "gridwidth": 2,
            "linecolor": "white",
            "showbackground": true,
            "ticks": "",
            "zerolinecolor": "white"
           }
          },
          "shapedefaults": {
           "line": {
            "color": "#2a3f5f"
           }
          },
          "ternary": {
           "aaxis": {
            "gridcolor": "white",
            "linecolor": "white",
            "ticks": ""
           },
           "baxis": {
            "gridcolor": "white",
            "linecolor": "white",
            "ticks": ""
           },
           "bgcolor": "#E5ECF6",
           "caxis": {
            "gridcolor": "white",
            "linecolor": "white",
            "ticks": ""
           }
          },
          "title": {
           "x": 0.05
          },
          "xaxis": {
           "automargin": true,
           "gridcolor": "white",
           "linecolor": "white",
           "ticks": "",
           "title": {
            "standoff": 15
           },
           "zerolinecolor": "white",
           "zerolinewidth": 2
          },
          "yaxis": {
           "automargin": true,
           "gridcolor": "white",
           "linecolor": "white",
           "ticks": "",
           "title": {
            "standoff": 15
           },
           "zerolinecolor": "white",
           "zerolinewidth": 2
          }
         }
        },
        "title": {
         "text": "Datos Anexo A"
        }
       }
      },
      "text/html": [
       "<div>                            <div id=\"91f001c1-362b-441a-84ae-51e65d3d1fd2\" class=\"plotly-graph-div\" style=\"height:525px; width:100%;\"></div>            <script type=\"text/javascript\">                require([\"plotly\"], function(Plotly) {                    window.PLOTLYENV=window.PLOTLYENV || {};                                    if (document.getElementById(\"91f001c1-362b-441a-84ae-51e65d3d1fd2\")) {                    Plotly.newPlot(                        \"91f001c1-362b-441a-84ae-51e65d3d1fd2\",                        [{\"hovertemplate\":\"Abonados=%{x}\\u003cbr\\u003eDPIR=%{y}\\u003cbr\\u003eFPI=%{z}\\u003cextra\\u003e\\u003c\\u002fextra\\u003e\",\"legendgroup\":\"\",\"marker\":{\"color\":\"#636efa\",\"symbol\":\"circle\",\"size\":5},\"mode\":\"markers\",\"name\":\"\",\"scene\":\"scene\",\"showlegend\":false,\"x\":[3756,2230,7039,9777,8644,1012,6590,4508,8573,17327,11346,14986,9650,834,17360,10355,4980,6212,4855,779,11976,11155,10659,4929,9407,445,14980,10556,12650,11528,11110,5287,13469,4722,3726,1,3034,3904,1305,14855,12032,5610,2496,5375,135,8198,1436,12604,8859,6414,7901,74,373,2916,6181,3796,1659,6716,5860,10473,6279,2762,8056,292,9000,12534,3937,8121,7065,5310,2883,2685,9574,7199,5556,483,4251,4465,2756,3315,603,1210,12575,4801,6226,2955,797,4424,2807,13457,2645,6315,15918,18025,6768,5516,12545,3909,21394,11267,7153,5279,9973,10672,6281,15594,13481,2168,5940,10878,4772,9220,4984,2964,4782,4777,4571,5149,11162,4036,3952,6663,16997,11889,11815,5252,2386,6121,342,15517,8536,12512,6370],\"y\":[32.73,26.88,23.86,22.96,21.12,20.86,18.63,16.45,16.38,15.63,13.36,13.16,13.02,12.83,12.74,12.33,11.47,10.99,10.87,10.51,9.81,9.36,9.01,8.42,8.21,8.17,7.98,7.76,7.63,7.63,7.27,7.17,6.76,6.72,6.61,6.56,6.35,11.51,10.15,9.32,8.93,16.17,15.52,15.24,13.9,11.82,8.45,7.8,7.51,6.63,6.54,54.66,41.81,40.65,39.04,38.4,34.12,33.44,31.11,30.16,29.1,28.96,28.18,27.54,26.6,26.49,26.44,26.21,25.81,25.42,24.41,24.13,23.3,22.0,21.82,21.52,20.48,20.08,20.04,19.91,19.9,18.18,17.46,17.12,16.71,16.68,15.53,15.26,15.22,14.93,14.58,14.45,14.37,13.35,12.68,11.9,11.56,11.45,11.16,10.92,9.25,9.24,9.1,8.82,8.45,8.25,8.0,7.76,7.8,7.7,7.15,7.02,6.92,6.86,6.66,9.64,23.6,20.3,20.1,17.5,16.61,16.1,14.3,13.8,12.32,7.86,20.74,19.95,19.93,17.34,11.61,9.36,7.38],\"z\":[25.97,14.23,24.46,26.82,18.52,29.87,11.76,15.82,22.06,11.52,11.62,9.98,7.54,7.75,9.76,19.72,17.98,12.6,7.75,8.4,23.1,12.38,7.91,8.4,9.37,7.78,15.01,21.24,14.9,10.75,13.32,7.41,11.5,7.71,7.33,8.0,10.19,11.91,7.71,14.05,28.17,22.05,17.06,14.7,12.2,16.71,11.17,11.35,8.53,11.67,9.36,19.17,11.88,14.85,28.81,22.09,29.52,14.77,12.69,18.52,17.48,31.47,18.88,17.7,11.5,18.08,17.65,7.63,18.54,11.82,28.25,16.21,12.3,9.75,13.55,19.44,13.62,11.79,16.99,12.5,9.85,29.36,12.04,16.09,12.6,12.88,25.61,13.47,9.09,9.96,9.18,8.79,9.94,10.16,8.68,7.6,8.4,12.27,9.72,9.76,8.75,8.96,8.6,8.12,11.66,14.83,9.32,9.16,7.4,1.02,28.31,10.35,8.26,10.05,7.88,30.43,1.22,1.61,1.11,1.49,13.15,5.29,12.0,7.5,8.1,8.6,13.05,19.7,10.59,15.95,11.46,9.99,7.52],\"type\":\"scatter3d\",\"textfont\":{\"color\":\"red\",\"family\":\"Arial\",\"size\":18}}],                        {\"template\":{\"data\":{\"histogram2dcontour\":[{\"type\":\"histogram2dcontour\",\"colorbar\":{\"outlinewidth\":0,\"ticks\":\"\"},\"colorscale\":[[0.0,\"#0d0887\"],[0.1111111111111111,\"#46039f\"],[0.2222222222222222,\"#7201a8\"],[0.3333333333333333,\"#9c179e\"],[0.4444444444444444,\"#bd3786\"],[0.5555555555555556,\"#d8576b\"],[0.6666666666666666,\"#ed7953\"],[0.7777777777777778,\"#fb9f3a\"],[0.8888888888888888,\"#fdca26\"],[1.0,\"#f0f921\"]]}],\"choropleth\":[{\"type\":\"choropleth\",\"colorbar\":{\"outlinewidth\":0,\"ticks\":\"\"}}],\"histogram2d\":[{\"type\":\"histogram2d\",\"colorbar\":{\"outlinewidth\":0,\"ticks\":\"\"},\"colorscale\":[[0.0,\"#0d0887\"],[0.1111111111111111,\"#46039f\"],[0.2222222222222222,\"#7201a8\"],[0.3333333333333333,\"#9c179e\"],[0.4444444444444444,\"#bd3786\"],[0.5555555555555556,\"#d8576b\"],[0.6666666666666666,\"#ed7953\"],[0.7777777777777778,\"#fb9f3a\"],[0.8888888888888888,\"#fdca26\"],[1.0,\"#f0f921\"]]}],\"heatmap\":[{\"type\":\"heatmap\",\"colorbar\":{\"outlinewidth\":0,\"ticks\":\"\"},\"colorscale\":[[0.0,\"#0d0887\"],[0.1111111111111111,\"#46039f\"],[0.2222222222222222,\"#7201a8\"],[0.3333333333333333,\"#9c179e\"],[0.4444444444444444,\"#bd3786\"],[0.5555555555555556,\"#d8576b\"],[0.6666666666666666,\"#ed7953\"],[0.7777777777777778,\"#fb9f3a\"],[0.8888888888888888,\"#fdca26\"],[1.0,\"#f0f921\"]]}],\"heatmapgl\":[{\"type\":\"heatmapgl\",\"colorbar\":{\"outlinewidth\":0,\"ticks\":\"\"},\"colorscale\":[[0.0,\"#0d0887\"],[0.1111111111111111,\"#46039f\"],[0.2222222222222222,\"#7201a8\"],[0.3333333333333333,\"#9c179e\"],[0.4444444444444444,\"#bd3786\"],[0.5555555555555556,\"#d8576b\"],[0.6666666666666666,\"#ed7953\"],[0.7777777777777778,\"#fb9f3a\"],[0.8888888888888888,\"#fdca26\"],[1.0,\"#f0f921\"]]}],\"contourcarpet\":[{\"type\":\"contourcarpet\",\"colorbar\":{\"outlinewidth\":0,\"ticks\":\"\"}}],\"contour\":[{\"type\":\"contour\",\"colorbar\":{\"outlinewidth\":0,\"ticks\":\"\"},\"colorscale\":[[0.0,\"#0d0887\"],[0.1111111111111111,\"#46039f\"],[0.2222222222222222,\"#7201a8\"],[0.3333333333333333,\"#9c179e\"],[0.4444444444444444,\"#bd3786\"],[0.5555555555555556,\"#d8576b\"],[0.6666666666666666,\"#ed7953\"],[0.7777777777777778,\"#fb9f3a\"],[0.8888888888888888,\"#fdca26\"],[1.0,\"#f0f921\"]]}],\"surface\":[{\"type\":\"surface\",\"colorbar\":{\"outlinewidth\":0,\"ticks\":\"\"},\"colorscale\":[[0.0,\"#0d0887\"],[0.1111111111111111,\"#46039f\"],[0.2222222222222222,\"#7201a8\"],[0.3333333333333333,\"#9c179e\"],[0.4444444444444444,\"#bd3786\"],[0.5555555555555556,\"#d8576b\"],[0.6666666666666666,\"#ed7953\"],[0.7777777777777778,\"#fb9f3a\"],[0.8888888888888888,\"#fdca26\"],[1.0,\"#f0f921\"]]}],\"mesh3d\":[{\"type\":\"mesh3d\",\"colorbar\":{\"outlinewidth\":0,\"ticks\":\"\"}}],\"scatter\":[{\"fillpattern\":{\"fillmode\":\"overlay\",\"size\":10,\"solidity\":0.2},\"type\":\"scatter\"}],\"parcoords\":[{\"type\":\"parcoords\",\"line\":{\"colorbar\":{\"outlinewidth\":0,\"ticks\":\"\"}}}],\"scatterpolargl\":[{\"type\":\"scatterpolargl\",\"marker\":{\"colorbar\":{\"outlinewidth\":0,\"ticks\":\"\"}}}],\"bar\":[{\"error_x\":{\"color\":\"#2a3f5f\"},\"error_y\":{\"color\":\"#2a3f5f\"},\"marker\":{\"line\":{\"color\":\"#E5ECF6\",\"width\":0.5},\"pattern\":{\"fillmode\":\"overlay\",\"size\":10,\"solidity\":0.2}},\"type\":\"bar\"}],\"scattergeo\":[{\"type\":\"scattergeo\",\"marker\":{\"colorbar\":{\"outlinewidth\":0,\"ticks\":\"\"}}}],\"scatterpolar\":[{\"type\":\"scatterpolar\",\"marker\":{\"colorbar\":{\"outlinewidth\":0,\"ticks\":\"\"}}}],\"histogram\":[{\"marker\":{\"pattern\":{\"fillmode\":\"overlay\",\"size\":10,\"solidity\":0.2}},\"type\":\"histogram\"}],\"scattergl\":[{\"type\":\"scattergl\",\"marker\":{\"colorbar\":{\"outlinewidth\":0,\"ticks\":\"\"}}}],\"scatter3d\":[{\"type\":\"scatter3d\",\"line\":{\"colorbar\":{\"outlinewidth\":0,\"ticks\":\"\"}},\"marker\":{\"colorbar\":{\"outlinewidth\":0,\"ticks\":\"\"}}}],\"scattermapbox\":[{\"type\":\"scattermapbox\",\"marker\":{\"colorbar\":{\"outlinewidth\":0,\"ticks\":\"\"}}}],\"scatterternary\":[{\"type\":\"scatterternary\",\"marker\":{\"colorbar\":{\"outlinewidth\":0,\"ticks\":\"\"}}}],\"scattercarpet\":[{\"type\":\"scattercarpet\",\"marker\":{\"colorbar\":{\"outlinewidth\":0,\"ticks\":\"\"}}}],\"carpet\":[{\"aaxis\":{\"endlinecolor\":\"#2a3f5f\",\"gridcolor\":\"white\",\"linecolor\":\"white\",\"minorgridcolor\":\"white\",\"startlinecolor\":\"#2a3f5f\"},\"baxis\":{\"endlinecolor\":\"#2a3f5f\",\"gridcolor\":\"white\",\"linecolor\":\"white\",\"minorgridcolor\":\"white\",\"startlinecolor\":\"#2a3f5f\"},\"type\":\"carpet\"}],\"table\":[{\"cells\":{\"fill\":{\"color\":\"#EBF0F8\"},\"line\":{\"color\":\"white\"}},\"header\":{\"fill\":{\"color\":\"#C8D4E3\"},\"line\":{\"color\":\"white\"}},\"type\":\"table\"}],\"barpolar\":[{\"marker\":{\"line\":{\"color\":\"#E5ECF6\",\"width\":0.5},\"pattern\":{\"fillmode\":\"overlay\",\"size\":10,\"solidity\":0.2}},\"type\":\"barpolar\"}],\"pie\":[{\"automargin\":true,\"type\":\"pie\"}]},\"layout\":{\"autotypenumbers\":\"strict\",\"colorway\":[\"#636efa\",\"#EF553B\",\"#00cc96\",\"#ab63fa\",\"#FFA15A\",\"#19d3f3\",\"#FF6692\",\"#B6E880\",\"#FF97FF\",\"#FECB52\"],\"font\":{\"color\":\"#2a3f5f\"},\"hovermode\":\"closest\",\"hoverlabel\":{\"align\":\"left\"},\"paper_bgcolor\":\"white\",\"plot_bgcolor\":\"#E5ECF6\",\"polar\":{\"bgcolor\":\"#E5ECF6\",\"angularaxis\":{\"gridcolor\":\"white\",\"linecolor\":\"white\",\"ticks\":\"\"},\"radialaxis\":{\"gridcolor\":\"white\",\"linecolor\":\"white\",\"ticks\":\"\"}},\"ternary\":{\"bgcolor\":\"#E5ECF6\",\"aaxis\":{\"gridcolor\":\"white\",\"linecolor\":\"white\",\"ticks\":\"\"},\"baxis\":{\"gridcolor\":\"white\",\"linecolor\":\"white\",\"ticks\":\"\"},\"caxis\":{\"gridcolor\":\"white\",\"linecolor\":\"white\",\"ticks\":\"\"}},\"coloraxis\":{\"colorbar\":{\"outlinewidth\":0,\"ticks\":\"\"}},\"colorscale\":{\"sequential\":[[0.0,\"#0d0887\"],[0.1111111111111111,\"#46039f\"],[0.2222222222222222,\"#7201a8\"],[0.3333333333333333,\"#9c179e\"],[0.4444444444444444,\"#bd3786\"],[0.5555555555555556,\"#d8576b\"],[0.6666666666666666,\"#ed7953\"],[0.7777777777777778,\"#fb9f3a\"],[0.8888888888888888,\"#fdca26\"],[1.0,\"#f0f921\"]],\"sequentialminus\":[[0.0,\"#0d0887\"],[0.1111111111111111,\"#46039f\"],[0.2222222222222222,\"#7201a8\"],[0.3333333333333333,\"#9c179e\"],[0.4444444444444444,\"#bd3786\"],[0.5555555555555556,\"#d8576b\"],[0.6666666666666666,\"#ed7953\"],[0.7777777777777778,\"#fb9f3a\"],[0.8888888888888888,\"#fdca26\"],[1.0,\"#f0f921\"]],\"diverging\":[[0,\"#8e0152\"],[0.1,\"#c51b7d\"],[0.2,\"#de77ae\"],[0.3,\"#f1b6da\"],[0.4,\"#fde0ef\"],[0.5,\"#f7f7f7\"],[0.6,\"#e6f5d0\"],[0.7,\"#b8e186\"],[0.8,\"#7fbc41\"],[0.9,\"#4d9221\"],[1,\"#276419\"]]},\"xaxis\":{\"gridcolor\":\"white\",\"linecolor\":\"white\",\"ticks\":\"\",\"title\":{\"standoff\":15},\"zerolinecolor\":\"white\",\"automargin\":true,\"zerolinewidth\":2},\"yaxis\":{\"gridcolor\":\"white\",\"linecolor\":\"white\",\"ticks\":\"\",\"title\":{\"standoff\":15},\"zerolinecolor\":\"white\",\"automargin\":true,\"zerolinewidth\":2},\"scene\":{\"xaxis\":{\"backgroundcolor\":\"#E5ECF6\",\"gridcolor\":\"white\",\"linecolor\":\"white\",\"showbackground\":true,\"ticks\":\"\",\"zerolinecolor\":\"white\",\"gridwidth\":2},\"yaxis\":{\"backgroundcolor\":\"#E5ECF6\",\"gridcolor\":\"white\",\"linecolor\":\"white\",\"showbackground\":true,\"ticks\":\"\",\"zerolinecolor\":\"white\",\"gridwidth\":2},\"zaxis\":{\"backgroundcolor\":\"#E5ECF6\",\"gridcolor\":\"white\",\"linecolor\":\"white\",\"showbackground\":true,\"ticks\":\"\",\"zerolinecolor\":\"white\",\"gridwidth\":2}},\"shapedefaults\":{\"line\":{\"color\":\"#2a3f5f\"}},\"annotationdefaults\":{\"arrowcolor\":\"#2a3f5f\",\"arrowhead\":0,\"arrowwidth\":1},\"geo\":{\"bgcolor\":\"white\",\"landcolor\":\"#E5ECF6\",\"subunitcolor\":\"white\",\"showland\":true,\"showlakes\":true,\"lakecolor\":\"white\"},\"title\":{\"x\":0.05},\"mapbox\":{\"style\":\"light\"}}},\"scene\":{\"domain\":{\"x\":[0.0,1.0],\"y\":[0.0,1.0]},\"xaxis\":{\"title\":{\"text\":\"Abonados\"}},\"yaxis\":{\"title\":{\"text\":\"DPIR\"}},\"zaxis\":{\"title\":{\"text\":\"FPI\"}}},\"legend\":{\"tracegroupgap\":0},\"title\":{\"text\":\"Datos Anexo A\"}},                        {\"responsive\": true}                    ).then(function(){\n",
       "                            \n",
       "var gd = document.getElementById('91f001c1-362b-441a-84ae-51e65d3d1fd2');\n",
       "var x = new MutationObserver(function (mutations, observer) {{\n",
       "        var display = window.getComputedStyle(gd).display;\n",
       "        if (!display || display === 'none') {{\n",
       "            console.log([gd, 'removed!']);\n",
       "            Plotly.purge(gd);\n",
       "            observer.disconnect();\n",
       "        }}\n",
       "}});\n",
       "\n",
       "// Listen for the removal of the full notebook cells\n",
       "var notebookContainer = gd.closest('#notebook-container');\n",
       "if (notebookContainer) {{\n",
       "    x.observe(notebookContainer, {childList: true});\n",
       "}}\n",
       "\n",
       "// Listen for the clearing of the current output cell\n",
       "var outputEl = gd.closest('.output');\n",
       "if (outputEl) {{\n",
       "    x.observe(outputEl, {childList: true});\n",
       "}}\n",
       "\n",
       "                        })                };                });            </script>        </div>"
      ]
     },
     "metadata": {},
     "output_type": "display_data"
    }
   ],
   "source": [
    "# Análisis exploratorio gráfica de los datos\n",
    "\n",
    "\n",
    "fig = px.scatter_3d(datosA, x=\"Abonados\", y=\"DPIR\", z=\"FPI\", title=\"Datos Anexo A\")\n",
    "fig.update_traces(\n",
    "    textfont=dict(\n",
    "        family=\"Arial\",\n",
    "        size=18,\n",
    "        color='red' \n",
    "    ),\n",
    "    marker=dict(\n",
    "        size=5\n",
    "    )\n",
    ")\n",
    "fig.show()                        "
   ]
  },
  {
   "cell_type": "code",
   "execution_count": 165,
   "id": "ea6d0212",
   "metadata": {
    "scrolled": true
   },
   "outputs": [
    {
     "data": {
      "application/vnd.plotly.v1+json": {
       "config": {
        "plotlyServerURL": "https://plot.ly"
       },
       "data": [
        {
         "hovertemplate": "Abonados=%{x}<br>DPIR=%{y}<br>FPI=%{z}<extra></extra>",
         "legendgroup": "",
         "marker": {
          "color": "#636efa",
          "size": 5,
          "symbol": "circle"
         },
         "mode": "markers",
         "name": "",
         "scene": "scene",
         "showlegend": false,
         "textfont": {
          "color": "crimson",
          "family": "Arial",
          "size": 18
         },
         "type": "scatter3d",
         "x": [
          3365,
          1796,
          197,
          2762,
          5933,
          1999,
          4704,
          10258,
          2573,
          2900,
          8770,
          3327,
          1869,
          2494,
          5932,
          6859,
          704,
          56,
          1,
          3553,
          7335,
          2660,
          5367,
          9110,
          2979,
          2930,
          9006,
          254,
          3042,
          1844,
          5302,
          3173,
          11095,
          2460,
          2906,
          1263,
          3500,
          4990,
          8345,
          3160,
          232,
          234,
          4,
          2387,
          607,
          2945,
          1174,
          4488,
          1659,
          2086,
          27,
          10069,
          4,
          0,
          0,
          0,
          0,
          0,
          522,
          549,
          631,
          751,
          410,
          536,
          571,
          1116,
          529,
          281,
          775,
          868,
          418,
          263,
          872,
          792,
          1173,
          248,
          1,
          265,
          1354,
          728,
          0,
          0,
          0,
          473,
          3428,
          12212,
          16036,
          865,
          483,
          21114,
          42,
          650,
          2545,
          53,
          628,
          1312,
          2784,
          8663,
          1701,
          5335,
          10753,
          1898,
          29934,
          2,
          5654,
          207,
          2524,
          27254,
          11697,
          6,
          10427,
          2730,
          616,
          12346,
          239,
          6553,
          7386,
          16093,
          71,
          452,
          5533,
          217,
          27,
          5540,
          61,
          153,
          3321,
          602,
          4758,
          110,
          134,
          11308,
          3565,
          538,
          3566,
          2,
          3737,
          8465,
          183,
          1,
          189,
          151,
          340,
          47,
          135,
          3,
          44,
          168,
          1320,
          94,
          69,
          1,
          1,
          1,
          113,
          2,
          7178,
          17758,
          6833,
          60,
          115,
          9661,
          3614,
          8053,
          1239,
          59,
          1,
          2182,
          4700,
          2823,
          7306,
          4046,
          395,
          1,
          2733,
          194,
          6139,
          17117,
          9092,
          9761,
          2075,
          10427,
          6350,
          12830,
          1361,
          772,
          10965,
          9527,
          10094,
          2906,
          1826,
          1846,
          11916,
          8202,
          2459,
          1641,
          1961,
          12949,
          5840,
          6112,
          6482,
          3149,
          2883,
          3490,
          4315,
          2560,
          14550,
          2896,
          4897,
          3650,
          26,
          10014,
          7266,
          408,
          2570,
          6865,
          3054,
          421,
          7373,
          3156,
          9050,
          2,
          3830,
          170,
          3514,
          1,
          446,
          8761,
          4,
          227,
          1,
          398,
          282,
          2641,
          793,
          518,
          543,
          634,
          738,
          534,
          563,
          1125,
          522,
          775,
          865,
          263,
          1164,
          580,
          246,
          1,
          262,
          236,
          704,
          2784,
          27917,
          34043,
          8836,
          658,
          1266,
          1494,
          6784,
          5189,
          105,
          5824,
          5742,
          10921,
          2849,
          9688,
          892,
          5675,
          11490,
          150,
          9978,
          1546,
          2122,
          58034,
          53186,
          30974,
          22604,
          20700,
          3202,
          13545,
          404,
          1204,
          10133,
          11247,
          6987,
          904,
          5568,
          25090,
          11496,
          92,
          6615,
          9563,
          20854,
          20590,
          20548,
          2358,
          9020,
          60,
          346,
          26,
          1064,
          23820,
          270,
          434,
          184,
          2,
          4,
          166,
          11097,
          2550,
          12,
          3,
          70,
          680,
          306,
          40,
          186,
          336,
          52,
          292,
          284,
          2,
          2,
          233,
          71,
          124,
          112,
          9851,
          2534,
          7069,
          11770,
          6492,
          6827,
          17332,
          114,
          7674,
          13117,
          9401,
          4061,
          1233,
          54,
          3543,
          1,
          48,
          3803,
          383,
          2410,
          5014,
          3918,
          3
         ],
         "y": [
          4.93,
          4.65,
          4.5,
          3.44,
          5.64,
          5.62,
          5.58,
          5.56,
          5.56,
          5.49,
          5.27,
          5.23,
          5.17,
          5.16,
          5.02,
          4.9,
          4.56,
          4.24,
          4.2,
          4.2,
          4.18,
          4.04,
          4,
          3.97,
          3.83,
          3.75,
          3.69,
          3.59,
          3.34,
          3.26,
          3.12,
          3.12,
          3.02,
          2.76,
          2.75,
          2.69,
          2.62,
          2.44,
          2.24,
          2.13,
          2.11,
          2.03,
          1.98,
          1.96,
          1.92,
          1.91,
          1.81,
          1.8,
          1.72,
          1.2,
          0.86,
          0.86,
          0.52,
          0,
          0,
          0,
          0,
          0,
          0,
          0,
          0,
          0,
          0,
          0,
          0,
          0,
          0,
          0,
          0,
          0,
          0,
          0,
          0,
          0,
          0,
          0,
          0,
          0,
          0,
          0,
          0,
          0,
          0,
          5.82,
          5.13,
          5.05,
          4.36,
          4.35,
          4.15,
          3.46,
          1.28,
          1.17,
          1.12,
          0.07,
          5.91,
          5.4,
          5.2,
          4.11,
          2.1,
          5.59,
          5.47,
          5.39,
          5.03,
          4.96,
          4.94,
          4.84,
          4.82,
          4.77,
          4.75,
          4.7,
          4.45,
          4.41,
          4.25,
          4.22,
          4.05,
          4.04,
          3.85,
          3.82,
          3.75,
          3.66,
          3.55,
          3.45,
          3.42,
          3.24,
          3.23,
          3.23,
          3.22,
          3.15,
          2.95,
          2.66,
          2.59,
          2.35,
          2.27,
          2.25,
          1.94,
          1.61,
          1.41,
          1.31,
          1.24,
          1.1,
          1.06,
          0.98,
          0.9,
          0.85,
          0.58,
          0.35,
          0.11,
          0.06,
          0.03,
          0.02,
          0.01,
          0,
          0,
          0,
          0,
          0,
          5.68,
          4.77,
          4.14,
          3.7,
          3.62,
          2.23,
          1.62,
          1.61,
          1.09,
          0.31,
          0,
          5.47,
          4.96,
          4.85,
          4.31,
          4.19,
          2.01,
          1.28,
          3.48,
          1.3,
          5.8,
          5.7,
          5.53,
          5.49,
          5.43,
          5.11,
          5.09,
          5.09,
          5.08,
          4.89,
          4.85,
          4.83,
          4.82,
          4.81,
          4.78,
          4.73,
          4.39,
          4.34,
          4.25,
          4.22,
          4.22,
          3.87,
          3.87,
          3.76,
          3.72,
          3.6,
          3.44,
          3.34,
          3.31,
          3.2,
          3.12,
          3.12,
          3.02,
          2.81,
          2.38,
          2.38,
          2.32,
          2.3,
          2.12,
          2.01,
          1.97,
          1.87,
          1.81,
          1.71,
          1.56,
          1.37,
          1.28,
          1.12,
          1.12,
          0.92,
          0.89,
          0.74,
          0.67,
          0.64,
          0.44,
          0.18,
          0.18,
          0.06,
          0.04,
          0,
          0,
          0,
          0,
          0,
          0,
          0,
          0,
          0,
          0,
          0,
          0,
          0,
          0,
          0,
          0,
          0,
          0,
          4.61,
          4.25,
          4.24,
          4.02,
          3.86,
          3.74,
          2.16,
          1.26,
          0.87,
          0.2,
          5.89,
          4.96,
          4.72,
          4.7,
          4.55,
          4.49,
          4.2,
          3.88,
          3.57,
          2.93,
          5.97,
          5.78,
          5.73,
          5.72,
          5.65,
          5.58,
          5.15,
          5.03,
          5.02,
          4.73,
          4.54,
          4.54,
          4.4,
          4.37,
          4.17,
          4.02,
          3.92,
          3.91,
          3.85,
          3.8,
          3.7,
          3.59,
          3.46,
          3.03,
          3.02,
          2.98,
          2.97,
          2.82,
          2.56,
          2.47,
          2.46,
          2.39,
          2.2,
          2.09,
          1.82,
          1.72,
          1.55,
          1.34,
          1.29,
          1.25,
          1.08,
          0.94,
          0.71,
          0.63,
          0.62,
          0.46,
          0.43,
          0.29,
          0.26,
          0.25,
          0.17,
          0.15,
          0.12,
          0.09,
          0.01,
          0.01,
          4.07,
          4.05,
          3.55,
          2.94,
          2.75,
          2.55,
          2.27,
          2.16,
          2.15,
          1.49,
          1.45,
          1.38,
          0.82,
          0.81,
          0.27,
          0,
          0,
          5.27,
          4.94,
          4.81,
          4.34,
          4.24,
          0.45
         ],
         "z": [
          6,
          4.29,
          4,
          4,
          3.24,
          3.68,
          4.68,
          4.47,
          2.39,
          6,
          6.16,
          6.01,
          4.86,
          5.72,
          6.42,
          5.66,
          2.56,
          3.12,
          4,
          3.2,
          4.59,
          1.32,
          6.34,
          4.26,
          4.68,
          4.46,
          3.21,
          6,
          2.73,
          4.51,
          4.93,
          4.59,
          1.74,
          3.96,
          4.05,
          4.67,
          2.85,
          4.55,
          2.59,
          3.47,
          2.12,
          1.1,
          2,
          3.04,
          1,
          2.58,
          6.26,
          0.7,
          1.17,
          1.37,
          2.27,
          1.75,
          1,
          0,
          0,
          0,
          0,
          0,
          0,
          0,
          0,
          0,
          0,
          0,
          0,
          0,
          0,
          0,
          0,
          0,
          0,
          0,
          0,
          0,
          0,
          0,
          0,
          0,
          0,
          0,
          0,
          0,
          0,
          2.44,
          5.82,
          4.48,
          6.99,
          2.68,
          5,
          6.14,
          1,
          3.32,
          1.51,
          0.04,
          3.85,
          4.3,
          6.42,
          3.59,
          2.53,
          3.14,
          4.98,
          4.18,
          3.24,
          2,
          4.23,
          1.86,
          3.92,
          3.87,
          5.81,
          1.34,
          2.56,
          4.93,
          2.55,
          4.77,
          4.26,
          3.65,
          4.59,
          2.33,
          0.88,
          4.83,
          2.93,
          1.57,
          1.11,
          2.15,
          4.04,
          2.8,
          2.4,
          2.14,
          1.96,
          0.39,
          1.36,
          1.84,
          2.73,
          2.32,
          1.75,
          0.5,
          0.85,
          1.64,
          1.05,
          1,
          2.24,
          0.33,
          0.93,
          1,
          0.2,
          0.33,
          0.04,
          0.02,
          0.02,
          0.01,
          0.01,
          0,
          0,
          0,
          0,
          0,
          3.08,
          4.59,
          2.73,
          6,
          1.35,
          1.33,
          3.23,
          1.64,
          3,
          1,
          0,
          3.2,
          4,
          2.29,
          3.08,
          2.42,
          1.4,
          2,
          4.1,
          4,
          3.48,
          4.07,
          3.47,
          6.97,
          3.75,
          5.69,
          5.65,
          4.85,
          1,
          4.13,
          3.42,
          6.06,
          4.17,
          6.4,
          3.85,
          5.75,
          1.61,
          3.13,
          6.53,
          3.15,
          1.32,
          4.04,
          3.95,
          4.75,
          4.83,
          5.39,
          2.85,
          5.17,
          1.88,
          3.8,
          3.1,
          4.82,
          6.57,
          3.47,
          4.82,
          3.56,
          3.2,
          1.01,
          2.88,
          2.63,
          1.25,
          1.01,
          0.92,
          5.36,
          1.44,
          1,
          4.17,
          1,
          3.65,
          2,
          1.3,
          2.15,
          2,
          3.14,
          2,
          0.97,
          0.16,
          0.04,
          0.03,
          0,
          0,
          0,
          0,
          0,
          0,
          0,
          0,
          0,
          0,
          0,
          0,
          0,
          0,
          0,
          0,
          0,
          0,
          2.95,
          6.3,
          6.4,
          2.81,
          3.55,
          3.54,
          0.24,
          1.57,
          0.67,
          0.98,
          6.02,
          6.1,
          6.97,
          5.15,
          5.42,
          3.55,
          6.13,
          5.96,
          3.57,
          5.53,
          3.26,
          5.67,
          4.25,
          4.97,
          3.51,
          6.22,
          5.07,
          3.72,
          4.54,
          1.43,
          1.93,
          2.39,
          2.17,
          2.61,
          2.55,
          6.35,
          2.6,
          4.24,
          2.23,
          2.37,
          3.25,
          2.58,
          3.78,
          3.95,
          4.6,
          4.2,
          1.11,
          2.71,
          1.54,
          1.71,
          2.28,
          2.6,
          1.16,
          0.67,
          1,
          1,
          1.43,
          1.77,
          5.13,
          0.67,
          1.34,
          0.5,
          0.97,
          0.46,
          1.3,
          1.12,
          0.46,
          0.26,
          0.22,
          1.08,
          1,
          1,
          0.02,
          0.5,
          0.09,
          0.06,
          1.53,
          2.2,
          2.38,
          1.1,
          2.43,
          3.26,
          2.24,
          0.68,
          2.23,
          1.36,
          2.19,
          1.9,
          0.18,
          1.13,
          0.13,
          0,
          0,
          4.41,
          2.6,
          2.58,
          3.4,
          2.78,
          3
         ]
        }
       ],
       "layout": {
        "legend": {
         "tracegroupgap": 0
        },
        "scene": {
         "domain": {
          "x": [
           0,
           1
          ],
          "y": [
           0,
           1
          ]
         },
         "xaxis": {
          "title": {
           "text": "Abonados"
          }
         },
         "yaxis": {
          "title": {
           "text": "DPIR"
          }
         },
         "zaxis": {
          "title": {
           "text": "FPI"
          }
         }
        },
        "template": {
         "data": {
          "bar": [
           {
            "error_x": {
             "color": "#2a3f5f"
            },
            "error_y": {
             "color": "#2a3f5f"
            },
            "marker": {
             "line": {
              "color": "#E5ECF6",
              "width": 0.5
             },
             "pattern": {
              "fillmode": "overlay",
              "size": 10,
              "solidity": 0.2
             }
            },
            "type": "bar"
           }
          ],
          "barpolar": [
           {
            "marker": {
             "line": {
              "color": "#E5ECF6",
              "width": 0.5
             },
             "pattern": {
              "fillmode": "overlay",
              "size": 10,
              "solidity": 0.2
             }
            },
            "type": "barpolar"
           }
          ],
          "carpet": [
           {
            "aaxis": {
             "endlinecolor": "#2a3f5f",
             "gridcolor": "white",
             "linecolor": "white",
             "minorgridcolor": "white",
             "startlinecolor": "#2a3f5f"
            },
            "baxis": {
             "endlinecolor": "#2a3f5f",
             "gridcolor": "white",
             "linecolor": "white",
             "minorgridcolor": "white",
             "startlinecolor": "#2a3f5f"
            },
            "type": "carpet"
           }
          ],
          "choropleth": [
           {
            "colorbar": {
             "outlinewidth": 0,
             "ticks": ""
            },
            "type": "choropleth"
           }
          ],
          "contour": [
           {
            "colorbar": {
             "outlinewidth": 0,
             "ticks": ""
            },
            "colorscale": [
             [
              0,
              "#0d0887"
             ],
             [
              0.1111111111111111,
              "#46039f"
             ],
             [
              0.2222222222222222,
              "#7201a8"
             ],
             [
              0.3333333333333333,
              "#9c179e"
             ],
             [
              0.4444444444444444,
              "#bd3786"
             ],
             [
              0.5555555555555556,
              "#d8576b"
             ],
             [
              0.6666666666666666,
              "#ed7953"
             ],
             [
              0.7777777777777778,
              "#fb9f3a"
             ],
             [
              0.8888888888888888,
              "#fdca26"
             ],
             [
              1,
              "#f0f921"
             ]
            ],
            "type": "contour"
           }
          ],
          "contourcarpet": [
           {
            "colorbar": {
             "outlinewidth": 0,
             "ticks": ""
            },
            "type": "contourcarpet"
           }
          ],
          "heatmap": [
           {
            "colorbar": {
             "outlinewidth": 0,
             "ticks": ""
            },
            "colorscale": [
             [
              0,
              "#0d0887"
             ],
             [
              0.1111111111111111,
              "#46039f"
             ],
             [
              0.2222222222222222,
              "#7201a8"
             ],
             [
              0.3333333333333333,
              "#9c179e"
             ],
             [
              0.4444444444444444,
              "#bd3786"
             ],
             [
              0.5555555555555556,
              "#d8576b"
             ],
             [
              0.6666666666666666,
              "#ed7953"
             ],
             [
              0.7777777777777778,
              "#fb9f3a"
             ],
             [
              0.8888888888888888,
              "#fdca26"
             ],
             [
              1,
              "#f0f921"
             ]
            ],
            "type": "heatmap"
           }
          ],
          "heatmapgl": [
           {
            "colorbar": {
             "outlinewidth": 0,
             "ticks": ""
            },
            "colorscale": [
             [
              0,
              "#0d0887"
             ],
             [
              0.1111111111111111,
              "#46039f"
             ],
             [
              0.2222222222222222,
              "#7201a8"
             ],
             [
              0.3333333333333333,
              "#9c179e"
             ],
             [
              0.4444444444444444,
              "#bd3786"
             ],
             [
              0.5555555555555556,
              "#d8576b"
             ],
             [
              0.6666666666666666,
              "#ed7953"
             ],
             [
              0.7777777777777778,
              "#fb9f3a"
             ],
             [
              0.8888888888888888,
              "#fdca26"
             ],
             [
              1,
              "#f0f921"
             ]
            ],
            "type": "heatmapgl"
           }
          ],
          "histogram": [
           {
            "marker": {
             "pattern": {
              "fillmode": "overlay",
              "size": 10,
              "solidity": 0.2
             }
            },
            "type": "histogram"
           }
          ],
          "histogram2d": [
           {
            "colorbar": {
             "outlinewidth": 0,
             "ticks": ""
            },
            "colorscale": [
             [
              0,
              "#0d0887"
             ],
             [
              0.1111111111111111,
              "#46039f"
             ],
             [
              0.2222222222222222,
              "#7201a8"
             ],
             [
              0.3333333333333333,
              "#9c179e"
             ],
             [
              0.4444444444444444,
              "#bd3786"
             ],
             [
              0.5555555555555556,
              "#d8576b"
             ],
             [
              0.6666666666666666,
              "#ed7953"
             ],
             [
              0.7777777777777778,
              "#fb9f3a"
             ],
             [
              0.8888888888888888,
              "#fdca26"
             ],
             [
              1,
              "#f0f921"
             ]
            ],
            "type": "histogram2d"
           }
          ],
          "histogram2dcontour": [
           {
            "colorbar": {
             "outlinewidth": 0,
             "ticks": ""
            },
            "colorscale": [
             [
              0,
              "#0d0887"
             ],
             [
              0.1111111111111111,
              "#46039f"
             ],
             [
              0.2222222222222222,
              "#7201a8"
             ],
             [
              0.3333333333333333,
              "#9c179e"
             ],
             [
              0.4444444444444444,
              "#bd3786"
             ],
             [
              0.5555555555555556,
              "#d8576b"
             ],
             [
              0.6666666666666666,
              "#ed7953"
             ],
             [
              0.7777777777777778,
              "#fb9f3a"
             ],
             [
              0.8888888888888888,
              "#fdca26"
             ],
             [
              1,
              "#f0f921"
             ]
            ],
            "type": "histogram2dcontour"
           }
          ],
          "mesh3d": [
           {
            "colorbar": {
             "outlinewidth": 0,
             "ticks": ""
            },
            "type": "mesh3d"
           }
          ],
          "parcoords": [
           {
            "line": {
             "colorbar": {
              "outlinewidth": 0,
              "ticks": ""
             }
            },
            "type": "parcoords"
           }
          ],
          "pie": [
           {
            "automargin": true,
            "type": "pie"
           }
          ],
          "scatter": [
           {
            "fillpattern": {
             "fillmode": "overlay",
             "size": 10,
             "solidity": 0.2
            },
            "type": "scatter"
           }
          ],
          "scatter3d": [
           {
            "line": {
             "colorbar": {
              "outlinewidth": 0,
              "ticks": ""
             }
            },
            "marker": {
             "colorbar": {
              "outlinewidth": 0,
              "ticks": ""
             }
            },
            "type": "scatter3d"
           }
          ],
          "scattercarpet": [
           {
            "marker": {
             "colorbar": {
              "outlinewidth": 0,
              "ticks": ""
             }
            },
            "type": "scattercarpet"
           }
          ],
          "scattergeo": [
           {
            "marker": {
             "colorbar": {
              "outlinewidth": 0,
              "ticks": ""
             }
            },
            "type": "scattergeo"
           }
          ],
          "scattergl": [
           {
            "marker": {
             "colorbar": {
              "outlinewidth": 0,
              "ticks": ""
             }
            },
            "type": "scattergl"
           }
          ],
          "scattermapbox": [
           {
            "marker": {
             "colorbar": {
              "outlinewidth": 0,
              "ticks": ""
             }
            },
            "type": "scattermapbox"
           }
          ],
          "scatterpolar": [
           {
            "marker": {
             "colorbar": {
              "outlinewidth": 0,
              "ticks": ""
             }
            },
            "type": "scatterpolar"
           }
          ],
          "scatterpolargl": [
           {
            "marker": {
             "colorbar": {
              "outlinewidth": 0,
              "ticks": ""
             }
            },
            "type": "scatterpolargl"
           }
          ],
          "scatterternary": [
           {
            "marker": {
             "colorbar": {
              "outlinewidth": 0,
              "ticks": ""
             }
            },
            "type": "scatterternary"
           }
          ],
          "surface": [
           {
            "colorbar": {
             "outlinewidth": 0,
             "ticks": ""
            },
            "colorscale": [
             [
              0,
              "#0d0887"
             ],
             [
              0.1111111111111111,
              "#46039f"
             ],
             [
              0.2222222222222222,
              "#7201a8"
             ],
             [
              0.3333333333333333,
              "#9c179e"
             ],
             [
              0.4444444444444444,
              "#bd3786"
             ],
             [
              0.5555555555555556,
              "#d8576b"
             ],
             [
              0.6666666666666666,
              "#ed7953"
             ],
             [
              0.7777777777777778,
              "#fb9f3a"
             ],
             [
              0.8888888888888888,
              "#fdca26"
             ],
             [
              1,
              "#f0f921"
             ]
            ],
            "type": "surface"
           }
          ],
          "table": [
           {
            "cells": {
             "fill": {
              "color": "#EBF0F8"
             },
             "line": {
              "color": "white"
             }
            },
            "header": {
             "fill": {
              "color": "#C8D4E3"
             },
             "line": {
              "color": "white"
             }
            },
            "type": "table"
           }
          ]
         },
         "layout": {
          "annotationdefaults": {
           "arrowcolor": "#2a3f5f",
           "arrowhead": 0,
           "arrowwidth": 1
          },
          "autotypenumbers": "strict",
          "coloraxis": {
           "colorbar": {
            "outlinewidth": 0,
            "ticks": ""
           }
          },
          "colorscale": {
           "diverging": [
            [
             0,
             "#8e0152"
            ],
            [
             0.1,
             "#c51b7d"
            ],
            [
             0.2,
             "#de77ae"
            ],
            [
             0.3,
             "#f1b6da"
            ],
            [
             0.4,
             "#fde0ef"
            ],
            [
             0.5,
             "#f7f7f7"
            ],
            [
             0.6,
             "#e6f5d0"
            ],
            [
             0.7,
             "#b8e186"
            ],
            [
             0.8,
             "#7fbc41"
            ],
            [
             0.9,
             "#4d9221"
            ],
            [
             1,
             "#276419"
            ]
           ],
           "sequential": [
            [
             0,
             "#0d0887"
            ],
            [
             0.1111111111111111,
             "#46039f"
            ],
            [
             0.2222222222222222,
             "#7201a8"
            ],
            [
             0.3333333333333333,
             "#9c179e"
            ],
            [
             0.4444444444444444,
             "#bd3786"
            ],
            [
             0.5555555555555556,
             "#d8576b"
            ],
            [
             0.6666666666666666,
             "#ed7953"
            ],
            [
             0.7777777777777778,
             "#fb9f3a"
            ],
            [
             0.8888888888888888,
             "#fdca26"
            ],
            [
             1,
             "#f0f921"
            ]
           ],
           "sequentialminus": [
            [
             0,
             "#0d0887"
            ],
            [
             0.1111111111111111,
             "#46039f"
            ],
            [
             0.2222222222222222,
             "#7201a8"
            ],
            [
             0.3333333333333333,
             "#9c179e"
            ],
            [
             0.4444444444444444,
             "#bd3786"
            ],
            [
             0.5555555555555556,
             "#d8576b"
            ],
            [
             0.6666666666666666,
             "#ed7953"
            ],
            [
             0.7777777777777778,
             "#fb9f3a"
            ],
            [
             0.8888888888888888,
             "#fdca26"
            ],
            [
             1,
             "#f0f921"
            ]
           ]
          },
          "colorway": [
           "#636efa",
           "#EF553B",
           "#00cc96",
           "#ab63fa",
           "#FFA15A",
           "#19d3f3",
           "#FF6692",
           "#B6E880",
           "#FF97FF",
           "#FECB52"
          ],
          "font": {
           "color": "#2a3f5f"
          },
          "geo": {
           "bgcolor": "white",
           "lakecolor": "white",
           "landcolor": "#E5ECF6",
           "showlakes": true,
           "showland": true,
           "subunitcolor": "white"
          },
          "hoverlabel": {
           "align": "left"
          },
          "hovermode": "closest",
          "mapbox": {
           "style": "light"
          },
          "paper_bgcolor": "white",
          "plot_bgcolor": "#E5ECF6",
          "polar": {
           "angularaxis": {
            "gridcolor": "white",
            "linecolor": "white",
            "ticks": ""
           },
           "bgcolor": "#E5ECF6",
           "radialaxis": {
            "gridcolor": "white",
            "linecolor": "white",
            "ticks": ""
           }
          },
          "scene": {
           "xaxis": {
            "backgroundcolor": "#E5ECF6",
            "gridcolor": "white",
            "gridwidth": 2,
            "linecolor": "white",
            "showbackground": true,
            "ticks": "",
            "zerolinecolor": "white"
           },
           "yaxis": {
            "backgroundcolor": "#E5ECF6",
            "gridcolor": "white",
            "gridwidth": 2,
            "linecolor": "white",
            "showbackground": true,
            "ticks": "",
            "zerolinecolor": "white"
           },
           "zaxis": {
            "backgroundcolor": "#E5ECF6",
            "gridcolor": "white",
            "gridwidth": 2,
            "linecolor": "white",
            "showbackground": true,
            "ticks": "",
            "zerolinecolor": "white"
           }
          },
          "shapedefaults": {
           "line": {
            "color": "#2a3f5f"
           }
          },
          "ternary": {
           "aaxis": {
            "gridcolor": "white",
            "linecolor": "white",
            "ticks": ""
           },
           "baxis": {
            "gridcolor": "white",
            "linecolor": "white",
            "ticks": ""
           },
           "bgcolor": "#E5ECF6",
           "caxis": {
            "gridcolor": "white",
            "linecolor": "white",
            "ticks": ""
           }
          },
          "title": {
           "x": 0.05
          },
          "xaxis": {
           "automargin": true,
           "gridcolor": "white",
           "linecolor": "white",
           "ticks": "",
           "title": {
            "standoff": 15
           },
           "zerolinecolor": "white",
           "zerolinewidth": 2
          },
          "yaxis": {
           "automargin": true,
           "gridcolor": "white",
           "linecolor": "white",
           "ticks": "",
           "title": {
            "standoff": 15
           },
           "zerolinecolor": "white",
           "zerolinewidth": 2
          }
         }
        },
        "title": {
         "text": "Datos Anexo B"
        }
       }
      },
      "text/html": [
       "<div>                            <div id=\"1a2c7619-7f89-436b-bfaf-14e10567f8dd\" class=\"plotly-graph-div\" style=\"height:525px; width:100%;\"></div>            <script type=\"text/javascript\">                require([\"plotly\"], function(Plotly) {                    window.PLOTLYENV=window.PLOTLYENV || {};                                    if (document.getElementById(\"1a2c7619-7f89-436b-bfaf-14e10567f8dd\")) {                    Plotly.newPlot(                        \"1a2c7619-7f89-436b-bfaf-14e10567f8dd\",                        [{\"hovertemplate\":\"Abonados=%{x}\\u003cbr\\u003eDPIR=%{y}\\u003cbr\\u003eFPI=%{z}\\u003cextra\\u003e\\u003c\\u002fextra\\u003e\",\"legendgroup\":\"\",\"marker\":{\"color\":\"#636efa\",\"symbol\":\"circle\",\"size\":5},\"mode\":\"markers\",\"name\":\"\",\"scene\":\"scene\",\"showlegend\":false,\"x\":[3365,1796,197,2762,5933,1999,4704,10258,2573,2900,8770,3327,1869,2494,5932,6859,704,56,1,3553,7335,2660,5367,9110,2979,2930,9006,254,3042,1844,5302,3173,11095,2460,2906,1263,3500,4990,8345,3160,232,234,4,2387,607,2945,1174,4488,1659,2086,27,10069,4,0,0,0,0,0,522,549,631,751,410,536,571,1116,529,281,775,868,418,263,872,792,1173,248,1,265,1354,728,0,0,0,473,3428,12212,16036,865,483,21114,42,650,2545,53,628,1312,2784,8663,1701,5335,10753,1898,29934,2,5654,207,2524,27254,11697,6,10427,2730,616,12346,239,6553,7386,16093,71,452,5533,217,27,5540,61,153,3321,602,4758,110,134,11308,3565,538,3566,2,3737,8465,183,1,189,151,340,47,135,3,44,168,1320,94,69,1,1,1,113,2,7178,17758,6833,60,115,9661,3614,8053,1239,59,1,2182,4700,2823,7306,4046,395,1,2733,194,6139,17117,9092,9761,2075,10427,6350,12830,1361,772,10965,9527,10094,2906,1826,1846,11916,8202,2459,1641,1961,12949,5840,6112,6482,3149,2883,3490,4315,2560,14550,2896,4897,3650,26,10014,7266,408,2570,6865,3054,421,7373,3156,9050,2,3830,170,3514,1,446,8761,4,227,1,398,282,2641,793,518,543,634,738,534,563,1125,522,775,865,263,1164,580,246,1,262,236,704,2784,27917,34043,8836,658,1266,1494,6784,5189,105,5824,5742,10921,2849,9688,892,5675,11490,150,9978,1546,2122,58034,53186,30974,22604,20700,3202,13545,404,1204,10133,11247,6987,904,5568,25090,11496,92,6615,9563,20854,20590,20548,2358,9020,60,346,26,1064,23820,270,434,184,2,4,166,11097,2550,12,3,70,680,306,40,186,336,52,292,284,2,2,233,71,124,112,9851,2534,7069,11770,6492,6827,17332,114,7674,13117,9401,4061,1233,54,3543,1,48,3803,383,2410,5014,3918,3],\"y\":[4.93,4.65,4.5,3.44,5.64,5.62,5.58,5.56,5.56,5.49,5.27,5.23,5.17,5.16,5.02,4.9,4.56,4.24,4.2,4.2,4.18,4.04,4.0,3.97,3.83,3.75,3.69,3.59,3.34,3.26,3.12,3.12,3.02,2.76,2.75,2.69,2.62,2.44,2.24,2.13,2.11,2.03,1.98,1.96,1.92,1.91,1.81,1.8,1.72,1.2,0.86,0.86,0.52,0.0,0.0,0.0,0.0,0.0,0.0,0.0,0.0,0.0,0.0,0.0,0.0,0.0,0.0,0.0,0.0,0.0,0.0,0.0,0.0,0.0,0.0,0.0,0.0,0.0,0.0,0.0,0.0,0.0,0.0,5.82,5.13,5.05,4.36,4.35,4.15,3.46,1.28,1.17,1.12,0.07,5.91,5.4,5.2,4.11,2.1,5.59,5.47,5.39,5.03,4.96,4.94,4.84,4.82,4.77,4.75,4.7,4.45,4.41,4.25,4.22,4.05,4.04,3.85,3.82,3.75,3.66,3.55,3.45,3.42,3.24,3.23,3.23,3.22,3.15,2.95,2.66,2.59,2.35,2.27,2.25,1.94,1.61,1.41,1.31,1.24,1.1,1.06,0.98,0.9,0.85,0.58,0.35,0.11,0.06,0.03,0.02,0.01,0.0,0.0,0.0,0.0,0.0,5.68,4.77,4.14,3.7,3.62,2.23,1.62,1.61,1.09,0.31,0.0,5.47,4.96,4.85,4.31,4.19,2.01,1.28,3.48,1.3,5.8,5.7,5.53,5.49,5.43,5.11,5.09,5.09,5.08,4.89,4.85,4.83,4.82,4.81,4.78,4.73,4.39,4.34,4.25,4.22,4.22,3.87,3.87,3.76,3.72,3.6,3.44,3.34,3.31,3.2,3.12,3.12,3.02,2.81,2.38,2.38,2.32,2.3,2.12,2.01,1.97,1.87,1.81,1.71,1.56,1.37,1.28,1.12,1.12,0.92,0.89,0.74,0.67,0.64,0.44,0.18,0.18,0.06,0.04,0.0,0.0,0.0,0.0,0.0,0.0,0.0,0.0,0.0,0.0,0.0,0.0,0.0,0.0,0.0,0.0,0.0,0.0,4.61,4.25,4.24,4.02,3.86,3.74,2.16,1.26,0.87,0.2,5.89,4.96,4.72,4.7,4.55,4.49,4.2,3.88,3.57,2.93,5.97,5.78,5.73,5.72,5.65,5.58,5.15,5.03,5.02,4.73,4.54,4.54,4.4,4.37,4.17,4.02,3.92,3.91,3.85,3.8,3.7,3.59,3.46,3.03,3.02,2.98,2.97,2.82,2.56,2.47,2.46,2.39,2.2,2.09,1.82,1.72,1.55,1.34,1.29,1.25,1.08,0.94,0.71,0.63,0.62,0.46,0.43,0.29,0.26,0.25,0.17,0.15,0.12,0.09,0.01,0.01,4.07,4.05,3.55,2.94,2.75,2.55,2.27,2.16,2.15,1.49,1.45,1.38,0.82,0.81,0.27,0.0,0.0,5.27,4.94,4.81,4.34,4.24,0.45],\"z\":[6.0,4.29,4.0,4.0,3.24,3.68,4.68,4.47,2.39,6.0,6.16,6.01,4.86,5.72,6.42,5.66,2.56,3.12,4.0,3.2,4.59,1.32,6.34,4.26,4.68,4.46,3.21,6.0,2.73,4.51,4.93,4.59,1.74,3.96,4.05,4.67,2.85,4.55,2.59,3.47,2.12,1.1,2.0,3.04,1.0,2.58,6.26,0.7,1.17,1.37,2.27,1.75,1.0,0.0,0.0,0.0,0.0,0.0,0.0,0.0,0.0,0.0,0.0,0.0,0.0,0.0,0.0,0.0,0.0,0.0,0.0,0.0,0.0,0.0,0.0,0.0,0.0,0.0,0.0,0.0,0.0,0.0,0.0,2.44,5.82,4.48,6.99,2.68,5.0,6.14,1.0,3.32,1.51,0.04,3.85,4.3,6.42,3.59,2.53,3.14,4.98,4.18,3.24,2.0,4.23,1.86,3.92,3.87,5.81,1.34,2.56,4.93,2.55,4.77,4.26,3.65,4.59,2.33,0.88,4.83,2.93,1.57,1.11,2.15,4.04,2.8,2.4,2.14,1.96,0.39,1.36,1.84,2.73,2.32,1.75,0.5,0.85,1.64,1.05,1.0,2.24,0.33,0.93,1.0,0.2,0.33,0.04,0.02,0.02,0.01,0.01,0.0,0.0,0.0,0.0,0.0,3.08,4.59,2.73,6.0,1.35,1.33,3.23,1.64,3.0,1.0,0.0,3.2,4.0,2.29,3.08,2.42,1.4,2.0,4.1,4.0,3.48,4.07,3.47,6.97,3.75,5.69,5.65,4.85,1.0,4.13,3.42,6.06,4.17,6.4,3.85,5.75,1.61,3.13,6.53,3.15,1.32,4.04,3.95,4.75,4.83,5.39,2.85,5.17,1.88,3.8,3.1,4.82,6.57,3.47,4.82,3.56,3.2,1.01,2.88,2.63,1.25,1.01,0.92,5.36,1.44,1.0,4.17,1.0,3.65,2.0,1.3,2.15,2.0,3.14,2.0,0.97,0.16,0.04,0.03,0.0,0.0,0.0,0.0,0.0,0.0,0.0,0.0,0.0,0.0,0.0,0.0,0.0,0.0,0.0,0.0,0.0,0.0,2.95,6.3,6.4,2.81,3.55,3.54,0.24,1.57,0.67,0.98,6.02,6.1,6.97,5.15,5.42,3.55,6.13,5.96,3.57,5.53,3.26,5.67,4.25,4.97,3.51,6.22,5.07,3.72,4.54,1.43,1.93,2.39,2.17,2.61,2.55,6.35,2.6,4.24,2.23,2.37,3.25,2.58,3.78,3.95,4.6,4.2,1.11,2.71,1.54,1.71,2.28,2.6,1.16,0.67,1.0,1.0,1.43,1.77,5.13,0.67,1.34,0.5,0.97,0.46,1.3,1.12,0.46,0.26,0.22,1.08,1.0,1.0,0.02,0.5,0.09,0.06,1.53,2.2,2.38,1.1,2.43,3.26,2.24,0.68,2.23,1.36,2.19,1.9,0.18,1.13,0.13,0.0,0.0,4.41,2.6,2.58,3.4,2.78,3.0],\"type\":\"scatter3d\",\"textfont\":{\"color\":\"crimson\",\"family\":\"Arial\",\"size\":18}}],                        {\"template\":{\"data\":{\"histogram2dcontour\":[{\"type\":\"histogram2dcontour\",\"colorbar\":{\"outlinewidth\":0,\"ticks\":\"\"},\"colorscale\":[[0.0,\"#0d0887\"],[0.1111111111111111,\"#46039f\"],[0.2222222222222222,\"#7201a8\"],[0.3333333333333333,\"#9c179e\"],[0.4444444444444444,\"#bd3786\"],[0.5555555555555556,\"#d8576b\"],[0.6666666666666666,\"#ed7953\"],[0.7777777777777778,\"#fb9f3a\"],[0.8888888888888888,\"#fdca26\"],[1.0,\"#f0f921\"]]}],\"choropleth\":[{\"type\":\"choropleth\",\"colorbar\":{\"outlinewidth\":0,\"ticks\":\"\"}}],\"histogram2d\":[{\"type\":\"histogram2d\",\"colorbar\":{\"outlinewidth\":0,\"ticks\":\"\"},\"colorscale\":[[0.0,\"#0d0887\"],[0.1111111111111111,\"#46039f\"],[0.2222222222222222,\"#7201a8\"],[0.3333333333333333,\"#9c179e\"],[0.4444444444444444,\"#bd3786\"],[0.5555555555555556,\"#d8576b\"],[0.6666666666666666,\"#ed7953\"],[0.7777777777777778,\"#fb9f3a\"],[0.8888888888888888,\"#fdca26\"],[1.0,\"#f0f921\"]]}],\"heatmap\":[{\"type\":\"heatmap\",\"colorbar\":{\"outlinewidth\":0,\"ticks\":\"\"},\"colorscale\":[[0.0,\"#0d0887\"],[0.1111111111111111,\"#46039f\"],[0.2222222222222222,\"#7201a8\"],[0.3333333333333333,\"#9c179e\"],[0.4444444444444444,\"#bd3786\"],[0.5555555555555556,\"#d8576b\"],[0.6666666666666666,\"#ed7953\"],[0.7777777777777778,\"#fb9f3a\"],[0.8888888888888888,\"#fdca26\"],[1.0,\"#f0f921\"]]}],\"heatmapgl\":[{\"type\":\"heatmapgl\",\"colorbar\":{\"outlinewidth\":0,\"ticks\":\"\"},\"colorscale\":[[0.0,\"#0d0887\"],[0.1111111111111111,\"#46039f\"],[0.2222222222222222,\"#7201a8\"],[0.3333333333333333,\"#9c179e\"],[0.4444444444444444,\"#bd3786\"],[0.5555555555555556,\"#d8576b\"],[0.6666666666666666,\"#ed7953\"],[0.7777777777777778,\"#fb9f3a\"],[0.8888888888888888,\"#fdca26\"],[1.0,\"#f0f921\"]]}],\"contourcarpet\":[{\"type\":\"contourcarpet\",\"colorbar\":{\"outlinewidth\":0,\"ticks\":\"\"}}],\"contour\":[{\"type\":\"contour\",\"colorbar\":{\"outlinewidth\":0,\"ticks\":\"\"},\"colorscale\":[[0.0,\"#0d0887\"],[0.1111111111111111,\"#46039f\"],[0.2222222222222222,\"#7201a8\"],[0.3333333333333333,\"#9c179e\"],[0.4444444444444444,\"#bd3786\"],[0.5555555555555556,\"#d8576b\"],[0.6666666666666666,\"#ed7953\"],[0.7777777777777778,\"#fb9f3a\"],[0.8888888888888888,\"#fdca26\"],[1.0,\"#f0f921\"]]}],\"surface\":[{\"type\":\"surface\",\"colorbar\":{\"outlinewidth\":0,\"ticks\":\"\"},\"colorscale\":[[0.0,\"#0d0887\"],[0.1111111111111111,\"#46039f\"],[0.2222222222222222,\"#7201a8\"],[0.3333333333333333,\"#9c179e\"],[0.4444444444444444,\"#bd3786\"],[0.5555555555555556,\"#d8576b\"],[0.6666666666666666,\"#ed7953\"],[0.7777777777777778,\"#fb9f3a\"],[0.8888888888888888,\"#fdca26\"],[1.0,\"#f0f921\"]]}],\"mesh3d\":[{\"type\":\"mesh3d\",\"colorbar\":{\"outlinewidth\":0,\"ticks\":\"\"}}],\"scatter\":[{\"fillpattern\":{\"fillmode\":\"overlay\",\"size\":10,\"solidity\":0.2},\"type\":\"scatter\"}],\"parcoords\":[{\"type\":\"parcoords\",\"line\":{\"colorbar\":{\"outlinewidth\":0,\"ticks\":\"\"}}}],\"scatterpolargl\":[{\"type\":\"scatterpolargl\",\"marker\":{\"colorbar\":{\"outlinewidth\":0,\"ticks\":\"\"}}}],\"bar\":[{\"error_x\":{\"color\":\"#2a3f5f\"},\"error_y\":{\"color\":\"#2a3f5f\"},\"marker\":{\"line\":{\"color\":\"#E5ECF6\",\"width\":0.5},\"pattern\":{\"fillmode\":\"overlay\",\"size\":10,\"solidity\":0.2}},\"type\":\"bar\"}],\"scattergeo\":[{\"type\":\"scattergeo\",\"marker\":{\"colorbar\":{\"outlinewidth\":0,\"ticks\":\"\"}}}],\"scatterpolar\":[{\"type\":\"scatterpolar\",\"marker\":{\"colorbar\":{\"outlinewidth\":0,\"ticks\":\"\"}}}],\"histogram\":[{\"marker\":{\"pattern\":{\"fillmode\":\"overlay\",\"size\":10,\"solidity\":0.2}},\"type\":\"histogram\"}],\"scattergl\":[{\"type\":\"scattergl\",\"marker\":{\"colorbar\":{\"outlinewidth\":0,\"ticks\":\"\"}}}],\"scatter3d\":[{\"type\":\"scatter3d\",\"line\":{\"colorbar\":{\"outlinewidth\":0,\"ticks\":\"\"}},\"marker\":{\"colorbar\":{\"outlinewidth\":0,\"ticks\":\"\"}}}],\"scattermapbox\":[{\"type\":\"scattermapbox\",\"marker\":{\"colorbar\":{\"outlinewidth\":0,\"ticks\":\"\"}}}],\"scatterternary\":[{\"type\":\"scatterternary\",\"marker\":{\"colorbar\":{\"outlinewidth\":0,\"ticks\":\"\"}}}],\"scattercarpet\":[{\"type\":\"scattercarpet\",\"marker\":{\"colorbar\":{\"outlinewidth\":0,\"ticks\":\"\"}}}],\"carpet\":[{\"aaxis\":{\"endlinecolor\":\"#2a3f5f\",\"gridcolor\":\"white\",\"linecolor\":\"white\",\"minorgridcolor\":\"white\",\"startlinecolor\":\"#2a3f5f\"},\"baxis\":{\"endlinecolor\":\"#2a3f5f\",\"gridcolor\":\"white\",\"linecolor\":\"white\",\"minorgridcolor\":\"white\",\"startlinecolor\":\"#2a3f5f\"},\"type\":\"carpet\"}],\"table\":[{\"cells\":{\"fill\":{\"color\":\"#EBF0F8\"},\"line\":{\"color\":\"white\"}},\"header\":{\"fill\":{\"color\":\"#C8D4E3\"},\"line\":{\"color\":\"white\"}},\"type\":\"table\"}],\"barpolar\":[{\"marker\":{\"line\":{\"color\":\"#E5ECF6\",\"width\":0.5},\"pattern\":{\"fillmode\":\"overlay\",\"size\":10,\"solidity\":0.2}},\"type\":\"barpolar\"}],\"pie\":[{\"automargin\":true,\"type\":\"pie\"}]},\"layout\":{\"autotypenumbers\":\"strict\",\"colorway\":[\"#636efa\",\"#EF553B\",\"#00cc96\",\"#ab63fa\",\"#FFA15A\",\"#19d3f3\",\"#FF6692\",\"#B6E880\",\"#FF97FF\",\"#FECB52\"],\"font\":{\"color\":\"#2a3f5f\"},\"hovermode\":\"closest\",\"hoverlabel\":{\"align\":\"left\"},\"paper_bgcolor\":\"white\",\"plot_bgcolor\":\"#E5ECF6\",\"polar\":{\"bgcolor\":\"#E5ECF6\",\"angularaxis\":{\"gridcolor\":\"white\",\"linecolor\":\"white\",\"ticks\":\"\"},\"radialaxis\":{\"gridcolor\":\"white\",\"linecolor\":\"white\",\"ticks\":\"\"}},\"ternary\":{\"bgcolor\":\"#E5ECF6\",\"aaxis\":{\"gridcolor\":\"white\",\"linecolor\":\"white\",\"ticks\":\"\"},\"baxis\":{\"gridcolor\":\"white\",\"linecolor\":\"white\",\"ticks\":\"\"},\"caxis\":{\"gridcolor\":\"white\",\"linecolor\":\"white\",\"ticks\":\"\"}},\"coloraxis\":{\"colorbar\":{\"outlinewidth\":0,\"ticks\":\"\"}},\"colorscale\":{\"sequential\":[[0.0,\"#0d0887\"],[0.1111111111111111,\"#46039f\"],[0.2222222222222222,\"#7201a8\"],[0.3333333333333333,\"#9c179e\"],[0.4444444444444444,\"#bd3786\"],[0.5555555555555556,\"#d8576b\"],[0.6666666666666666,\"#ed7953\"],[0.7777777777777778,\"#fb9f3a\"],[0.8888888888888888,\"#fdca26\"],[1.0,\"#f0f921\"]],\"sequentialminus\":[[0.0,\"#0d0887\"],[0.1111111111111111,\"#46039f\"],[0.2222222222222222,\"#7201a8\"],[0.3333333333333333,\"#9c179e\"],[0.4444444444444444,\"#bd3786\"],[0.5555555555555556,\"#d8576b\"],[0.6666666666666666,\"#ed7953\"],[0.7777777777777778,\"#fb9f3a\"],[0.8888888888888888,\"#fdca26\"],[1.0,\"#f0f921\"]],\"diverging\":[[0,\"#8e0152\"],[0.1,\"#c51b7d\"],[0.2,\"#de77ae\"],[0.3,\"#f1b6da\"],[0.4,\"#fde0ef\"],[0.5,\"#f7f7f7\"],[0.6,\"#e6f5d0\"],[0.7,\"#b8e186\"],[0.8,\"#7fbc41\"],[0.9,\"#4d9221\"],[1,\"#276419\"]]},\"xaxis\":{\"gridcolor\":\"white\",\"linecolor\":\"white\",\"ticks\":\"\",\"title\":{\"standoff\":15},\"zerolinecolor\":\"white\",\"automargin\":true,\"zerolinewidth\":2},\"yaxis\":{\"gridcolor\":\"white\",\"linecolor\":\"white\",\"ticks\":\"\",\"title\":{\"standoff\":15},\"zerolinecolor\":\"white\",\"automargin\":true,\"zerolinewidth\":2},\"scene\":{\"xaxis\":{\"backgroundcolor\":\"#E5ECF6\",\"gridcolor\":\"white\",\"linecolor\":\"white\",\"showbackground\":true,\"ticks\":\"\",\"zerolinecolor\":\"white\",\"gridwidth\":2},\"yaxis\":{\"backgroundcolor\":\"#E5ECF6\",\"gridcolor\":\"white\",\"linecolor\":\"white\",\"showbackground\":true,\"ticks\":\"\",\"zerolinecolor\":\"white\",\"gridwidth\":2},\"zaxis\":{\"backgroundcolor\":\"#E5ECF6\",\"gridcolor\":\"white\",\"linecolor\":\"white\",\"showbackground\":true,\"ticks\":\"\",\"zerolinecolor\":\"white\",\"gridwidth\":2}},\"shapedefaults\":{\"line\":{\"color\":\"#2a3f5f\"}},\"annotationdefaults\":{\"arrowcolor\":\"#2a3f5f\",\"arrowhead\":0,\"arrowwidth\":1},\"geo\":{\"bgcolor\":\"white\",\"landcolor\":\"#E5ECF6\",\"subunitcolor\":\"white\",\"showland\":true,\"showlakes\":true,\"lakecolor\":\"white\"},\"title\":{\"x\":0.05},\"mapbox\":{\"style\":\"light\"}}},\"scene\":{\"domain\":{\"x\":[0.0,1.0],\"y\":[0.0,1.0]},\"xaxis\":{\"title\":{\"text\":\"Abonados\"}},\"yaxis\":{\"title\":{\"text\":\"DPIR\"}},\"zaxis\":{\"title\":{\"text\":\"FPI\"}}},\"legend\":{\"tracegroupgap\":0},\"title\":{\"text\":\"Datos Anexo B\"}},                        {\"responsive\": true}                    ).then(function(){\n",
       "                            \n",
       "var gd = document.getElementById('1a2c7619-7f89-436b-bfaf-14e10567f8dd');\n",
       "var x = new MutationObserver(function (mutations, observer) {{\n",
       "        var display = window.getComputedStyle(gd).display;\n",
       "        if (!display || display === 'none') {{\n",
       "            console.log([gd, 'removed!']);\n",
       "            Plotly.purge(gd);\n",
       "            observer.disconnect();\n",
       "        }}\n",
       "}});\n",
       "\n",
       "// Listen for the removal of the full notebook cells\n",
       "var notebookContainer = gd.closest('#notebook-container');\n",
       "if (notebookContainer) {{\n",
       "    x.observe(notebookContainer, {childList: true});\n",
       "}}\n",
       "\n",
       "// Listen for the clearing of the current output cell\n",
       "var outputEl = gd.closest('.output');\n",
       "if (outputEl) {{\n",
       "    x.observe(outputEl, {childList: true});\n",
       "}}\n",
       "\n",
       "                        })                };                });            </script>        </div>"
      ]
     },
     "metadata": {},
     "output_type": "display_data"
    }
   ],
   "source": [
    "# Análisis exploratorio gráfica de los datos\n",
    "fig = px.scatter_3d(datosB, x=\"Abonados\", y=\"DPIR\", z=\"FPI\", title=\"Datos Anexo B\")\n",
    "fig.update_traces(\n",
    "    textfont=dict(\n",
    "        family=\"Arial\",\n",
    "        size=18,\n",
    "        color=\"crimson\"  \n",
    "    ),\n",
    "    marker=dict(\n",
    "        size=5\n",
    "    )\n",
    ")\n",
    "fig.show()"
   ]
  },
  {
   "cell_type": "code",
   "execution_count": 166,
   "id": "02c71cb1",
   "metadata": {},
   "outputs": [],
   "source": [
    "data = datosA.select_dtypes(include=[int,float])\n",
    "scaler = StandardScaler() #investigar qué hace\n",
    "data = scaler.fit_transform(data)"
   ]
  },
  {
   "cell_type": "markdown",
   "id": "59a2a63e",
   "metadata": {},
   "source": [
    "### Método del codo"
   ]
  },
  {
   "cell_type": "code",
   "execution_count": 167,
   "id": "66e636c6",
   "metadata": {
    "scrolled": true
   },
   "outputs": [
    {
     "data": {
      "image/png": "[encoded data removed]",
      "text/plain": [
       "<Figure size 800x550 with 2 Axes>"
      ]
     },
     "metadata": {},
     "output_type": "display_data"
    },
    {
     "data": {
      "text/plain": [
       "<AxesSubplot: title={'center': 'Distortion Score Elbow for KMeans Clustering'}, xlabel='k', ylabel='distortion score'>"
      ]
     },
     "execution_count": 167,
     "metadata": {},
     "output_type": "execute_result"
    }
   ],
   "source": [
    "km = KMeans(random_state=42)\n",
    "visualizer = KElbowVisualizer(km, k=(2,10))\n",
    " \n",
    "visualizer.fit(data)        # Fit the data to the visualizer\n",
    "visualizer.show()"
   ]
  },
  {
   "cell_type": "markdown",
   "id": "476726e8",
   "metadata": {},
   "source": [
    "Visualizamos que el gráfico no converge, sino que sigue bajando indefinidamente. Se elige k = 4 porque la librería yellowbrick proporciona un gráfico que sugiere un valor de k adecuado."
   ]
  },
  {
   "cell_type": "code",
   "execution_count": 168,
   "id": "2c42c661",
   "metadata": {},
   "outputs": [],
   "source": [
    "# Elegimos k = 4 a partir de la gráfica\n",
    "kmeans = KMeans(n_clusters=4, random_state=42)\n",
    "clusters = kmeans.fit(data)\n",
    "y_means = kmeans.predict(data).astype(str)\n",
    "y_means = y_means.reshape(133,1)\n",
    "centers = scaler.inverse_transform(kmeans.cluster_centers_) #quitamos escalamientos\n",
    "\n",
    "data_kmeans_elbow =  datosA.copy()\n",
    "data_kmeans_elbow[\"Cluster\"]= y_means"
   ]
  },
  {
   "cell_type": "code",
   "execution_count": 169,
   "id": "9cb0b4f6",
   "metadata": {},
   "outputs": [
    {
     "data": {
      "application/vnd.plotly.v1+json": {
       "config": {
        "plotlyServerURL": "https://plot.ly"
       },
       "data": [
        {
         "hovertemplate": "Cluster=2<br>Abonados=%{x}<br>DPIR=%{y}<br>FPI=%{z}<extra></extra>",
         "legendgroup": "2",
         "marker": {
          "color": "#636efa",
          "size": 5,
          "symbol": "circle"
         },
         "mode": "markers",
         "name": "2",
         "scene": "scene",
         "showlegend": true,
         "textfont": {
          "color": "crimson",
          "family": "Arial",
          "size": 15
         },
         "type": "scatter3d",
         "x": [
          3756,
          7039,
          9777,
          1012,
          8573,
          12032,
          5610,
          6181,
          1659,
          2762,
          2883,
          1210,
          797,
          4772,
          4777
         ],
         "y": [
          32.73,
          23.86,
          22.96,
          20.86,
          16.38,
          8.93,
          16.17,
          39.04,
          34.12,
          28.96,
          24.41,
          18.18,
          15.53,
          7.15,
          9.64
         ],
         "z": [
          25.97,
          24.46,
          26.82,
          29.87,
          22.06,
          28.17,
          22.05,
          28.81,
          29.52,
          31.47,
          28.25,
          29.36,
          25.61,
          28.31,
          30.43
         ]
        },
        {
         "hovertemplate": "Cluster=1<br>Abonados=%{x}<br>DPIR=%{y}<br>FPI=%{z}<extra></extra>",
         "legendgroup": "1",
         "marker": {
          "color": "#EF553B",
          "size": 5,
          "symbol": "circle"
         },
         "mode": "markers",
         "name": "1",
         "scene": "scene",
         "showlegend": true,
         "textfont": {
          "color": "crimson",
          "family": "Arial",
          "size": 15
         },
         "type": "scatter3d",
         "x": [
          2230,
          8644,
          74,
          373,
          2916,
          3796,
          6716,
          5860,
          10473,
          6279,
          8056,
          292,
          9000,
          12534,
          3937,
          8121,
          7065,
          5310,
          2685,
          9574,
          7199,
          5556,
          483,
          4251,
          4465,
          2756,
          3315,
          4801,
          2386,
          6121
         ],
         "y": [
          26.88,
          21.12,
          54.66,
          41.81,
          40.65,
          38.4,
          33.44,
          31.11,
          30.16,
          29.1,
          28.18,
          27.54,
          26.6,
          26.49,
          26.44,
          26.21,
          25.81,
          25.42,
          24.13,
          23.3,
          22,
          21.82,
          21.52,
          20.48,
          20.08,
          20.04,
          19.91,
          17.12,
          20.74,
          19.95
         ],
         "z": [
          14.23,
          18.52,
          19.17,
          11.88,
          14.85,
          22.09,
          14.77,
          12.69,
          18.52,
          17.48,
          18.88,
          17.7,
          11.5,
          18.08,
          17.65,
          7.63,
          18.54,
          11.82,
          16.21,
          12.3,
          9.75,
          13.55,
          19.44,
          13.62,
          11.79,
          16.99,
          12.5,
          16.09,
          13.05,
          19.7
         ]
        },
        {
         "hovertemplate": "Cluster=3<br>Abonados=%{x}<br>DPIR=%{y}<br>FPI=%{z}<extra></extra>",
         "legendgroup": "3",
         "marker": {
          "color": "#00cc96",
          "size": 5,
          "symbol": "circle"
         },
         "mode": "markers",
         "name": "3",
         "scene": "scene",
         "showlegend": true,
         "textfont": {
          "color": "crimson",
          "family": "Arial",
          "size": 15
         },
         "type": "scatter3d",
         "x": [
          6590,
          4508,
          834,
          4980,
          6212,
          4855,
          779,
          4929,
          445,
          5287,
          4722,
          3726,
          1,
          3034,
          3904,
          1305,
          2496,
          5375,
          135,
          1436,
          6414,
          7901,
          603,
          6226,
          2955,
          4424,
          2807,
          2645,
          6315,
          6768,
          5516,
          3909,
          7153,
          5279,
          6281,
          2168,
          5940,
          4984,
          2964,
          4782,
          4571,
          5149,
          4036,
          3952,
          6663,
          5252,
          342,
          6370
         ],
         "y": [
          18.63,
          16.45,
          12.83,
          11.47,
          10.99,
          10.87,
          10.51,
          8.42,
          8.17,
          7.17,
          6.72,
          6.61,
          6.56,
          6.35,
          11.51,
          10.15,
          15.52,
          15.24,
          13.9,
          8.45,
          6.63,
          6.54,
          19.9,
          16.71,
          16.68,
          15.26,
          15.22,
          14.58,
          14.45,
          12.68,
          11.9,
          11.45,
          9.25,
          9.24,
          8.45,
          7.76,
          7.8,
          6.92,
          6.86,
          6.66,
          23.6,
          20.3,
          17.5,
          16.61,
          16.1,
          7.86,
          19.93,
          7.38
         ],
         "z": [
          11.76,
          15.82,
          7.75,
          17.98,
          12.6,
          7.75,
          8.4,
          8.4,
          7.78,
          7.41,
          7.71,
          7.33,
          8,
          10.19,
          11.91,
          7.71,
          17.06,
          14.7,
          12.2,
          11.17,
          11.67,
          9.36,
          9.85,
          12.6,
          12.88,
          13.47,
          9.09,
          9.18,
          8.79,
          8.68,
          7.6,
          12.27,
          8.75,
          8.96,
          11.66,
          9.16,
          7.4,
          8.26,
          10.05,
          7.88,
          1.22,
          1.61,
          1.49,
          13.15,
          5.29,
          8.6,
          10.59,
          7.52
         ]
        },
        {
         "hovertemplate": "Cluster=0<br>Abonados=%{x}<br>DPIR=%{y}<br>FPI=%{z}<extra></extra>",
         "legendgroup": "0",
         "marker": {
          "color": "#ab63fa",
          "size": 5,
          "symbol": "circle"
         },
         "mode": "markers",
         "name": "0",
         "scene": "scene",
         "showlegend": true,
         "textfont": {
          "color": "crimson",
          "family": "Arial",
          "size": 15
         },
         "type": "scatter3d",
         "x": [
          17327,
          11346,
          14986,
          9650,
          17360,
          10355,
          11976,
          11155,
          10659,
          9407,
          14980,
          10556,
          12650,
          11528,
          11110,
          13469,
          14855,
          8198,
          12604,
          8859,
          12575,
          13457,
          15918,
          18025,
          12545,
          21394,
          11267,
          9973,
          10672,
          15594,
          13481,
          10878,
          9220,
          11162,
          16997,
          11889,
          11815,
          15517,
          8536,
          12512
         ],
         "y": [
          15.63,
          13.36,
          13.16,
          13.02,
          12.74,
          12.33,
          9.81,
          9.36,
          9.01,
          8.21,
          7.98,
          7.76,
          7.63,
          7.63,
          7.27,
          6.76,
          9.32,
          11.82,
          7.8,
          7.51,
          17.46,
          14.93,
          14.37,
          13.35,
          11.56,
          11.16,
          10.92,
          9.1,
          8.82,
          8.25,
          8,
          7.7,
          7.02,
          20.1,
          14.3,
          13.8,
          12.32,
          17.34,
          11.61,
          9.36
         ],
         "z": [
          11.52,
          11.62,
          9.98,
          7.54,
          9.76,
          19.72,
          23.1,
          12.38,
          7.91,
          9.37,
          15.01,
          21.24,
          14.9,
          10.75,
          13.32,
          11.5,
          14.05,
          16.71,
          11.35,
          8.53,
          12.04,
          9.96,
          9.94,
          10.16,
          8.4,
          9.72,
          9.76,
          8.6,
          8.12,
          14.83,
          9.32,
          1.02,
          10.35,
          1.11,
          12,
          7.5,
          8.1,
          15.95,
          11.46,
          9.99
         ]
        },
        {
         "marker": {
          "color": "yellow",
          "size": 5,
          "symbol": "diamond"
         },
         "mode": "markers",
         "name": "Centroids",
         "textfont": {
          "color": "crimson",
          "family": "Arial",
          "size": 15
         },
         "type": "scatter3d",
         "x": [
          12661.425,
          5175.6,
          4856,
          4123.375
         ],
         "y": [
          10.9895,
          27.037,
          21.261333333333333,
          11.890416666666667
         ],
         "z": [
          11.21475,
          15.366333333333332,
          27.410666666666664,
          9.597083333333334
         ]
        }
       ],
       "layout": {
        "legend": {
         "title": {
          "text": "Cluster"
         },
         "tracegroupgap": 0
        },
        "scene": {
         "domain": {
          "x": [
           0,
           1
          ],
          "y": [
           0,
           1
          ]
         },
         "xaxis": {
          "title": {
           "text": "Abonados"
          }
         },
         "yaxis": {
          "title": {
           "text": "DPIR"
          }
         },
         "zaxis": {
          "title": {
           "text": "FPI"
          }
         }
        },
        "template": {
         "data": {
          "bar": [
           {
            "error_x": {
             "color": "#2a3f5f"
            },
            "error_y": {
             "color": "#2a3f5f"
            },
            "marker": {
             "line": {
              "color": "#E5ECF6",
              "width": 0.5
             },
             "pattern": {
              "fillmode": "overlay",
              "size": 10,
              "solidity": 0.2
             }
            },
            "type": "bar"
           }
          ],
          "barpolar": [
           {
            "marker": {
             "line": {
              "color": "#E5ECF6",
              "width": 0.5
             },
             "pattern": {
              "fillmode": "overlay",
              "size": 10,
              "solidity": 0.2
             }
            },
            "type": "barpolar"
           }
          ],
          "carpet": [
           {
            "aaxis": {
             "endlinecolor": "#2a3f5f",
             "gridcolor": "white",
             "linecolor": "white",
             "minorgridcolor": "white",
             "startlinecolor": "#2a3f5f"
            },
            "baxis": {
             "endlinecolor": "#2a3f5f",
             "gridcolor": "white",
             "linecolor": "white",
             "minorgridcolor": "white",
             "startlinecolor": "#2a3f5f"
            },
            "type": "carpet"
           }
          ],
          "choropleth": [
           {
            "colorbar": {
             "outlinewidth": 0,
             "ticks": ""
            },
            "type": "choropleth"
           }
          ],
          "contour": [
           {
            "colorbar": {
             "outlinewidth": 0,
             "ticks": ""
            },
            "colorscale": [
             [
              0,
              "#0d0887"
             ],
             [
              0.1111111111111111,
              "#46039f"
             ],
             [
              0.2222222222222222,
              "#7201a8"
             ],
             [
              0.3333333333333333,
              "#9c179e"
             ],
             [
              0.4444444444444444,
              "#bd3786"
             ],
             [
              0.5555555555555556,
              "#d8576b"
             ],
             [
              0.6666666666666666,
              "#ed7953"
             ],
             [
              0.7777777777777778,
              "#fb9f3a"
             ],
             [
              0.8888888888888888,
              "#fdca26"
             ],
             [
              1,
              "#f0f921"
             ]
            ],
            "type": "contour"
           }
          ],
          "contourcarpet": [
           {
            "colorbar": {
             "outlinewidth": 0,
             "ticks": ""
            },
            "type": "contourcarpet"
           }
          ],
          "heatmap": [
           {
            "colorbar": {
             "outlinewidth": 0,
             "ticks": ""
            },
            "colorscale": [
             [
              0,
              "#0d0887"
             ],
             [
              0.1111111111111111,
              "#46039f"
             ],
             [
              0.2222222222222222,
              "#7201a8"
             ],
             [
              0.3333333333333333,
              "#9c179e"
             ],
             [
              0.4444444444444444,
              "#bd3786"
             ],
             [
              0.5555555555555556,
              "#d8576b"
             ],
             [
              0.6666666666666666,
              "#ed7953"
             ],
             [
              0.7777777777777778,
              "#fb9f3a"
             ],
             [
              0.8888888888888888,
              "#fdca26"
             ],
             [
              1,
              "#f0f921"
             ]
            ],
            "type": "heatmap"
           }
          ],
          "heatmapgl": [
           {
            "colorbar": {
             "outlinewidth": 0,
             "ticks": ""
            },
            "colorscale": [
             [
              0,
              "#0d0887"
             ],
             [
              0.1111111111111111,
              "#46039f"
             ],
             [
              0.2222222222222222,
              "#7201a8"
             ],
             [
              0.3333333333333333,
              "#9c179e"
             ],
             [
              0.4444444444444444,
              "#bd3786"
             ],
             [
              0.5555555555555556,
              "#d8576b"
             ],
             [
              0.6666666666666666,
              "#ed7953"
             ],
             [
              0.7777777777777778,
              "#fb9f3a"
             ],
             [
              0.8888888888888888,
              "#fdca26"
             ],
             [
              1,
              "#f0f921"
             ]
            ],
            "type": "heatmapgl"
           }
          ],
          "histogram": [
           {
            "marker": {
             "pattern": {
              "fillmode": "overlay",
              "size": 10,
              "solidity": 0.2
             }
            },
            "type": "histogram"
           }
          ],
          "histogram2d": [
           {
            "colorbar": {
             "outlinewidth": 0,
             "ticks": ""
            },
            "colorscale": [
             [
              0,
              "#0d0887"
             ],
             [
              0.1111111111111111,
              "#46039f"
             ],
             [
              0.2222222222222222,
              "#7201a8"
             ],
             [
              0.3333333333333333,
              "#9c179e"
             ],
             [
              0.4444444444444444,
              "#bd3786"
             ],
             [
              0.5555555555555556,
              "#d8576b"
             ],
             [
              0.6666666666666666,
              "#ed7953"
             ],
             [
              0.7777777777777778,
              "#fb9f3a"
             ],
             [
              0.8888888888888888,
              "#fdca26"
             ],
             [
              1,
              "#f0f921"
             ]
            ],
            "type": "histogram2d"
           }
          ],
          "histogram2dcontour": [
           {
            "colorbar": {
             "outlinewidth": 0,
             "ticks": ""
            },
            "colorscale": [
             [
              0,
              "#0d0887"
             ],
             [
              0.1111111111111111,
              "#46039f"
             ],
             [
              0.2222222222222222,
              "#7201a8"
             ],
             [
              0.3333333333333333,
              "#9c179e"
             ],
             [
              0.4444444444444444,
              "#bd3786"
             ],
             [
              0.5555555555555556,
              "#d8576b"
             ],
             [
              0.6666666666666666,
              "#ed7953"
             ],
             [
              0.7777777777777778,
              "#fb9f3a"
             ],
             [
              0.8888888888888888,
              "#fdca26"
             ],
             [
              1,
              "#f0f921"
             ]
            ],
            "type": "histogram2dcontour"
           }
          ],
          "mesh3d": [
           {
            "colorbar": {
             "outlinewidth": 0,
             "ticks": ""
            },
            "type": "mesh3d"
           }
          ],
          "parcoords": [
           {
            "line": {
             "colorbar": {
              "outlinewidth": 0,
              "ticks": ""
             }
            },
            "type": "parcoords"
           }
          ],
          "pie": [
           {
            "automargin": true,
            "type": "pie"
           }
          ],
          "scatter": [
           {
            "fillpattern": {
             "fillmode": "overlay",
             "size": 10,
             "solidity": 0.2
            },
            "type": "scatter"
           }
          ],
          "scatter3d": [
           {
            "line": {
             "colorbar": {
              "outlinewidth": 0,
              "ticks": ""
             }
            },
            "marker": {
             "colorbar": {
              "outlinewidth": 0,
              "ticks": ""
             }
            },
            "type": "scatter3d"
           }
          ],
          "scattercarpet": [
           {
            "marker": {
             "colorbar": {
              "outlinewidth": 0,
              "ticks": ""
             }
            },
            "type": "scattercarpet"
           }
          ],
          "scattergeo": [
           {
            "marker": {
             "colorbar": {
              "outlinewidth": 0,
              "ticks": ""
             }
            },
            "type": "scattergeo"
           }
          ],
          "scattergl": [
           {
            "marker": {
             "colorbar": {
              "outlinewidth": 0,
              "ticks": ""
             }
            },
            "type": "scattergl"
           }
          ],
          "scattermapbox": [
           {
            "marker": {
             "colorbar": {
              "outlinewidth": 0,
              "ticks": ""
             }
            },
            "type": "scattermapbox"
           }
          ],
          "scatterpolar": [
           {
            "marker": {
             "colorbar": {
              "outlinewidth": 0,
              "ticks": ""
             }
            },
            "type": "scatterpolar"
           }
          ],
          "scatterpolargl": [
           {
            "marker": {
             "colorbar": {
              "outlinewidth": 0,
              "ticks": ""
             }
            },
            "type": "scatterpolargl"
           }
          ],
          "scatterternary": [
           {
            "marker": {
             "colorbar": {
              "outlinewidth": 0,
              "ticks": ""
             }
            },
            "type": "scatterternary"
           }
          ],
          "surface": [
           {
            "colorbar": {
             "outlinewidth": 0,
             "ticks": ""
            },
            "colorscale": [
             [
              0,
              "#0d0887"
             ],
             [
              0.1111111111111111,
              "#46039f"
             ],
             [
              0.2222222222222222,
              "#7201a8"
             ],
             [
              0.3333333333333333,
              "#9c179e"
             ],
             [
              0.4444444444444444,
              "#bd3786"
             ],
             [
              0.5555555555555556,
              "#d8576b"
             ],
             [
              0.6666666666666666,
              "#ed7953"
             ],
             [
              0.7777777777777778,
              "#fb9f3a"
             ],
             [
              0.8888888888888888,
              "#fdca26"
             ],
             [
              1,
              "#f0f921"
             ]
            ],
            "type": "surface"
           }
          ],
          "table": [
           {
            "cells": {
             "fill": {
              "color": "#EBF0F8"
             },
             "line": {
              "color": "white"
             }
            },
            "header": {
             "fill": {
              "color": "#C8D4E3"
             },
             "line": {
              "color": "white"
             }
            },
            "type": "table"
           }
          ]
         },
         "layout": {
          "annotationdefaults": {
           "arrowcolor": "#2a3f5f",
           "arrowhead": 0,
           "arrowwidth": 1
          },
          "autotypenumbers": "strict",
          "coloraxis": {
           "colorbar": {
            "outlinewidth": 0,
            "ticks": ""
           }
          },
          "colorscale": {
           "diverging": [
            [
             0,
             "#8e0152"
            ],
            [
             0.1,
             "#c51b7d"
            ],
            [
             0.2,
             "#de77ae"
            ],
            [
             0.3,
             "#f1b6da"
            ],
            [
             0.4,
             "#fde0ef"
            ],
            [
             0.5,
             "#f7f7f7"
            ],
            [
             0.6,
             "#e6f5d0"
            ],
            [
             0.7,
             "#b8e186"
            ],
            [
             0.8,
             "#7fbc41"
            ],
            [
             0.9,
             "#4d9221"
            ],
            [
             1,
             "#276419"
            ]
           ],
           "sequential": [
            [
             0,
             "#0d0887"
            ],
            [
             0.1111111111111111,
             "#46039f"
            ],
            [
             0.2222222222222222,
             "#7201a8"
            ],
            [
             0.3333333333333333,
             "#9c179e"
            ],
            [
             0.4444444444444444,
             "#bd3786"
            ],
            [
             0.5555555555555556,
             "#d8576b"
            ],
            [
             0.6666666666666666,
             "#ed7953"
            ],
            [
             0.7777777777777778,
             "#fb9f3a"
            ],
            [
             0.8888888888888888,
             "#fdca26"
            ],
            [
             1,
             "#f0f921"
            ]
           ],
           "sequentialminus": [
            [
             0,
             "#0d0887"
            ],
            [
             0.1111111111111111,
             "#46039f"
            ],
            [
             0.2222222222222222,
             "#7201a8"
            ],
            [
             0.3333333333333333,
             "#9c179e"
            ],
            [
             0.4444444444444444,
             "#bd3786"
            ],
            [
             0.5555555555555556,
             "#d8576b"
            ],
            [
             0.6666666666666666,
             "#ed7953"
            ],
            [
             0.7777777777777778,
             "#fb9f3a"
            ],
            [
             0.8888888888888888,
             "#fdca26"
            ],
            [
             1,
             "#f0f921"
            ]
           ]
          },
          "colorway": [
           "#636efa",
           "#EF553B",
           "#00cc96",
           "#ab63fa",
           "#FFA15A",
           "#19d3f3",
           "#FF6692",
           "#B6E880",
           "#FF97FF",
           "#FECB52"
          ],
          "font": {
           "color": "#2a3f5f"
          },
          "geo": {
           "bgcolor": "white",
           "lakecolor": "white",
           "landcolor": "#E5ECF6",
           "showlakes": true,
           "showland": true,
           "subunitcolor": "white"
          },
          "hoverlabel": {
           "align": "left"
          },
          "hovermode": "closest",
          "mapbox": {
           "style": "light"
          },
          "paper_bgcolor": "white",
          "plot_bgcolor": "#E5ECF6",
          "polar": {
           "angularaxis": {
            "gridcolor": "white",
            "linecolor": "white",
            "ticks": ""
           },
           "bgcolor": "#E5ECF6",
           "radialaxis": {
            "gridcolor": "white",
            "linecolor": "white",
            "ticks": ""
           }
          },
          "scene": {
           "xaxis": {
            "backgroundcolor": "#E5ECF6",
            "gridcolor": "white",
            "gridwidth": 2,
            "linecolor": "white",
            "showbackground": true,
            "ticks": "",
            "zerolinecolor": "white"
           },
           "yaxis": {
            "backgroundcolor": "#E5ECF6",
            "gridcolor": "white",
            "gridwidth": 2,
            "linecolor": "white",
            "showbackground": true,
            "ticks": "",
            "zerolinecolor": "white"
           },
           "zaxis": {
            "backgroundcolor": "#E5ECF6",
            "gridcolor": "white",
            "gridwidth": 2,
            "linecolor": "white",
            "showbackground": true,
            "ticks": "",
            "zerolinecolor": "white"
           }
          },
          "shapedefaults": {
           "line": {
            "color": "#2a3f5f"
           }
          },
          "ternary": {
           "aaxis": {
            "gridcolor": "white",
            "linecolor": "white",
            "ticks": ""
           },
           "baxis": {
            "gridcolor": "white",
            "linecolor": "white",
            "ticks": ""
           },
           "bgcolor": "#E5ECF6",
           "caxis": {
            "gridcolor": "white",
            "linecolor": "white",
            "ticks": ""
           }
          },
          "title": {
           "x": 0.05
          },
          "xaxis": {
           "automargin": true,
           "gridcolor": "white",
           "linecolor": "white",
           "ticks": "",
           "title": {
            "standoff": 15
           },
           "zerolinecolor": "white",
           "zerolinewidth": 2
          },
          "yaxis": {
           "automargin": true,
           "gridcolor": "white",
           "linecolor": "white",
           "ticks": "",
           "title": {
            "standoff": 15
           },
           "zerolinecolor": "white",
           "zerolinewidth": 2
          }
         }
        },
        "title": {
         "text": "Clústers hechos con K-means y método del codo"
        }
       }
      },
      "text/html": [
       "<div>                            <div id=\"1ed9a7e9-40d7-48bb-8821-b0fcbdcf19eb\" class=\"plotly-graph-div\" style=\"height:525px; width:100%;\"></div>            <script type=\"text/javascript\">                require([\"plotly\"], function(Plotly) {                    window.PLOTLYENV=window.PLOTLYENV || {};                                    if (document.getElementById(\"1ed9a7e9-40d7-48bb-8821-b0fcbdcf19eb\")) {                    Plotly.newPlot(                        \"1ed9a7e9-40d7-48bb-8821-b0fcbdcf19eb\",                        [{\"hovertemplate\":\"Cluster=2\\u003cbr\\u003eAbonados=%{x}\\u003cbr\\u003eDPIR=%{y}\\u003cbr\\u003eFPI=%{z}\\u003cextra\\u003e\\u003c\\u002fextra\\u003e\",\"legendgroup\":\"2\",\"marker\":{\"color\":\"#636efa\",\"symbol\":\"circle\",\"size\":5},\"mode\":\"markers\",\"name\":\"2\",\"scene\":\"scene\",\"showlegend\":true,\"x\":[3756,7039,9777,1012,8573,12032,5610,6181,1659,2762,2883,1210,797,4772,4777],\"y\":[32.73,23.86,22.96,20.86,16.38,8.93,16.17,39.04,34.12,28.96,24.41,18.18,15.53,7.15,9.64],\"z\":[25.97,24.46,26.82,29.87,22.06,28.17,22.05,28.81,29.52,31.47,28.25,29.36,25.61,28.31,30.43],\"type\":\"scatter3d\",\"textfont\":{\"color\":\"crimson\",\"family\":\"Arial\",\"size\":15}},{\"hovertemplate\":\"Cluster=1\\u003cbr\\u003eAbonados=%{x}\\u003cbr\\u003eDPIR=%{y}\\u003cbr\\u003eFPI=%{z}\\u003cextra\\u003e\\u003c\\u002fextra\\u003e\",\"legendgroup\":\"1\",\"marker\":{\"color\":\"#EF553B\",\"symbol\":\"circle\",\"size\":5},\"mode\":\"markers\",\"name\":\"1\",\"scene\":\"scene\",\"showlegend\":true,\"x\":[2230,8644,74,373,2916,3796,6716,5860,10473,6279,8056,292,9000,12534,3937,8121,7065,5310,2685,9574,7199,5556,483,4251,4465,2756,3315,4801,2386,6121],\"y\":[26.88,21.12,54.66,41.81,40.65,38.4,33.44,31.11,30.16,29.1,28.18,27.54,26.6,26.49,26.44,26.21,25.81,25.42,24.13,23.3,22.0,21.82,21.52,20.48,20.08,20.04,19.91,17.12,20.74,19.95],\"z\":[14.23,18.52,19.17,11.88,14.85,22.09,14.77,12.69,18.52,17.48,18.88,17.7,11.5,18.08,17.65,7.63,18.54,11.82,16.21,12.3,9.75,13.55,19.44,13.62,11.79,16.99,12.5,16.09,13.05,19.7],\"type\":\"scatter3d\",\"textfont\":{\"color\":\"crimson\",\"family\":\"Arial\",\"size\":15}},{\"hovertemplate\":\"Cluster=3\\u003cbr\\u003eAbonados=%{x}\\u003cbr\\u003eDPIR=%{y}\\u003cbr\\u003eFPI=%{z}\\u003cextra\\u003e\\u003c\\u002fextra\\u003e\",\"legendgroup\":\"3\",\"marker\":{\"color\":\"#00cc96\",\"symbol\":\"circle\",\"size\":5},\"mode\":\"markers\",\"name\":\"3\",\"scene\":\"scene\",\"showlegend\":true,\"x\":[6590,4508,834,4980,6212,4855,779,4929,445,5287,4722,3726,1,3034,3904,1305,2496,5375,135,1436,6414,7901,603,6226,2955,4424,2807,2645,6315,6768,5516,3909,7153,5279,6281,2168,5940,4984,2964,4782,4571,5149,4036,3952,6663,5252,342,6370],\"y\":[18.63,16.45,12.83,11.47,10.99,10.87,10.51,8.42,8.17,7.17,6.72,6.61,6.56,6.35,11.51,10.15,15.52,15.24,13.9,8.45,6.63,6.54,19.9,16.71,16.68,15.26,15.22,14.58,14.45,12.68,11.9,11.45,9.25,9.24,8.45,7.76,7.8,6.92,6.86,6.66,23.6,20.3,17.5,16.61,16.1,7.86,19.93,7.38],\"z\":[11.76,15.82,7.75,17.98,12.6,7.75,8.4,8.4,7.78,7.41,7.71,7.33,8.0,10.19,11.91,7.71,17.06,14.7,12.2,11.17,11.67,9.36,9.85,12.6,12.88,13.47,9.09,9.18,8.79,8.68,7.6,12.27,8.75,8.96,11.66,9.16,7.4,8.26,10.05,7.88,1.22,1.61,1.49,13.15,5.29,8.6,10.59,7.52],\"type\":\"scatter3d\",\"textfont\":{\"color\":\"crimson\",\"family\":\"Arial\",\"size\":15}},{\"hovertemplate\":\"Cluster=0\\u003cbr\\u003eAbonados=%{x}\\u003cbr\\u003eDPIR=%{y}\\u003cbr\\u003eFPI=%{z}\\u003cextra\\u003e\\u003c\\u002fextra\\u003e\",\"legendgroup\":\"0\",\"marker\":{\"color\":\"#ab63fa\",\"symbol\":\"circle\",\"size\":5},\"mode\":\"markers\",\"name\":\"0\",\"scene\":\"scene\",\"showlegend\":true,\"x\":[17327,11346,14986,9650,17360,10355,11976,11155,10659,9407,14980,10556,12650,11528,11110,13469,14855,8198,12604,8859,12575,13457,15918,18025,12545,21394,11267,9973,10672,15594,13481,10878,9220,11162,16997,11889,11815,15517,8536,12512],\"y\":[15.63,13.36,13.16,13.02,12.74,12.33,9.81,9.36,9.01,8.21,7.98,7.76,7.63,7.63,7.27,6.76,9.32,11.82,7.8,7.51,17.46,14.93,14.37,13.35,11.56,11.16,10.92,9.1,8.82,8.25,8.0,7.7,7.02,20.1,14.3,13.8,12.32,17.34,11.61,9.36],\"z\":[11.52,11.62,9.98,7.54,9.76,19.72,23.1,12.38,7.91,9.37,15.01,21.24,14.9,10.75,13.32,11.5,14.05,16.71,11.35,8.53,12.04,9.96,9.94,10.16,8.4,9.72,9.76,8.6,8.12,14.83,9.32,1.02,10.35,1.11,12.0,7.5,8.1,15.95,11.46,9.99],\"type\":\"scatter3d\",\"textfont\":{\"color\":\"crimson\",\"family\":\"Arial\",\"size\":15}},{\"marker\":{\"color\":\"yellow\",\"size\":5,\"symbol\":\"diamond\"},\"mode\":\"markers\",\"name\":\"Centroids\",\"x\":[12661.425,5175.6,4856.0,4123.375],\"y\":[10.9895,27.037,21.261333333333333,11.890416666666667],\"z\":[11.21475,15.366333333333332,27.410666666666664,9.597083333333334],\"type\":\"scatter3d\",\"textfont\":{\"color\":\"crimson\",\"family\":\"Arial\",\"size\":15}}],                        {\"template\":{\"data\":{\"histogram2dcontour\":[{\"type\":\"histogram2dcontour\",\"colorbar\":{\"outlinewidth\":0,\"ticks\":\"\"},\"colorscale\":[[0.0,\"#0d0887\"],[0.1111111111111111,\"#46039f\"],[0.2222222222222222,\"#7201a8\"],[0.3333333333333333,\"#9c179e\"],[0.4444444444444444,\"#bd3786\"],[0.5555555555555556,\"#d8576b\"],[0.6666666666666666,\"#ed7953\"],[0.7777777777777778,\"#fb9f3a\"],[0.8888888888888888,\"#fdca26\"],[1.0,\"#f0f921\"]]}],\"choropleth\":[{\"type\":\"choropleth\",\"colorbar\":{\"outlinewidth\":0,\"ticks\":\"\"}}],\"histogram2d\":[{\"type\":\"histogram2d\",\"colorbar\":{\"outlinewidth\":0,\"ticks\":\"\"},\"colorscale\":[[0.0,\"#0d0887\"],[0.1111111111111111,\"#46039f\"],[0.2222222222222222,\"#7201a8\"],[0.3333333333333333,\"#9c179e\"],[0.4444444444444444,\"#bd3786\"],[0.5555555555555556,\"#d8576b\"],[0.6666666666666666,\"#ed7953\"],[0.7777777777777778,\"#fb9f3a\"],[0.8888888888888888,\"#fdca26\"],[1.0,\"#f0f921\"]]}],\"heatmap\":[{\"type\":\"heatmap\",\"colorbar\":{\"outlinewidth\":0,\"ticks\":\"\"},\"colorscale\":[[0.0,\"#0d0887\"],[0.1111111111111111,\"#46039f\"],[0.2222222222222222,\"#7201a8\"],[0.3333333333333333,\"#9c179e\"],[0.4444444444444444,\"#bd3786\"],[0.5555555555555556,\"#d8576b\"],[0.6666666666666666,\"#ed7953\"],[0.7777777777777778,\"#fb9f3a\"],[0.8888888888888888,\"#fdca26\"],[1.0,\"#f0f921\"]]}],\"heatmapgl\":[{\"type\":\"heatmapgl\",\"colorbar\":{\"outlinewidth\":0,\"ticks\":\"\"},\"colorscale\":[[0.0,\"#0d0887\"],[0.1111111111111111,\"#46039f\"],[0.2222222222222222,\"#7201a8\"],[0.3333333333333333,\"#9c179e\"],[0.4444444444444444,\"#bd3786\"],[0.5555555555555556,\"#d8576b\"],[0.6666666666666666,\"#ed7953\"],[0.7777777777777778,\"#fb9f3a\"],[0.8888888888888888,\"#fdca26\"],[1.0,\"#f0f921\"]]}],\"contourcarpet\":[{\"type\":\"contourcarpet\",\"colorbar\":{\"outlinewidth\":0,\"ticks\":\"\"}}],\"contour\":[{\"type\":\"contour\",\"colorbar\":{\"outlinewidth\":0,\"ticks\":\"\"},\"colorscale\":[[0.0,\"#0d0887\"],[0.1111111111111111,\"#46039f\"],[0.2222222222222222,\"#7201a8\"],[0.3333333333333333,\"#9c179e\"],[0.4444444444444444,\"#bd3786\"],[0.5555555555555556,\"#d8576b\"],[0.6666666666666666,\"#ed7953\"],[0.7777777777777778,\"#fb9f3a\"],[0.8888888888888888,\"#fdca26\"],[1.0,\"#f0f921\"]]}],\"surface\":[{\"type\":\"surface\",\"colorbar\":{\"outlinewidth\":0,\"ticks\":\"\"},\"colorscale\":[[0.0,\"#0d0887\"],[0.1111111111111111,\"#46039f\"],[0.2222222222222222,\"#7201a8\"],[0.3333333333333333,\"#9c179e\"],[0.4444444444444444,\"#bd3786\"],[0.5555555555555556,\"#d8576b\"],[0.6666666666666666,\"#ed7953\"],[0.7777777777777778,\"#fb9f3a\"],[0.8888888888888888,\"#fdca26\"],[1.0,\"#f0f921\"]]}],\"mesh3d\":[{\"type\":\"mesh3d\",\"colorbar\":{\"outlinewidth\":0,\"ticks\":\"\"}}],\"scatter\":[{\"fillpattern\":{\"fillmode\":\"overlay\",\"size\":10,\"solidity\":0.2},\"type\":\"scatter\"}],\"parcoords\":[{\"type\":\"parcoords\",\"line\":{\"colorbar\":{\"outlinewidth\":0,\"ticks\":\"\"}}}],\"scatterpolargl\":[{\"type\":\"scatterpolargl\",\"marker\":{\"colorbar\":{\"outlinewidth\":0,\"ticks\":\"\"}}}],\"bar\":[{\"error_x\":{\"color\":\"#2a3f5f\"},\"error_y\":{\"color\":\"#2a3f5f\"},\"marker\":{\"line\":{\"color\":\"#E5ECF6\",\"width\":0.5},\"pattern\":{\"fillmode\":\"overlay\",\"size\":10,\"solidity\":0.2}},\"type\":\"bar\"}],\"scattergeo\":[{\"type\":\"scattergeo\",\"marker\":{\"colorbar\":{\"outlinewidth\":0,\"ticks\":\"\"}}}],\"scatterpolar\":[{\"type\":\"scatterpolar\",\"marker\":{\"colorbar\":{\"outlinewidth\":0,\"ticks\":\"\"}}}],\"histogram\":[{\"marker\":{\"pattern\":{\"fillmode\":\"overlay\",\"size\":10,\"solidity\":0.2}},\"type\":\"histogram\"}],\"scattergl\":[{\"type\":\"scattergl\",\"marker\":{\"colorbar\":{\"outlinewidth\":0,\"ticks\":\"\"}}}],\"scatter3d\":[{\"type\":\"scatter3d\",\"line\":{\"colorbar\":{\"outlinewidth\":0,\"ticks\":\"\"}},\"marker\":{\"colorbar\":{\"outlinewidth\":0,\"ticks\":\"\"}}}],\"scattermapbox\":[{\"type\":\"scattermapbox\",\"marker\":{\"colorbar\":{\"outlinewidth\":0,\"ticks\":\"\"}}}],\"scatterternary\":[{\"type\":\"scatterternary\",\"marker\":{\"colorbar\":{\"outlinewidth\":0,\"ticks\":\"\"}}}],\"scattercarpet\":[{\"type\":\"scattercarpet\",\"marker\":{\"colorbar\":{\"outlinewidth\":0,\"ticks\":\"\"}}}],\"carpet\":[{\"aaxis\":{\"endlinecolor\":\"#2a3f5f\",\"gridcolor\":\"white\",\"linecolor\":\"white\",\"minorgridcolor\":\"white\",\"startlinecolor\":\"#2a3f5f\"},\"baxis\":{\"endlinecolor\":\"#2a3f5f\",\"gridcolor\":\"white\",\"linecolor\":\"white\",\"minorgridcolor\":\"white\",\"startlinecolor\":\"#2a3f5f\"},\"type\":\"carpet\"}],\"table\":[{\"cells\":{\"fill\":{\"color\":\"#EBF0F8\"},\"line\":{\"color\":\"white\"}},\"header\":{\"fill\":{\"color\":\"#C8D4E3\"},\"line\":{\"color\":\"white\"}},\"type\":\"table\"}],\"barpolar\":[{\"marker\":{\"line\":{\"color\":\"#E5ECF6\",\"width\":0.5},\"pattern\":{\"fillmode\":\"overlay\",\"size\":10,\"solidity\":0.2}},\"type\":\"barpolar\"}],\"pie\":[{\"automargin\":true,\"type\":\"pie\"}]},\"layout\":{\"autotypenumbers\":\"strict\",\"colorway\":[\"#636efa\",\"#EF553B\",\"#00cc96\",\"#ab63fa\",\"#FFA15A\",\"#19d3f3\",\"#FF6692\",\"#B6E880\",\"#FF97FF\",\"#FECB52\"],\"font\":{\"color\":\"#2a3f5f\"},\"hovermode\":\"closest\",\"hoverlabel\":{\"align\":\"left\"},\"paper_bgcolor\":\"white\",\"plot_bgcolor\":\"#E5ECF6\",\"polar\":{\"bgcolor\":\"#E5ECF6\",\"angularaxis\":{\"gridcolor\":\"white\",\"linecolor\":\"white\",\"ticks\":\"\"},\"radialaxis\":{\"gridcolor\":\"white\",\"linecolor\":\"white\",\"ticks\":\"\"}},\"ternary\":{\"bgcolor\":\"#E5ECF6\",\"aaxis\":{\"gridcolor\":\"white\",\"linecolor\":\"white\",\"ticks\":\"\"},\"baxis\":{\"gridcolor\":\"white\",\"linecolor\":\"white\",\"ticks\":\"\"},\"caxis\":{\"gridcolor\":\"white\",\"linecolor\":\"white\",\"ticks\":\"\"}},\"coloraxis\":{\"colorbar\":{\"outlinewidth\":0,\"ticks\":\"\"}},\"colorscale\":{\"sequential\":[[0.0,\"#0d0887\"],[0.1111111111111111,\"#46039f\"],[0.2222222222222222,\"#7201a8\"],[0.3333333333333333,\"#9c179e\"],[0.4444444444444444,\"#bd3786\"],[0.5555555555555556,\"#d8576b\"],[0.6666666666666666,\"#ed7953\"],[0.7777777777777778,\"#fb9f3a\"],[0.8888888888888888,\"#fdca26\"],[1.0,\"#f0f921\"]],\"sequentialminus\":[[0.0,\"#0d0887\"],[0.1111111111111111,\"#46039f\"],[0.2222222222222222,\"#7201a8\"],[0.3333333333333333,\"#9c179e\"],[0.4444444444444444,\"#bd3786\"],[0.5555555555555556,\"#d8576b\"],[0.6666666666666666,\"#ed7953\"],[0.7777777777777778,\"#fb9f3a\"],[0.8888888888888888,\"#fdca26\"],[1.0,\"#f0f921\"]],\"diverging\":[[0,\"#8e0152\"],[0.1,\"#c51b7d\"],[0.2,\"#de77ae\"],[0.3,\"#f1b6da\"],[0.4,\"#fde0ef\"],[0.5,\"#f7f7f7\"],[0.6,\"#e6f5d0\"],[0.7,\"#b8e186\"],[0.8,\"#7fbc41\"],[0.9,\"#4d9221\"],[1,\"#276419\"]]},\"xaxis\":{\"gridcolor\":\"white\",\"linecolor\":\"white\",\"ticks\":\"\",\"title\":{\"standoff\":15},\"zerolinecolor\":\"white\",\"automargin\":true,\"zerolinewidth\":2},\"yaxis\":{\"gridcolor\":\"white\",\"linecolor\":\"white\",\"ticks\":\"\",\"title\":{\"standoff\":15},\"zerolinecolor\":\"white\",\"automargin\":true,\"zerolinewidth\":2},\"scene\":{\"xaxis\":{\"backgroundcolor\":\"#E5ECF6\",\"gridcolor\":\"white\",\"linecolor\":\"white\",\"showbackground\":true,\"ticks\":\"\",\"zerolinecolor\":\"white\",\"gridwidth\":2},\"yaxis\":{\"backgroundcolor\":\"#E5ECF6\",\"gridcolor\":\"white\",\"linecolor\":\"white\",\"showbackground\":true,\"ticks\":\"\",\"zerolinecolor\":\"white\",\"gridwidth\":2},\"zaxis\":{\"backgroundcolor\":\"#E5ECF6\",\"gridcolor\":\"white\",\"linecolor\":\"white\",\"showbackground\":true,\"ticks\":\"\",\"zerolinecolor\":\"white\",\"gridwidth\":2}},\"shapedefaults\":{\"line\":{\"color\":\"#2a3f5f\"}},\"annotationdefaults\":{\"arrowcolor\":\"#2a3f5f\",\"arrowhead\":0,\"arrowwidth\":1},\"geo\":{\"bgcolor\":\"white\",\"landcolor\":\"#E5ECF6\",\"subunitcolor\":\"white\",\"showland\":true,\"showlakes\":true,\"lakecolor\":\"white\"},\"title\":{\"x\":0.05},\"mapbox\":{\"style\":\"light\"}}},\"scene\":{\"domain\":{\"x\":[0.0,1.0],\"y\":[0.0,1.0]},\"xaxis\":{\"title\":{\"text\":\"Abonados\"}},\"yaxis\":{\"title\":{\"text\":\"DPIR\"}},\"zaxis\":{\"title\":{\"text\":\"FPI\"}}},\"legend\":{\"title\":{\"text\":\"Cluster\"},\"tracegroupgap\":0},\"title\":{\"text\":\"Cl\\u00fasters hechos con K-means y m\\u00e9todo del codo\"}},                        {\"responsive\": true}                    ).then(function(){\n",
       "                            \n",
       "var gd = document.getElementById('1ed9a7e9-40d7-48bb-8821-b0fcbdcf19eb');\n",
       "var x = new MutationObserver(function (mutations, observer) {{\n",
       "        var display = window.getComputedStyle(gd).display;\n",
       "        if (!display || display === 'none') {{\n",
       "            console.log([gd, 'removed!']);\n",
       "            Plotly.purge(gd);\n",
       "            observer.disconnect();\n",
       "        }}\n",
       "}});\n",
       "\n",
       "// Listen for the removal of the full notebook cells\n",
       "var notebookContainer = gd.closest('#notebook-container');\n",
       "if (notebookContainer) {{\n",
       "    x.observe(notebookContainer, {childList: true});\n",
       "}}\n",
       "\n",
       "// Listen for the clearing of the current output cell\n",
       "var outputEl = gd.closest('.output');\n",
       "if (outputEl) {{\n",
       "    x.observe(outputEl, {childList: true});\n",
       "}}\n",
       "\n",
       "                        })                };                });            </script>        </div>"
      ]
     },
     "metadata": {},
     "output_type": "display_data"
    }
   ],
   "source": [
    "fig = px.scatter_3d(data_kmeans_elbow, x=\"Abonados\", y=\"DPIR\", z=\"FPI\", color=\"Cluster\", \n",
    "                    title='Clústers hechos con K-means y método del codo')\n",
    "fig.add_trace(go.Scatter3d(\n",
    "    x=centers[:, 0],\n",
    "    y=centers[:, 1],\n",
    "    z=centers[:, 2],\n",
    "    mode='markers',\n",
    "    marker=dict(size=20, color='yellow',symbol='diamond'),\n",
    "    name='Centroids'\n",
    "))\n",
    "\n",
    "fig.update_traces(\n",
    "    textfont=dict(\n",
    "        family=\"Arial\",\n",
    "        size=15,\n",
    "        color=\"crimson\"  \n",
    "    ),\n",
    "    marker=dict(\n",
    "        size=5,\n",
    "    )\n",
    ")\n",
    "fig.show()"
   ]
  },
  {
   "cell_type": "markdown",
   "id": "d8b3545c",
   "metadata": {},
   "source": [
    "### Coeficiente silueta"
   ]
  },
  {
   "cell_type": "code",
   "execution_count": 170,
   "id": "cd3b9b0b",
   "metadata": {
    "scrolled": true
   },
   "outputs": [
    {
     "data": {
      "application/vnd.plotly.v1+json": {
       "config": {
        "plotlyServerURL": "https://plot.ly"
       },
       "data": [
        {
         "hovertemplate": "Número de Clusters=%{x}<br>Coeficiente silueta=%{y}<extra></extra>",
         "legendgroup": "",
         "line": {
          "color": "#636efa",
          "dash": "solid"
         },
         "marker": {
          "symbol": "circle"
         },
         "mode": "lines",
         "name": "",
         "orientation": "v",
         "showlegend": false,
         "type": "scatter",
         "x": [
          2,
          3,
          4,
          5,
          6,
          7,
          8
         ],
         "xaxis": "x",
         "y": [
          0.34598434821821394,
          0.34518169095568146,
          0.3405160072503341,
          0.3512335245994012,
          0.3531291152336983,
          0.3048931147206598,
          0.3243562567043207
         ],
         "yaxis": "y"
        }
       ],
       "layout": {
        "height": 600,
        "legend": {
         "tracegroupgap": 0
        },
        "template": {
         "data": {
          "bar": [
           {
            "error_x": {
             "color": "#2a3f5f"
            },
            "error_y": {
             "color": "#2a3f5f"
            },
            "marker": {
             "line": {
              "color": "#E5ECF6",
              "width": 0.5
             },
             "pattern": {
              "fillmode": "overlay",
              "size": 10,
              "solidity": 0.2
             }
            },
            "type": "bar"
           }
          ],
          "barpolar": [
           {
            "marker": {
             "line": {
              "color": "#E5ECF6",
              "width": 0.5
             },
             "pattern": {
              "fillmode": "overlay",
              "size": 10,
              "solidity": 0.2
             }
            },
            "type": "barpolar"
           }
          ],
          "carpet": [
           {
            "aaxis": {
             "endlinecolor": "#2a3f5f",
             "gridcolor": "white",
             "linecolor": "white",
             "minorgridcolor": "white",
             "startlinecolor": "#2a3f5f"
            },
            "baxis": {
             "endlinecolor": "#2a3f5f",
             "gridcolor": "white",
             "linecolor": "white",
             "minorgridcolor": "white",
             "startlinecolor": "#2a3f5f"
            },
            "type": "carpet"
           }
          ],
          "choropleth": [
           {
            "colorbar": {
             "outlinewidth": 0,
             "ticks": ""
            },
            "type": "choropleth"
           }
          ],
          "contour": [
           {
            "colorbar": {
             "outlinewidth": 0,
             "ticks": ""
            },
            "colorscale": [
             [
              0,
              "#0d0887"
             ],
             [
              0.1111111111111111,
              "#46039f"
             ],
             [
              0.2222222222222222,
              "#7201a8"
             ],
             [
              0.3333333333333333,
              "#9c179e"
             ],
             [
              0.4444444444444444,
              "#bd3786"
             ],
             [
              0.5555555555555556,
              "#d8576b"
             ],
             [
              0.6666666666666666,
              "#ed7953"
             ],
             [
              0.7777777777777778,
              "#fb9f3a"
             ],
             [
              0.8888888888888888,
              "#fdca26"
             ],
             [
              1,
              "#f0f921"
             ]
            ],
            "type": "contour"
           }
          ],
          "contourcarpet": [
           {
            "colorbar": {
             "outlinewidth": 0,
             "ticks": ""
            },
            "type": "contourcarpet"
           }
          ],
          "heatmap": [
           {
            "colorbar": {
             "outlinewidth": 0,
             "ticks": ""
            },
            "colorscale": [
             [
              0,
              "#0d0887"
             ],
             [
              0.1111111111111111,
              "#46039f"
             ],
             [
              0.2222222222222222,
              "#7201a8"
             ],
             [
              0.3333333333333333,
              "#9c179e"
             ],
             [
              0.4444444444444444,
              "#bd3786"
             ],
             [
              0.5555555555555556,
              "#d8576b"
             ],
             [
              0.6666666666666666,
              "#ed7953"
             ],
             [
              0.7777777777777778,
              "#fb9f3a"
             ],
             [
              0.8888888888888888,
              "#fdca26"
             ],
             [
              1,
              "#f0f921"
             ]
            ],
            "type": "heatmap"
           }
          ],
          "heatmapgl": [
           {
            "colorbar": {
             "outlinewidth": 0,
             "ticks": ""
            },
            "colorscale": [
             [
              0,
              "#0d0887"
             ],
             [
              0.1111111111111111,
              "#46039f"
             ],
             [
              0.2222222222222222,
              "#7201a8"
             ],
             [
              0.3333333333333333,
              "#9c179e"
             ],
             [
              0.4444444444444444,
              "#bd3786"
             ],
             [
              0.5555555555555556,
              "#d8576b"
             ],
             [
              0.6666666666666666,
              "#ed7953"
             ],
             [
              0.7777777777777778,
              "#fb9f3a"
             ],
             [
              0.8888888888888888,
              "#fdca26"
             ],
             [
              1,
              "#f0f921"
             ]
            ],
            "type": "heatmapgl"
           }
          ],
          "histogram": [
           {
            "marker": {
             "pattern": {
              "fillmode": "overlay",
              "size": 10,
              "solidity": 0.2
             }
            },
            "type": "histogram"
           }
          ],
          "histogram2d": [
           {
            "colorbar": {
             "outlinewidth": 0,
             "ticks": ""
            },
            "colorscale": [
             [
              0,
              "#0d0887"
             ],
             [
              0.1111111111111111,
              "#46039f"
             ],
             [
              0.2222222222222222,
              "#7201a8"
             ],
             [
              0.3333333333333333,
              "#9c179e"
             ],
             [
              0.4444444444444444,
              "#bd3786"
             ],
             [
              0.5555555555555556,
              "#d8576b"
             ],
             [
              0.6666666666666666,
              "#ed7953"
             ],
             [
              0.7777777777777778,
              "#fb9f3a"
             ],
             [
              0.8888888888888888,
              "#fdca26"
             ],
             [
              1,
              "#f0f921"
             ]
            ],
            "type": "histogram2d"
           }
          ],
          "histogram2dcontour": [
           {
            "colorbar": {
             "outlinewidth": 0,
             "ticks": ""
            },
            "colorscale": [
             [
              0,
              "#0d0887"
             ],
             [
              0.1111111111111111,
              "#46039f"
             ],
             [
              0.2222222222222222,
              "#7201a8"
             ],
             [
              0.3333333333333333,
              "#9c179e"
             ],
             [
              0.4444444444444444,
              "#bd3786"
             ],
             [
              0.5555555555555556,
              "#d8576b"
             ],
             [
              0.6666666666666666,
              "#ed7953"
             ],
             [
              0.7777777777777778,
              "#fb9f3a"
             ],
             [
              0.8888888888888888,
              "#fdca26"
             ],
             [
              1,
              "#f0f921"
             ]
            ],
            "type": "histogram2dcontour"
           }
          ],
          "mesh3d": [
           {
            "colorbar": {
             "outlinewidth": 0,
             "ticks": ""
            },
            "type": "mesh3d"
           }
          ],
          "parcoords": [
           {
            "line": {
             "colorbar": {
              "outlinewidth": 0,
              "ticks": ""
             }
            },
            "type": "parcoords"
           }
          ],
          "pie": [
           {
            "automargin": true,
            "type": "pie"
           }
          ],
          "scatter": [
           {
            "fillpattern": {
             "fillmode": "overlay",
             "size": 10,
             "solidity": 0.2
            },
            "type": "scatter"
           }
          ],
          "scatter3d": [
           {
            "line": {
             "colorbar": {
              "outlinewidth": 0,
              "ticks": ""
             }
            },
            "marker": {
             "colorbar": {
              "outlinewidth": 0,
              "ticks": ""
             }
            },
            "type": "scatter3d"
           }
          ],
          "scattercarpet": [
           {
            "marker": {
             "colorbar": {
              "outlinewidth": 0,
              "ticks": ""
             }
            },
            "type": "scattercarpet"
           }
          ],
          "scattergeo": [
           {
            "marker": {
             "colorbar": {
              "outlinewidth": 0,
              "ticks": ""
             }
            },
            "type": "scattergeo"
           }
          ],
          "scattergl": [
           {
            "marker": {
             "colorbar": {
              "outlinewidth": 0,
              "ticks": ""
             }
            },
            "type": "scattergl"
           }
          ],
          "scattermapbox": [
           {
            "marker": {
             "colorbar": {
              "outlinewidth": 0,
              "ticks": ""
             }
            },
            "type": "scattermapbox"
           }
          ],
          "scatterpolar": [
           {
            "marker": {
             "colorbar": {
              "outlinewidth": 0,
              "ticks": ""
             }
            },
            "type": "scatterpolar"
           }
          ],
          "scatterpolargl": [
           {
            "marker": {
             "colorbar": {
              "outlinewidth": 0,
              "ticks": ""
             }
            },
            "type": "scatterpolargl"
           }
          ],
          "scatterternary": [
           {
            "marker": {
             "colorbar": {
              "outlinewidth": 0,
              "ticks": ""
             }
            },
            "type": "scatterternary"
           }
          ],
          "surface": [
           {
            "colorbar": {
             "outlinewidth": 0,
             "ticks": ""
            },
            "colorscale": [
             [
              0,
              "#0d0887"
             ],
             [
              0.1111111111111111,
              "#46039f"
             ],
             [
              0.2222222222222222,
              "#7201a8"
             ],
             [
              0.3333333333333333,
              "#9c179e"
             ],
             [
              0.4444444444444444,
              "#bd3786"
             ],
             [
              0.5555555555555556,
              "#d8576b"
             ],
             [
              0.6666666666666666,
              "#ed7953"
             ],
             [
              0.7777777777777778,
              "#fb9f3a"
             ],
             [
              0.8888888888888888,
              "#fdca26"
             ],
             [
              1,
              "#f0f921"
             ]
            ],
            "type": "surface"
           }
          ],
          "table": [
           {
            "cells": {
             "fill": {
              "color": "#EBF0F8"
             },
             "line": {
              "color": "white"
             }
            },
            "header": {
             "fill": {
              "color": "#C8D4E3"
             },
             "line": {
              "color": "white"
             }
            },
            "type": "table"
           }
          ]
         },
         "layout": {
          "annotationdefaults": {
           "arrowcolor": "#2a3f5f",
           "arrowhead": 0,
           "arrowwidth": 1
          },
          "autotypenumbers": "strict",
          "coloraxis": {
           "colorbar": {
            "outlinewidth": 0,
            "ticks": ""
           }
          },
          "colorscale": {
           "diverging": [
            [
             0,
             "#8e0152"
            ],
            [
             0.1,
             "#c51b7d"
            ],
            [
             0.2,
             "#de77ae"
            ],
            [
             0.3,
             "#f1b6da"
            ],
            [
             0.4,
             "#fde0ef"
            ],
            [
             0.5,
             "#f7f7f7"
            ],
            [
             0.6,
             "#e6f5d0"
            ],
            [
             0.7,
             "#b8e186"
            ],
            [
             0.8,
             "#7fbc41"
            ],
            [
             0.9,
             "#4d9221"
            ],
            [
             1,
             "#276419"
            ]
           ],
           "sequential": [
            [
             0,
             "#0d0887"
            ],
            [
             0.1111111111111111,
             "#46039f"
            ],
            [
             0.2222222222222222,
             "#7201a8"
            ],
            [
             0.3333333333333333,
             "#9c179e"
            ],
            [
             0.4444444444444444,
             "#bd3786"
            ],
            [
             0.5555555555555556,
             "#d8576b"
            ],
            [
             0.6666666666666666,
             "#ed7953"
            ],
            [
             0.7777777777777778,
             "#fb9f3a"
            ],
            [
             0.8888888888888888,
             "#fdca26"
            ],
            [
             1,
             "#f0f921"
            ]
           ],
           "sequentialminus": [
            [
             0,
             "#0d0887"
            ],
            [
             0.1111111111111111,
             "#46039f"
            ],
            [
             0.2222222222222222,
             "#7201a8"
            ],
            [
             0.3333333333333333,
             "#9c179e"
            ],
            [
             0.4444444444444444,
             "#bd3786"
            ],
            [
             0.5555555555555556,
             "#d8576b"
            ],
            [
             0.6666666666666666,
             "#ed7953"
            ],
            [
             0.7777777777777778,
             "#fb9f3a"
            ],
            [
             0.8888888888888888,
             "#fdca26"
            ],
            [
             1,
             "#f0f921"
            ]
           ]
          },
          "colorway": [
           "#636efa",
           "#EF553B",
           "#00cc96",
           "#ab63fa",
           "#FFA15A",
           "#19d3f3",
           "#FF6692",
           "#B6E880",
           "#FF97FF",
           "#FECB52"
          ],
          "font": {
           "color": "#2a3f5f"
          },
          "geo": {
           "bgcolor": "white",
           "lakecolor": "white",
           "landcolor": "#E5ECF6",
           "showlakes": true,
           "showland": true,
           "subunitcolor": "white"
          },
          "hoverlabel": {
           "align": "left"
          },
          "hovermode": "closest",
          "mapbox": {
           "style": "light"
          },
          "paper_bgcolor": "white",
          "plot_bgcolor": "#E5ECF6",
          "polar": {
           "angularaxis": {
            "gridcolor": "white",
            "linecolor": "white",
            "ticks": ""
           },
           "bgcolor": "#E5ECF6",
           "radialaxis": {
            "gridcolor": "white",
            "linecolor": "white",
            "ticks": ""
           }
          },
          "scene": {
           "xaxis": {
            "backgroundcolor": "#E5ECF6",
            "gridcolor": "white",
            "gridwidth": 2,
            "linecolor": "white",
            "showbackground": true,
            "ticks": "",
            "zerolinecolor": "white"
           },
           "yaxis": {
            "backgroundcolor": "#E5ECF6",
            "gridcolor": "white",
            "gridwidth": 2,
            "linecolor": "white",
            "showbackground": true,
            "ticks": "",
            "zerolinecolor": "white"
           },
           "zaxis": {
            "backgroundcolor": "#E5ECF6",
            "gridcolor": "white",
            "gridwidth": 2,
            "linecolor": "white",
            "showbackground": true,
            "ticks": "",
            "zerolinecolor": "white"
           }
          },
          "shapedefaults": {
           "line": {
            "color": "#2a3f5f"
           }
          },
          "ternary": {
           "aaxis": {
            "gridcolor": "white",
            "linecolor": "white",
            "ticks": ""
           },
           "baxis": {
            "gridcolor": "white",
            "linecolor": "white",
            "ticks": ""
           },
           "bgcolor": "#E5ECF6",
           "caxis": {
            "gridcolor": "white",
            "linecolor": "white",
            "ticks": ""
           }
          },
          "title": {
           "x": 0.05
          },
          "xaxis": {
           "automargin": true,
           "gridcolor": "white",
           "linecolor": "white",
           "ticks": "",
           "title": {
            "standoff": 15
           },
           "zerolinecolor": "white",
           "zerolinewidth": 2
          },
          "yaxis": {
           "automargin": true,
           "gridcolor": "white",
           "linecolor": "white",
           "ticks": "",
           "title": {
            "standoff": 15
           },
           "zerolinecolor": "white",
           "zerolinewidth": 2
          }
         }
        },
        "title": {
         "text": "Método del Coeficiente silueta"
        },
        "width": 600,
        "xaxis": {
         "anchor": "y",
         "domain": [
          0,
          1
         ],
         "title": {
          "text": "Número de Clusters"
         }
        },
        "yaxis": {
         "anchor": "x",
         "domain": [
          0,
          1
         ],
         "title": {
          "text": "Coeficiente silueta"
         }
        }
       }
      },
      "text/html": [
       "<div>                            <div id=\"2065a2b2-7862-436d-bd8c-070a0c8edbf3\" class=\"plotly-graph-div\" style=\"height:600px; width:600px;\"></div>            <script type=\"text/javascript\">                require([\"plotly\"], function(Plotly) {                    window.PLOTLYENV=window.PLOTLYENV || {};                                    if (document.getElementById(\"2065a2b2-7862-436d-bd8c-070a0c8edbf3\")) {                    Plotly.newPlot(                        \"2065a2b2-7862-436d-bd8c-070a0c8edbf3\",                        [{\"hovertemplate\":\"N\\u00famero de Clusters=%{x}\\u003cbr\\u003eCoeficiente silueta=%{y}\\u003cextra\\u003e\\u003c\\u002fextra\\u003e\",\"legendgroup\":\"\",\"line\":{\"color\":\"#636efa\",\"dash\":\"solid\"},\"marker\":{\"symbol\":\"circle\"},\"mode\":\"lines\",\"name\":\"\",\"orientation\":\"v\",\"showlegend\":false,\"x\":[2,3,4,5,6,7,8],\"xaxis\":\"x\",\"y\":[0.34598434821821394,0.34518169095568146,0.3405160072503341,0.3512335245994012,0.3531291152336983,0.3048931147206598,0.3243562567043207],\"yaxis\":\"y\",\"type\":\"scatter\"}],                        {\"template\":{\"data\":{\"histogram2dcontour\":[{\"type\":\"histogram2dcontour\",\"colorbar\":{\"outlinewidth\":0,\"ticks\":\"\"},\"colorscale\":[[0.0,\"#0d0887\"],[0.1111111111111111,\"#46039f\"],[0.2222222222222222,\"#7201a8\"],[0.3333333333333333,\"#9c179e\"],[0.4444444444444444,\"#bd3786\"],[0.5555555555555556,\"#d8576b\"],[0.6666666666666666,\"#ed7953\"],[0.7777777777777778,\"#fb9f3a\"],[0.8888888888888888,\"#fdca26\"],[1.0,\"#f0f921\"]]}],\"choropleth\":[{\"type\":\"choropleth\",\"colorbar\":{\"outlinewidth\":0,\"ticks\":\"\"}}],\"histogram2d\":[{\"type\":\"histogram2d\",\"colorbar\":{\"outlinewidth\":0,\"ticks\":\"\"},\"colorscale\":[[0.0,\"#0d0887\"],[0.1111111111111111,\"#46039f\"],[0.2222222222222222,\"#7201a8\"],[0.3333333333333333,\"#9c179e\"],[0.4444444444444444,\"#bd3786\"],[0.5555555555555556,\"#d8576b\"],[0.6666666666666666,\"#ed7953\"],[0.7777777777777778,\"#fb9f3a\"],[0.8888888888888888,\"#fdca26\"],[1.0,\"#f0f921\"]]}],\"heatmap\":[{\"type\":\"heatmap\",\"colorbar\":{\"outlinewidth\":0,\"ticks\":\"\"},\"colorscale\":[[0.0,\"#0d0887\"],[0.1111111111111111,\"#46039f\"],[0.2222222222222222,\"#7201a8\"],[0.3333333333333333,\"#9c179e\"],[0.4444444444444444,\"#bd3786\"],[0.5555555555555556,\"#d8576b\"],[0.6666666666666666,\"#ed7953\"],[0.7777777777777778,\"#fb9f3a\"],[0.8888888888888888,\"#fdca26\"],[1.0,\"#f0f921\"]]}],\"heatmapgl\":[{\"type\":\"heatmapgl\",\"colorbar\":{\"outlinewidth\":0,\"ticks\":\"\"},\"colorscale\":[[0.0,\"#0d0887\"],[0.1111111111111111,\"#46039f\"],[0.2222222222222222,\"#7201a8\"],[0.3333333333333333,\"#9c179e\"],[0.4444444444444444,\"#bd3786\"],[0.5555555555555556,\"#d8576b\"],[0.6666666666666666,\"#ed7953\"],[0.7777777777777778,\"#fb9f3a\"],[0.8888888888888888,\"#fdca26\"],[1.0,\"#f0f921\"]]}],\"contourcarpet\":[{\"type\":\"contourcarpet\",\"colorbar\":{\"outlinewidth\":0,\"ticks\":\"\"}}],\"contour\":[{\"type\":\"contour\",\"colorbar\":{\"outlinewidth\":0,\"ticks\":\"\"},\"colorscale\":[[0.0,\"#0d0887\"],[0.1111111111111111,\"#46039f\"],[0.2222222222222222,\"#7201a8\"],[0.3333333333333333,\"#9c179e\"],[0.4444444444444444,\"#bd3786\"],[0.5555555555555556,\"#d8576b\"],[0.6666666666666666,\"#ed7953\"],[0.7777777777777778,\"#fb9f3a\"],[0.8888888888888888,\"#fdca26\"],[1.0,\"#f0f921\"]]}],\"surface\":[{\"type\":\"surface\",\"colorbar\":{\"outlinewidth\":0,\"ticks\":\"\"},\"colorscale\":[[0.0,\"#0d0887\"],[0.1111111111111111,\"#46039f\"],[0.2222222222222222,\"#7201a8\"],[0.3333333333333333,\"#9c179e\"],[0.4444444444444444,\"#bd3786\"],[0.5555555555555556,\"#d8576b\"],[0.6666666666666666,\"#ed7953\"],[0.7777777777777778,\"#fb9f3a\"],[0.8888888888888888,\"#fdca26\"],[1.0,\"#f0f921\"]]}],\"mesh3d\":[{\"type\":\"mesh3d\",\"colorbar\":{\"outlinewidth\":0,\"ticks\":\"\"}}],\"scatter\":[{\"fillpattern\":{\"fillmode\":\"overlay\",\"size\":10,\"solidity\":0.2},\"type\":\"scatter\"}],\"parcoords\":[{\"type\":\"parcoords\",\"line\":{\"colorbar\":{\"outlinewidth\":0,\"ticks\":\"\"}}}],\"scatterpolargl\":[{\"type\":\"scatterpolargl\",\"marker\":{\"colorbar\":{\"outlinewidth\":0,\"ticks\":\"\"}}}],\"bar\":[{\"error_x\":{\"color\":\"#2a3f5f\"},\"error_y\":{\"color\":\"#2a3f5f\"},\"marker\":{\"line\":{\"color\":\"#E5ECF6\",\"width\":0.5},\"pattern\":{\"fillmode\":\"overlay\",\"size\":10,\"solidity\":0.2}},\"type\":\"bar\"}],\"scattergeo\":[{\"type\":\"scattergeo\",\"marker\":{\"colorbar\":{\"outlinewidth\":0,\"ticks\":\"\"}}}],\"scatterpolar\":[{\"type\":\"scatterpolar\",\"marker\":{\"colorbar\":{\"outlinewidth\":0,\"ticks\":\"\"}}}],\"histogram\":[{\"marker\":{\"pattern\":{\"fillmode\":\"overlay\",\"size\":10,\"solidity\":0.2}},\"type\":\"histogram\"}],\"scattergl\":[{\"type\":\"scattergl\",\"marker\":{\"colorbar\":{\"outlinewidth\":0,\"ticks\":\"\"}}}],\"scatter3d\":[{\"type\":\"scatter3d\",\"line\":{\"colorbar\":{\"outlinewidth\":0,\"ticks\":\"\"}},\"marker\":{\"colorbar\":{\"outlinewidth\":0,\"ticks\":\"\"}}}],\"scattermapbox\":[{\"type\":\"scattermapbox\",\"marker\":{\"colorbar\":{\"outlinewidth\":0,\"ticks\":\"\"}}}],\"scatterternary\":[{\"type\":\"scatterternary\",\"marker\":{\"colorbar\":{\"outlinewidth\":0,\"ticks\":\"\"}}}],\"scattercarpet\":[{\"type\":\"scattercarpet\",\"marker\":{\"colorbar\":{\"outlinewidth\":0,\"ticks\":\"\"}}}],\"carpet\":[{\"aaxis\":{\"endlinecolor\":\"#2a3f5f\",\"gridcolor\":\"white\",\"linecolor\":\"white\",\"minorgridcolor\":\"white\",\"startlinecolor\":\"#2a3f5f\"},\"baxis\":{\"endlinecolor\":\"#2a3f5f\",\"gridcolor\":\"white\",\"linecolor\":\"white\",\"minorgridcolor\":\"white\",\"startlinecolor\":\"#2a3f5f\"},\"type\":\"carpet\"}],\"table\":[{\"cells\":{\"fill\":{\"color\":\"#EBF0F8\"},\"line\":{\"color\":\"white\"}},\"header\":{\"fill\":{\"color\":\"#C8D4E3\"},\"line\":{\"color\":\"white\"}},\"type\":\"table\"}],\"barpolar\":[{\"marker\":{\"line\":{\"color\":\"#E5ECF6\",\"width\":0.5},\"pattern\":{\"fillmode\":\"overlay\",\"size\":10,\"solidity\":0.2}},\"type\":\"barpolar\"}],\"pie\":[{\"automargin\":true,\"type\":\"pie\"}]},\"layout\":{\"autotypenumbers\":\"strict\",\"colorway\":[\"#636efa\",\"#EF553B\",\"#00cc96\",\"#ab63fa\",\"#FFA15A\",\"#19d3f3\",\"#FF6692\",\"#B6E880\",\"#FF97FF\",\"#FECB52\"],\"font\":{\"color\":\"#2a3f5f\"},\"hovermode\":\"closest\",\"hoverlabel\":{\"align\":\"left\"},\"paper_bgcolor\":\"white\",\"plot_bgcolor\":\"#E5ECF6\",\"polar\":{\"bgcolor\":\"#E5ECF6\",\"angularaxis\":{\"gridcolor\":\"white\",\"linecolor\":\"white\",\"ticks\":\"\"},\"radialaxis\":{\"gridcolor\":\"white\",\"linecolor\":\"white\",\"ticks\":\"\"}},\"ternary\":{\"bgcolor\":\"#E5ECF6\",\"aaxis\":{\"gridcolor\":\"white\",\"linecolor\":\"white\",\"ticks\":\"\"},\"baxis\":{\"gridcolor\":\"white\",\"linecolor\":\"white\",\"ticks\":\"\"},\"caxis\":{\"gridcolor\":\"white\",\"linecolor\":\"white\",\"ticks\":\"\"}},\"coloraxis\":{\"colorbar\":{\"outlinewidth\":0,\"ticks\":\"\"}},\"colorscale\":{\"sequential\":[[0.0,\"#0d0887\"],[0.1111111111111111,\"#46039f\"],[0.2222222222222222,\"#7201a8\"],[0.3333333333333333,\"#9c179e\"],[0.4444444444444444,\"#bd3786\"],[0.5555555555555556,\"#d8576b\"],[0.6666666666666666,\"#ed7953\"],[0.7777777777777778,\"#fb9f3a\"],[0.8888888888888888,\"#fdca26\"],[1.0,\"#f0f921\"]],\"sequentialminus\":[[0.0,\"#0d0887\"],[0.1111111111111111,\"#46039f\"],[0.2222222222222222,\"#7201a8\"],[0.3333333333333333,\"#9c179e\"],[0.4444444444444444,\"#bd3786\"],[0.5555555555555556,\"#d8576b\"],[0.6666666666666666,\"#ed7953\"],[0.7777777777777778,\"#fb9f3a\"],[0.8888888888888888,\"#fdca26\"],[1.0,\"#f0f921\"]],\"diverging\":[[0,\"#8e0152\"],[0.1,\"#c51b7d\"],[0.2,\"#de77ae\"],[0.3,\"#f1b6da\"],[0.4,\"#fde0ef\"],[0.5,\"#f7f7f7\"],[0.6,\"#e6f5d0\"],[0.7,\"#b8e186\"],[0.8,\"#7fbc41\"],[0.9,\"#4d9221\"],[1,\"#276419\"]]},\"xaxis\":{\"gridcolor\":\"white\",\"linecolor\":\"white\",\"ticks\":\"\",\"title\":{\"standoff\":15},\"zerolinecolor\":\"white\",\"automargin\":true,\"zerolinewidth\":2},\"yaxis\":{\"gridcolor\":\"white\",\"linecolor\":\"white\",\"ticks\":\"\",\"title\":{\"standoff\":15},\"zerolinecolor\":\"white\",\"automargin\":true,\"zerolinewidth\":2},\"scene\":{\"xaxis\":{\"backgroundcolor\":\"#E5ECF6\",\"gridcolor\":\"white\",\"linecolor\":\"white\",\"showbackground\":true,\"ticks\":\"\",\"zerolinecolor\":\"white\",\"gridwidth\":2},\"yaxis\":{\"backgroundcolor\":\"#E5ECF6\",\"gridcolor\":\"white\",\"linecolor\":\"white\",\"showbackground\":true,\"ticks\":\"\",\"zerolinecolor\":\"white\",\"gridwidth\":2},\"zaxis\":{\"backgroundcolor\":\"#E5ECF6\",\"gridcolor\":\"white\",\"linecolor\":\"white\",\"showbackground\":true,\"ticks\":\"\",\"zerolinecolor\":\"white\",\"gridwidth\":2}},\"shapedefaults\":{\"line\":{\"color\":\"#2a3f5f\"}},\"annotationdefaults\":{\"arrowcolor\":\"#2a3f5f\",\"arrowhead\":0,\"arrowwidth\":1},\"geo\":{\"bgcolor\":\"white\",\"landcolor\":\"#E5ECF6\",\"subunitcolor\":\"white\",\"showland\":true,\"showlakes\":true,\"lakecolor\":\"white\"},\"title\":{\"x\":0.05},\"mapbox\":{\"style\":\"light\"}}},\"xaxis\":{\"anchor\":\"y\",\"domain\":[0.0,1.0],\"title\":{\"text\":\"N\\u00famero de Clusters\"}},\"yaxis\":{\"anchor\":\"x\",\"domain\":[0.0,1.0],\"title\":{\"text\":\"Coeficiente silueta\"}},\"legend\":{\"tracegroupgap\":0},\"title\":{\"text\":\"M\\u00e9todo del Coeficiente silueta\"},\"height\":600,\"width\":600},                        {\"responsive\": true}                    ).then(function(){\n",
       "                            \n",
       "var gd = document.getElementById('2065a2b2-7862-436d-bd8c-070a0c8edbf3');\n",
       "var x = new MutationObserver(function (mutations, observer) {{\n",
       "        var display = window.getComputedStyle(gd).display;\n",
       "        if (!display || display === 'none') {{\n",
       "            console.log([gd, 'removed!']);\n",
       "            Plotly.purge(gd);\n",
       "            observer.disconnect();\n",
       "        }}\n",
       "}});\n",
       "\n",
       "// Listen for the removal of the full notebook cells\n",
       "var notebookContainer = gd.closest('#notebook-container');\n",
       "if (notebookContainer) {{\n",
       "    x.observe(notebookContainer, {childList: true});\n",
       "}}\n",
       "\n",
       "// Listen for the clearing of the current output cell\n",
       "var outputEl = gd.closest('.output');\n",
       "if (outputEl) {{\n",
       "    x.observe(outputEl, {childList: true});\n",
       "}}\n",
       "\n",
       "                        })                };                });            </script>        </div>"
      ]
     },
     "metadata": {},
     "output_type": "display_data"
    }
   ],
   "source": [
    "sc = {\"Número de Clusters\":[],\n",
    "      \"Coeficiente silueta\":[]}\n",
    "\n",
    "for k in range(2,9):\n",
    "      kmeans = KMeans(n_clusters=k, random_state=42).fit(data)\n",
    "      label = kmeans.labels_\n",
    "      sil_coeff = silhouette_score(data,label,metric = 'euclidean')\n",
    "      sc[\"Número de Clusters\"].append(k)\n",
    "      sc[\"Coeficiente silueta\"].append(sil_coeff)\n",
    "\n",
    "fig = px.line(sc, x=\"Número de Clusters\", y=\"Coeficiente silueta\",\n",
    "             title=\"Método del Coeficiente silueta\", width=600, height=600)\n",
    "\n",
    "fig.show()"
   ]
  },
  {
   "cell_type": "code",
   "execution_count": 171,
   "id": "a7f3036d",
   "metadata": {},
   "outputs": [],
   "source": [
    "# Elegimos k = 2 a partir de la gráfica\n",
    "kmeans = KMeans(n_clusters=6, random_state=42)\n",
    "clusters = kmeans.fit(data)\n",
    "y_means = kmeans.predict(data).astype(str)\n",
    "y_means = y_means.reshape(133,1)\n",
    "centers = scaler.inverse_transform(kmeans.cluster_centers_) #quitamos escalamientos\n",
    "\n",
    "data_kmeans_sil =  datosA.copy()\n",
    "data_kmeans_sil[\"Cluster\"]= y_means"
   ]
  },
  {
   "cell_type": "code",
   "execution_count": 172,
   "id": "6259b408",
   "metadata": {
    "collapsed": true
   },
   "outputs": [
    {
     "data": {
      "application/vnd.plotly.v1+json": {
       "config": {
        "plotlyServerURL": "https://plot.ly"
       },
       "data": [
        {
         "hovertemplate": "Cluster=5<br>Abonados=%{x}<br>DPIR=%{y}<br>FPI=%{z}<extra></extra>",
         "legendgroup": "5",
         "marker": {
          "color": "#636efa",
          "size": 5,
          "symbol": "circle"
         },
         "mode": "markers",
         "name": "5",
         "scene": "scene",
         "showlegend": true,
         "textfont": {
          "color": "crimson",
          "family": "Arial",
          "size": 15
         },
         "type": "scatter3d",
         "x": [
          3756,
          7039,
          9777,
          1012,
          6181,
          1659,
          2762,
          2883,
          1210,
          797
         ],
         "y": [
          32.73,
          23.86,
          22.96,
          20.86,
          39.04,
          34.12,
          28.96,
          24.41,
          18.18,
          15.53
         ],
         "z": [
          25.97,
          24.46,
          26.82,
          29.87,
          28.81,
          29.52,
          31.47,
          28.25,
          29.36,
          25.61
         ]
        },
        {
         "hovertemplate": "Cluster=0<br>Abonados=%{x}<br>DPIR=%{y}<br>FPI=%{z}<extra></extra>",
         "legendgroup": "0",
         "marker": {
          "color": "#EF553B",
          "size": 5,
          "symbol": "circle"
         },
         "mode": "markers",
         "name": "0",
         "scene": "scene",
         "showlegend": true,
         "textfont": {
          "color": "crimson",
          "family": "Arial",
          "size": 15
         },
         "type": "scatter3d",
         "x": [
          2230,
          8644,
          6590,
          4508,
          2496,
          5375,
          5860,
          10473,
          6279,
          8056,
          292,
          9000,
          12534,
          3937,
          8121,
          7065,
          5310,
          2685,
          9574,
          7199,
          5556,
          483,
          4251,
          4465,
          2756,
          3315,
          603,
          4801,
          6226,
          2955,
          4424,
          3952,
          2386,
          6121,
          342
         ],
         "y": [
          26.88,
          21.12,
          18.63,
          16.45,
          15.52,
          15.24,
          31.11,
          30.16,
          29.1,
          28.18,
          27.54,
          26.6,
          26.49,
          26.44,
          26.21,
          25.81,
          25.42,
          24.13,
          23.3,
          22,
          21.82,
          21.52,
          20.48,
          20.08,
          20.04,
          19.91,
          19.9,
          17.12,
          16.71,
          16.68,
          15.26,
          16.61,
          20.74,
          19.95,
          19.93
         ],
         "z": [
          14.23,
          18.52,
          11.76,
          15.82,
          17.06,
          14.7,
          12.69,
          18.52,
          17.48,
          18.88,
          17.7,
          11.5,
          18.08,
          17.65,
          7.63,
          18.54,
          11.82,
          16.21,
          12.3,
          9.75,
          13.55,
          19.44,
          13.62,
          11.79,
          16.99,
          12.5,
          9.85,
          16.09,
          12.6,
          12.88,
          13.47,
          13.15,
          13.05,
          19.7,
          10.59
         ]
        },
        {
         "hovertemplate": "Cluster=1<br>Abonados=%{x}<br>DPIR=%{y}<br>FPI=%{z}<extra></extra>",
         "legendgroup": "1",
         "marker": {
          "color": "#00cc96",
          "size": 5,
          "symbol": "circle"
         },
         "mode": "markers",
         "name": "1",
         "scene": "scene",
         "showlegend": true,
         "textfont": {
          "color": "crimson",
          "family": "Arial",
          "size": 15
         },
         "type": "scatter3d",
         "x": [
          8573,
          10355,
          4980,
          11976,
          10556,
          12032,
          5610,
          8198,
          4772,
          4777
         ],
         "y": [
          16.38,
          12.33,
          11.47,
          9.81,
          7.76,
          8.93,
          16.17,
          11.82,
          7.15,
          9.64
         ],
         "z": [
          22.06,
          19.72,
          17.98,
          23.1,
          21.24,
          28.17,
          22.05,
          16.71,
          28.31,
          30.43
         ]
        },
        {
         "hovertemplate": "Cluster=4<br>Abonados=%{x}<br>DPIR=%{y}<br>FPI=%{z}<extra></extra>",
         "legendgroup": "4",
         "marker": {
          "color": "#ab63fa",
          "size": 5,
          "symbol": "circle"
         },
         "mode": "markers",
         "name": "4",
         "scene": "scene",
         "showlegend": true,
         "textfont": {
          "color": "crimson",
          "family": "Arial",
          "size": 15
         },
         "type": "scatter3d",
         "x": [
          17327,
          11346,
          14986,
          9650,
          17360,
          11155,
          10659,
          9407,
          14980,
          12650,
          11528,
          11110,
          13469,
          14855,
          12604,
          12575,
          13457,
          15918,
          18025,
          12545,
          21394,
          11267,
          9973,
          10672,
          15594,
          13481,
          10878,
          9220,
          11162,
          16997,
          11889,
          11815,
          15517,
          12512
         ],
         "y": [
          15.63,
          13.36,
          13.16,
          13.02,
          12.74,
          9.36,
          9.01,
          8.21,
          7.98,
          7.63,
          7.63,
          7.27,
          6.76,
          9.32,
          7.8,
          17.46,
          14.93,
          14.37,
          13.35,
          11.56,
          11.16,
          10.92,
          9.1,
          8.82,
          8.25,
          8,
          7.7,
          7.02,
          20.1,
          14.3,
          13.8,
          12.32,
          17.34,
          9.36
         ],
         "z": [
          11.52,
          11.62,
          9.98,
          7.54,
          9.76,
          12.38,
          7.91,
          9.37,
          15.01,
          14.9,
          10.75,
          13.32,
          11.5,
          14.05,
          11.35,
          12.04,
          9.96,
          9.94,
          10.16,
          8.4,
          9.72,
          9.76,
          8.6,
          8.12,
          14.83,
          9.32,
          1.02,
          10.35,
          1.11,
          12,
          7.5,
          8.1,
          15.95,
          9.99
         ]
        },
        {
         "hovertemplate": "Cluster=2<br>Abonados=%{x}<br>DPIR=%{y}<br>FPI=%{z}<extra></extra>",
         "legendgroup": "2",
         "marker": {
          "color": "#FFA15A",
          "size": 5,
          "symbol": "circle"
         },
         "mode": "markers",
         "name": "2",
         "scene": "scene",
         "showlegend": true,
         "textfont": {
          "color": "crimson",
          "family": "Arial",
          "size": 15
         },
         "type": "scatter3d",
         "x": [
          834,
          6212,
          4855,
          779,
          4929,
          445,
          5287,
          4722,
          3726,
          1,
          3034,
          3904,
          1305,
          135,
          1436,
          8859,
          6414,
          7901,
          2807,
          2645,
          6315,
          6768,
          5516,
          3909,
          7153,
          5279,
          6281,
          2168,
          5940,
          4984,
          2964,
          4782,
          4571,
          5149,
          4036,
          6663,
          5252,
          8536,
          6370
         ],
         "y": [
          12.83,
          10.99,
          10.87,
          10.51,
          8.42,
          8.17,
          7.17,
          6.72,
          6.61,
          6.56,
          6.35,
          11.51,
          10.15,
          13.9,
          8.45,
          7.51,
          6.63,
          6.54,
          15.22,
          14.58,
          14.45,
          12.68,
          11.9,
          11.45,
          9.25,
          9.24,
          8.45,
          7.76,
          7.8,
          6.92,
          6.86,
          6.66,
          23.6,
          20.3,
          17.5,
          16.1,
          7.86,
          11.61,
          7.38
         ],
         "z": [
          7.75,
          12.6,
          7.75,
          8.4,
          8.4,
          7.78,
          7.41,
          7.71,
          7.33,
          8,
          10.19,
          11.91,
          7.71,
          12.2,
          11.17,
          8.53,
          11.67,
          9.36,
          9.09,
          9.18,
          8.79,
          8.68,
          7.6,
          12.27,
          8.75,
          8.96,
          11.66,
          9.16,
          7.4,
          8.26,
          10.05,
          7.88,
          1.22,
          1.61,
          1.49,
          5.29,
          8.6,
          11.46,
          7.52
         ]
        },
        {
         "hovertemplate": "Cluster=3<br>Abonados=%{x}<br>DPIR=%{y}<br>FPI=%{z}<extra></extra>",
         "legendgroup": "3",
         "marker": {
          "color": "#19d3f3",
          "size": 5,
          "symbol": "circle"
         },
         "mode": "markers",
         "name": "3",
         "scene": "scene",
         "showlegend": true,
         "textfont": {
          "color": "crimson",
          "family": "Arial",
          "size": 15
         },
         "type": "scatter3d",
         "x": [
          74,
          373,
          2916,
          3796,
          6716
         ],
         "y": [
          54.66,
          41.81,
          40.65,
          38.4,
          33.44
         ],
         "z": [
          19.17,
          11.88,
          14.85,
          22.09,
          14.77
         ]
        },
        {
         "marker": {
          "color": "yellow",
          "size": 5,
          "symbol": "diamond"
         },
         "mode": "markers",
         "name": "Centroids",
         "textfont": {
          "color": "crimson",
          "family": "Arial",
          "size": 15
         },
         "type": "scatter3d",
         "x": [
          5110.4,
          8182.900000000001,
          4432.461538461539,
          2775,
          13175.79411764706,
          3707.6
         ],
         "y": [
          22.087999999999997,
          11.146,
          10.447692307692307,
          41.792,
          11.13941176470588,
          26.064999999999998
         ],
         "z": [
          14.574571428571428,
          22.976999999999997,
          8.481794871794872,
          16.552,
          10.230294117647059,
          28.014000000000003
         ]
        }
       ],
       "layout": {
        "legend": {
         "title": {
          "text": "Cluster"
         },
         "tracegroupgap": 0
        },
        "scene": {
         "domain": {
          "x": [
           0,
           1
          ],
          "y": [
           0,
           1
          ]
         },
         "xaxis": {
          "title": {
           "text": "Abonados"
          }
         },
         "yaxis": {
          "title": {
           "text": "DPIR"
          }
         },
         "zaxis": {
          "title": {
           "text": "FPI"
          }
         }
        },
        "template": {
         "data": {
          "bar": [
           {
            "error_x": {
             "color": "#2a3f5f"
            },
            "error_y": {
             "color": "#2a3f5f"
            },
            "marker": {
             "line": {
              "color": "#E5ECF6",
              "width": 0.5
             },
             "pattern": {
              "fillmode": "overlay",
              "size": 10,
              "solidity": 0.2
             }
            },
            "type": "bar"
           }
          ],
          "barpolar": [
           {
            "marker": {
             "line": {
              "color": "#E5ECF6",
              "width": 0.5
             },
             "pattern": {
              "fillmode": "overlay",
              "size": 10,
              "solidity": 0.2
             }
            },
            "type": "barpolar"
           }
          ],
          "carpet": [
           {
            "aaxis": {
             "endlinecolor": "#2a3f5f",
             "gridcolor": "white",
             "linecolor": "white",
             "minorgridcolor": "white",
             "startlinecolor": "#2a3f5f"
            },
            "baxis": {
             "endlinecolor": "#2a3f5f",
             "gridcolor": "white",
             "linecolor": "white",
             "minorgridcolor": "white",
             "startlinecolor": "#2a3f5f"
            },
            "type": "carpet"
           }
          ],
          "choropleth": [
           {
            "colorbar": {
             "outlinewidth": 0,
             "ticks": ""
            },
            "type": "choropleth"
           }
          ],
          "contour": [
           {
            "colorbar": {
             "outlinewidth": 0,
             "ticks": ""
            },
            "colorscale": [
             [
              0,
              "#0d0887"
             ],
             [
              0.1111111111111111,
              "#46039f"
             ],
             [
              0.2222222222222222,
              "#7201a8"
             ],
             [
              0.3333333333333333,
              "#9c179e"
             ],
             [
              0.4444444444444444,
              "#bd3786"
             ],
             [
              0.5555555555555556,
              "#d8576b"
             ],
             [
              0.6666666666666666,
              "#ed7953"
             ],
             [
              0.7777777777777778,
              "#fb9f3a"
             ],
             [
              0.8888888888888888,
              "#fdca26"
             ],
             [
              1,
              "#f0f921"
             ]
            ],
            "type": "contour"
           }
          ],
          "contourcarpet": [
           {
            "colorbar": {
             "outlinewidth": 0,
             "ticks": ""
            },
            "type": "contourcarpet"
           }
          ],
          "heatmap": [
           {
            "colorbar": {
             "outlinewidth": 0,
             "ticks": ""
            },
            "colorscale": [
             [
              0,
              "#0d0887"
             ],
             [
              0.1111111111111111,
              "#46039f"
             ],
             [
              0.2222222222222222,
              "#7201a8"
             ],
             [
              0.3333333333333333,
              "#9c179e"
             ],
             [
              0.4444444444444444,
              "#bd3786"
             ],
             [
              0.5555555555555556,
              "#d8576b"
             ],
             [
              0.6666666666666666,
              "#ed7953"
             ],
             [
              0.7777777777777778,
              "#fb9f3a"
             ],
             [
              0.8888888888888888,
              "#fdca26"
             ],
             [
              1,
              "#f0f921"
             ]
            ],
            "type": "heatmap"
           }
          ],
          "heatmapgl": [
           {
            "colorbar": {
             "outlinewidth": 0,
             "ticks": ""
            },
            "colorscale": [
             [
              0,
              "#0d0887"
             ],
             [
              0.1111111111111111,
              "#46039f"
             ],
             [
              0.2222222222222222,
              "#7201a8"
             ],
             [
              0.3333333333333333,
              "#9c179e"
             ],
             [
              0.4444444444444444,
              "#bd3786"
             ],
             [
              0.5555555555555556,
              "#d8576b"
             ],
             [
              0.6666666666666666,
              "#ed7953"
             ],
             [
              0.7777777777777778,
              "#fb9f3a"
             ],
             [
              0.8888888888888888,
              "#fdca26"
             ],
             [
              1,
              "#f0f921"
             ]
            ],
            "type": "heatmapgl"
           }
          ],
          "histogram": [
           {
            "marker": {
             "pattern": {
              "fillmode": "overlay",
              "size": 10,
              "solidity": 0.2
             }
            },
            "type": "histogram"
           }
          ],
          "histogram2d": [
           {
            "colorbar": {
             "outlinewidth": 0,
             "ticks": ""
            },
            "colorscale": [
             [
              0,
              "#0d0887"
             ],
             [
              0.1111111111111111,
              "#46039f"
             ],
             [
              0.2222222222222222,
              "#7201a8"
             ],
             [
              0.3333333333333333,
              "#9c179e"
             ],
             [
              0.4444444444444444,
              "#bd3786"
             ],
             [
              0.5555555555555556,
              "#d8576b"
             ],
             [
              0.6666666666666666,
              "#ed7953"
             ],
             [
              0.7777777777777778,
              "#fb9f3a"
             ],
             [
              0.8888888888888888,
              "#fdca26"
             ],
             [
              1,
              "#f0f921"
             ]
            ],
            "type": "histogram2d"
           }
          ],
          "histogram2dcontour": [
           {
            "colorbar": {
             "outlinewidth": 0,
             "ticks": ""
            },
            "colorscale": [
             [
              0,
              "#0d0887"
             ],
             [
              0.1111111111111111,
              "#46039f"
             ],
             [
              0.2222222222222222,
              "#7201a8"
             ],
             [
              0.3333333333333333,
              "#9c179e"
             ],
             [
              0.4444444444444444,
              "#bd3786"
             ],
             [
              0.5555555555555556,
              "#d8576b"
             ],
             [
              0.6666666666666666,
              "#ed7953"
             ],
             [
              0.7777777777777778,
              "#fb9f3a"
             ],
             [
              0.8888888888888888,
              "#fdca26"
             ],
             [
              1,
              "#f0f921"
             ]
            ],
            "type": "histogram2dcontour"
           }
          ],
          "mesh3d": [
           {
            "colorbar": {
             "outlinewidth": 0,
             "ticks": ""
            },
            "type": "mesh3d"
           }
          ],
          "parcoords": [
           {
            "line": {
             "colorbar": {
              "outlinewidth": 0,
              "ticks": ""
             }
            },
            "type": "parcoords"
           }
          ],
          "pie": [
           {
            "automargin": true,
            "type": "pie"
           }
          ],
          "scatter": [
           {
            "fillpattern": {
             "fillmode": "overlay",
             "size": 10,
             "solidity": 0.2
            },
            "type": "scatter"
           }
          ],
          "scatter3d": [
           {
            "line": {
             "colorbar": {
              "outlinewidth": 0,
              "ticks": ""
             }
            },
            "marker": {
             "colorbar": {
              "outlinewidth": 0,
              "ticks": ""
             }
            },
            "type": "scatter3d"
           }
          ],
          "scattercarpet": [
           {
            "marker": {
             "colorbar": {
              "outlinewidth": 0,
              "ticks": ""
             }
            },
            "type": "scattercarpet"
           }
          ],
          "scattergeo": [
           {
            "marker": {
             "colorbar": {
              "outlinewidth": 0,
              "ticks": ""
             }
            },
            "type": "scattergeo"
           }
          ],
          "scattergl": [
           {
            "marker": {
             "colorbar": {
              "outlinewidth": 0,
              "ticks": ""
             }
            },
            "type": "scattergl"
           }
          ],
          "scattermapbox": [
           {
            "marker": {
             "colorbar": {
              "outlinewidth": 0,
              "ticks": ""
             }
            },
            "type": "scattermapbox"
           }
          ],
          "scatterpolar": [
           {
            "marker": {
             "colorbar": {
              "outlinewidth": 0,
              "ticks": ""
             }
            },
            "type": "scatterpolar"
           }
          ],
          "scatterpolargl": [
           {
            "marker": {
             "colorbar": {
              "outlinewidth": 0,
              "ticks": ""
             }
            },
            "type": "scatterpolargl"
           }
          ],
          "scatterternary": [
           {
            "marker": {
             "colorbar": {
              "outlinewidth": 0,
              "ticks": ""
             }
            },
            "type": "scatterternary"
           }
          ],
          "surface": [
           {
            "colorbar": {
             "outlinewidth": 0,
             "ticks": ""
            },
            "colorscale": [
             [
              0,
              "#0d0887"
             ],
             [
              0.1111111111111111,
              "#46039f"
             ],
             [
              0.2222222222222222,
              "#7201a8"
             ],
             [
              0.3333333333333333,
              "#9c179e"
             ],
             [
              0.4444444444444444,
              "#bd3786"
             ],
             [
              0.5555555555555556,
              "#d8576b"
             ],
             [
              0.6666666666666666,
              "#ed7953"
             ],
             [
              0.7777777777777778,
              "#fb9f3a"
             ],
             [
              0.8888888888888888,
              "#fdca26"
             ],
             [
              1,
              "#f0f921"
             ]
            ],
            "type": "surface"
           }
          ],
          "table": [
           {
            "cells": {
             "fill": {
              "color": "#EBF0F8"
             },
             "line": {
              "color": "white"
             }
            },
            "header": {
             "fill": {
              "color": "#C8D4E3"
             },
             "line": {
              "color": "white"
             }
            },
            "type": "table"
           }
          ]
         },
         "layout": {
          "annotationdefaults": {
           "arrowcolor": "#2a3f5f",
           "arrowhead": 0,
           "arrowwidth": 1
          },
          "autotypenumbers": "strict",
          "coloraxis": {
           "colorbar": {
            "outlinewidth": 0,
            "ticks": ""
           }
          },
          "colorscale": {
           "diverging": [
            [
             0,
             "#8e0152"
            ],
            [
             0.1,
             "#c51b7d"
            ],
            [
             0.2,
             "#de77ae"
            ],
            [
             0.3,
             "#f1b6da"
            ],
            [
             0.4,
             "#fde0ef"
            ],
            [
             0.5,
             "#f7f7f7"
            ],
            [
             0.6,
             "#e6f5d0"
            ],
            [
             0.7,
             "#b8e186"
            ],
            [
             0.8,
             "#7fbc41"
            ],
            [
             0.9,
             "#4d9221"
            ],
            [
             1,
             "#276419"
            ]
           ],
           "sequential": [
            [
             0,
             "#0d0887"
            ],
            [
             0.1111111111111111,
             "#46039f"
            ],
            [
             0.2222222222222222,
             "#7201a8"
            ],
            [
             0.3333333333333333,
             "#9c179e"
            ],
            [
             0.4444444444444444,
             "#bd3786"
            ],
            [
             0.5555555555555556,
             "#d8576b"
            ],
            [
             0.6666666666666666,
             "#ed7953"
            ],
            [
             0.7777777777777778,
             "#fb9f3a"
            ],
            [
             0.8888888888888888,
             "#fdca26"
            ],
            [
             1,
             "#f0f921"
            ]
           ],
           "sequentialminus": [
            [
             0,
             "#0d0887"
            ],
            [
             0.1111111111111111,
             "#46039f"
            ],
            [
             0.2222222222222222,
             "#7201a8"
            ],
            [
             0.3333333333333333,
             "#9c179e"
            ],
            [
             0.4444444444444444,
             "#bd3786"
            ],
            [
             0.5555555555555556,
             "#d8576b"
            ],
            [
             0.6666666666666666,
             "#ed7953"
            ],
            [
             0.7777777777777778,
             "#fb9f3a"
            ],
            [
             0.8888888888888888,
             "#fdca26"
            ],
            [
             1,
             "#f0f921"
            ]
           ]
          },
          "colorway": [
           "#636efa",
           "#EF553B",
           "#00cc96",
           "#ab63fa",
           "#FFA15A",
           "#19d3f3",
           "#FF6692",
           "#B6E880",
           "#FF97FF",
           "#FECB52"
          ],
          "font": {
           "color": "#2a3f5f"
          },
          "geo": {
           "bgcolor": "white",
           "lakecolor": "white",
           "landcolor": "#E5ECF6",
           "showlakes": true,
           "showland": true,
           "subunitcolor": "white"
          },
          "hoverlabel": {
           "align": "left"
          },
          "hovermode": "closest",
          "mapbox": {
           "style": "light"
          },
          "paper_bgcolor": "white",
          "plot_bgcolor": "#E5ECF6",
          "polar": {
           "angularaxis": {
            "gridcolor": "white",
            "linecolor": "white",
            "ticks": ""
           },
           "bgcolor": "#E5ECF6",
           "radialaxis": {
            "gridcolor": "white",
            "linecolor": "white",
            "ticks": ""
           }
          },
          "scene": {
           "xaxis": {
            "backgroundcolor": "#E5ECF6",
            "gridcolor": "white",
            "gridwidth": 2,
            "linecolor": "white",
            "showbackground": true,
            "ticks": "",
            "zerolinecolor": "white"
           },
           "yaxis": {
            "backgroundcolor": "#E5ECF6",
            "gridcolor": "white",
            "gridwidth": 2,
            "linecolor": "white",
            "showbackground": true,
            "ticks": "",
            "zerolinecolor": "white"
           },
           "zaxis": {
            "backgroundcolor": "#E5ECF6",
            "gridcolor": "white",
            "gridwidth": 2,
            "linecolor": "white",
            "showbackground": true,
            "ticks": "",
            "zerolinecolor": "white"
           }
          },
          "shapedefaults": {
           "line": {
            "color": "#2a3f5f"
           }
          },
          "ternary": {
           "aaxis": {
            "gridcolor": "white",
            "linecolor": "white",
            "ticks": ""
           },
           "baxis": {
            "gridcolor": "white",
            "linecolor": "white",
            "ticks": ""
           },
           "bgcolor": "#E5ECF6",
           "caxis": {
            "gridcolor": "white",
            "linecolor": "white",
            "ticks": ""
           }
          },
          "title": {
           "x": 0.05
          },
          "xaxis": {
           "automargin": true,
           "gridcolor": "white",
           "linecolor": "white",
           "ticks": "",
           "title": {
            "standoff": 15
           },
           "zerolinecolor": "white",
           "zerolinewidth": 2
          },
          "yaxis": {
           "automargin": true,
           "gridcolor": "white",
           "linecolor": "white",
           "ticks": "",
           "title": {
            "standoff": 15
           },
           "zerolinecolor": "white",
           "zerolinewidth": 2
          }
         }
        },
        "title": {
         "text": "Clústers hechos con K-means y coeficiente silueta"
        }
       }
      },
      "text/html": [
       "<div>                            <div id=\"ad511dfb-e7ec-480e-9f1f-b6de1d068df9\" class=\"plotly-graph-div\" style=\"height:525px; width:100%;\"></div>            <script type=\"text/javascript\">                require([\"plotly\"], function(Plotly) {                    window.PLOTLYENV=window.PLOTLYENV || {};                                    if (document.getElementById(\"ad511dfb-e7ec-480e-9f1f-b6de1d068df9\")) {                    Plotly.newPlot(                        \"ad511dfb-e7ec-480e-9f1f-b6de1d068df9\",                        [{\"hovertemplate\":\"Cluster=5\\u003cbr\\u003eAbonados=%{x}\\u003cbr\\u003eDPIR=%{y}\\u003cbr\\u003eFPI=%{z}\\u003cextra\\u003e\\u003c\\u002fextra\\u003e\",\"legendgroup\":\"5\",\"marker\":{\"color\":\"#636efa\",\"symbol\":\"circle\",\"size\":5},\"mode\":\"markers\",\"name\":\"5\",\"scene\":\"scene\",\"showlegend\":true,\"x\":[3756,7039,9777,1012,6181,1659,2762,2883,1210,797],\"y\":[32.73,23.86,22.96,20.86,39.04,34.12,28.96,24.41,18.18,15.53],\"z\":[25.97,24.46,26.82,29.87,28.81,29.52,31.47,28.25,29.36,25.61],\"type\":\"scatter3d\",\"textfont\":{\"color\":\"crimson\",\"family\":\"Arial\",\"size\":15}},{\"hovertemplate\":\"Cluster=0\\u003cbr\\u003eAbonados=%{x}\\u003cbr\\u003eDPIR=%{y}\\u003cbr\\u003eFPI=%{z}\\u003cextra\\u003e\\u003c\\u002fextra\\u003e\",\"legendgroup\":\"0\",\"marker\":{\"color\":\"#EF553B\",\"symbol\":\"circle\",\"size\":5},\"mode\":\"markers\",\"name\":\"0\",\"scene\":\"scene\",\"showlegend\":true,\"x\":[2230,8644,6590,4508,2496,5375,5860,10473,6279,8056,292,9000,12534,3937,8121,7065,5310,2685,9574,7199,5556,483,4251,4465,2756,3315,603,4801,6226,2955,4424,3952,2386,6121,342],\"y\":[26.88,21.12,18.63,16.45,15.52,15.24,31.11,30.16,29.1,28.18,27.54,26.6,26.49,26.44,26.21,25.81,25.42,24.13,23.3,22.0,21.82,21.52,20.48,20.08,20.04,19.91,19.9,17.12,16.71,16.68,15.26,16.61,20.74,19.95,19.93],\"z\":[14.23,18.52,11.76,15.82,17.06,14.7,12.69,18.52,17.48,18.88,17.7,11.5,18.08,17.65,7.63,18.54,11.82,16.21,12.3,9.75,13.55,19.44,13.62,11.79,16.99,12.5,9.85,16.09,12.6,12.88,13.47,13.15,13.05,19.7,10.59],\"type\":\"scatter3d\",\"textfont\":{\"color\":\"crimson\",\"family\":\"Arial\",\"size\":15}},{\"hovertemplate\":\"Cluster=1\\u003cbr\\u003eAbonados=%{x}\\u003cbr\\u003eDPIR=%{y}\\u003cbr\\u003eFPI=%{z}\\u003cextra\\u003e\\u003c\\u002fextra\\u003e\",\"legendgroup\":\"1\",\"marker\":{\"color\":\"#00cc96\",\"symbol\":\"circle\",\"size\":5},\"mode\":\"markers\",\"name\":\"1\",\"scene\":\"scene\",\"showlegend\":true,\"x\":[8573,10355,4980,11976,10556,12032,5610,8198,4772,4777],\"y\":[16.38,12.33,11.47,9.81,7.76,8.93,16.17,11.82,7.15,9.64],\"z\":[22.06,19.72,17.98,23.1,21.24,28.17,22.05,16.71,28.31,30.43],\"type\":\"scatter3d\",\"textfont\":{\"color\":\"crimson\",\"family\":\"Arial\",\"size\":15}},{\"hovertemplate\":\"Cluster=4\\u003cbr\\u003eAbonados=%{x}\\u003cbr\\u003eDPIR=%{y}\\u003cbr\\u003eFPI=%{z}\\u003cextra\\u003e\\u003c\\u002fextra\\u003e\",\"legendgroup\":\"4\",\"marker\":{\"color\":\"#ab63fa\",\"symbol\":\"circle\",\"size\":5},\"mode\":\"markers\",\"name\":\"4\",\"scene\":\"scene\",\"showlegend\":true,\"x\":[17327,11346,14986,9650,17360,11155,10659,9407,14980,12650,11528,11110,13469,14855,12604,12575,13457,15918,18025,12545,21394,11267,9973,10672,15594,13481,10878,9220,11162,16997,11889,11815,15517,12512],\"y\":[15.63,13.36,13.16,13.02,12.74,9.36,9.01,8.21,7.98,7.63,7.63,7.27,6.76,9.32,7.8,17.46,14.93,14.37,13.35,11.56,11.16,10.92,9.1,8.82,8.25,8.0,7.7,7.02,20.1,14.3,13.8,12.32,17.34,9.36],\"z\":[11.52,11.62,9.98,7.54,9.76,12.38,7.91,9.37,15.01,14.9,10.75,13.32,11.5,14.05,11.35,12.04,9.96,9.94,10.16,8.4,9.72,9.76,8.6,8.12,14.83,9.32,1.02,10.35,1.11,12.0,7.5,8.1,15.95,9.99],\"type\":\"scatter3d\",\"textfont\":{\"color\":\"crimson\",\"family\":\"Arial\",\"size\":15}},{\"hovertemplate\":\"Cluster=2\\u003cbr\\u003eAbonados=%{x}\\u003cbr\\u003eDPIR=%{y}\\u003cbr\\u003eFPI=%{z}\\u003cextra\\u003e\\u003c\\u002fextra\\u003e\",\"legendgroup\":\"2\",\"marker\":{\"color\":\"#FFA15A\",\"symbol\":\"circle\",\"size\":5},\"mode\":\"markers\",\"name\":\"2\",\"scene\":\"scene\",\"showlegend\":true,\"x\":[834,6212,4855,779,4929,445,5287,4722,3726,1,3034,3904,1305,135,1436,8859,6414,7901,2807,2645,6315,6768,5516,3909,7153,5279,6281,2168,5940,4984,2964,4782,4571,5149,4036,6663,5252,8536,6370],\"y\":[12.83,10.99,10.87,10.51,8.42,8.17,7.17,6.72,6.61,6.56,6.35,11.51,10.15,13.9,8.45,7.51,6.63,6.54,15.22,14.58,14.45,12.68,11.9,11.45,9.25,9.24,8.45,7.76,7.8,6.92,6.86,6.66,23.6,20.3,17.5,16.1,7.86,11.61,7.38],\"z\":[7.75,12.6,7.75,8.4,8.4,7.78,7.41,7.71,7.33,8.0,10.19,11.91,7.71,12.2,11.17,8.53,11.67,9.36,9.09,9.18,8.79,8.68,7.6,12.27,8.75,8.96,11.66,9.16,7.4,8.26,10.05,7.88,1.22,1.61,1.49,5.29,8.6,11.46,7.52],\"type\":\"scatter3d\",\"textfont\":{\"color\":\"crimson\",\"family\":\"Arial\",\"size\":15}},{\"hovertemplate\":\"Cluster=3\\u003cbr\\u003eAbonados=%{x}\\u003cbr\\u003eDPIR=%{y}\\u003cbr\\u003eFPI=%{z}\\u003cextra\\u003e\\u003c\\u002fextra\\u003e\",\"legendgroup\":\"3\",\"marker\":{\"color\":\"#19d3f3\",\"symbol\":\"circle\",\"size\":5},\"mode\":\"markers\",\"name\":\"3\",\"scene\":\"scene\",\"showlegend\":true,\"x\":[74,373,2916,3796,6716],\"y\":[54.66,41.81,40.65,38.4,33.44],\"z\":[19.17,11.88,14.85,22.09,14.77],\"type\":\"scatter3d\",\"textfont\":{\"color\":\"crimson\",\"family\":\"Arial\",\"size\":15}},{\"marker\":{\"color\":\"yellow\",\"size\":5,\"symbol\":\"diamond\"},\"mode\":\"markers\",\"name\":\"Centroids\",\"x\":[5110.4,8182.900000000001,4432.461538461539,2775.0,13175.79411764706,3707.6],\"y\":[22.087999999999997,11.146,10.447692307692307,41.792,11.13941176470588,26.064999999999998],\"z\":[14.574571428571428,22.976999999999997,8.481794871794872,16.552,10.230294117647059,28.014000000000003],\"type\":\"scatter3d\",\"textfont\":{\"color\":\"crimson\",\"family\":\"Arial\",\"size\":15}}],                        {\"template\":{\"data\":{\"histogram2dcontour\":[{\"type\":\"histogram2dcontour\",\"colorbar\":{\"outlinewidth\":0,\"ticks\":\"\"},\"colorscale\":[[0.0,\"#0d0887\"],[0.1111111111111111,\"#46039f\"],[0.2222222222222222,\"#7201a8\"],[0.3333333333333333,\"#9c179e\"],[0.4444444444444444,\"#bd3786\"],[0.5555555555555556,\"#d8576b\"],[0.6666666666666666,\"#ed7953\"],[0.7777777777777778,\"#fb9f3a\"],[0.8888888888888888,\"#fdca26\"],[1.0,\"#f0f921\"]]}],\"choropleth\":[{\"type\":\"choropleth\",\"colorbar\":{\"outlinewidth\":0,\"ticks\":\"\"}}],\"histogram2d\":[{\"type\":\"histogram2d\",\"colorbar\":{\"outlinewidth\":0,\"ticks\":\"\"},\"colorscale\":[[0.0,\"#0d0887\"],[0.1111111111111111,\"#46039f\"],[0.2222222222222222,\"#7201a8\"],[0.3333333333333333,\"#9c179e\"],[0.4444444444444444,\"#bd3786\"],[0.5555555555555556,\"#d8576b\"],[0.6666666666666666,\"#ed7953\"],[0.7777777777777778,\"#fb9f3a\"],[0.8888888888888888,\"#fdca26\"],[1.0,\"#f0f921\"]]}],\"heatmap\":[{\"type\":\"heatmap\",\"colorbar\":{\"outlinewidth\":0,\"ticks\":\"\"},\"colorscale\":[[0.0,\"#0d0887\"],[0.1111111111111111,\"#46039f\"],[0.2222222222222222,\"#7201a8\"],[0.3333333333333333,\"#9c179e\"],[0.4444444444444444,\"#bd3786\"],[0.5555555555555556,\"#d8576b\"],[0.6666666666666666,\"#ed7953\"],[0.7777777777777778,\"#fb9f3a\"],[0.8888888888888888,\"#fdca26\"],[1.0,\"#f0f921\"]]}],\"heatmapgl\":[{\"type\":\"heatmapgl\",\"colorbar\":{\"outlinewidth\":0,\"ticks\":\"\"},\"colorscale\":[[0.0,\"#0d0887\"],[0.1111111111111111,\"#46039f\"],[0.2222222222222222,\"#7201a8\"],[0.3333333333333333,\"#9c179e\"],[0.4444444444444444,\"#bd3786\"],[0.5555555555555556,\"#d8576b\"],[0.6666666666666666,\"#ed7953\"],[0.7777777777777778,\"#fb9f3a\"],[0.8888888888888888,\"#fdca26\"],[1.0,\"#f0f921\"]]}],\"contourcarpet\":[{\"type\":\"contourcarpet\",\"colorbar\":{\"outlinewidth\":0,\"ticks\":\"\"}}],\"contour\":[{\"type\":\"contour\",\"colorbar\":{\"outlinewidth\":0,\"ticks\":\"\"},\"colorscale\":[[0.0,\"#0d0887\"],[0.1111111111111111,\"#46039f\"],[0.2222222222222222,\"#7201a8\"],[0.3333333333333333,\"#9c179e\"],[0.4444444444444444,\"#bd3786\"],[0.5555555555555556,\"#d8576b\"],[0.6666666666666666,\"#ed7953\"],[0.7777777777777778,\"#fb9f3a\"],[0.8888888888888888,\"#fdca26\"],[1.0,\"#f0f921\"]]}],\"surface\":[{\"type\":\"surface\",\"colorbar\":{\"outlinewidth\":0,\"ticks\":\"\"},\"colorscale\":[[0.0,\"#0d0887\"],[0.1111111111111111,\"#46039f\"],[0.2222222222222222,\"#7201a8\"],[0.3333333333333333,\"#9c179e\"],[0.4444444444444444,\"#bd3786\"],[0.5555555555555556,\"#d8576b\"],[0.6666666666666666,\"#ed7953\"],[0.7777777777777778,\"#fb9f3a\"],[0.8888888888888888,\"#fdca26\"],[1.0,\"#f0f921\"]]}],\"mesh3d\":[{\"type\":\"mesh3d\",\"colorbar\":{\"outlinewidth\":0,\"ticks\":\"\"}}],\"scatter\":[{\"fillpattern\":{\"fillmode\":\"overlay\",\"size\":10,\"solidity\":0.2},\"type\":\"scatter\"}],\"parcoords\":[{\"type\":\"parcoords\",\"line\":{\"colorbar\":{\"outlinewidth\":0,\"ticks\":\"\"}}}],\"scatterpolargl\":[{\"type\":\"scatterpolargl\",\"marker\":{\"colorbar\":{\"outlinewidth\":0,\"ticks\":\"\"}}}],\"bar\":[{\"error_x\":{\"color\":\"#2a3f5f\"},\"error_y\":{\"color\":\"#2a3f5f\"},\"marker\":{\"line\":{\"color\":\"#E5ECF6\",\"width\":0.5},\"pattern\":{\"fillmode\":\"overlay\",\"size\":10,\"solidity\":0.2}},\"type\":\"bar\"}],\"scattergeo\":[{\"type\":\"scattergeo\",\"marker\":{\"colorbar\":{\"outlinewidth\":0,\"ticks\":\"\"}}}],\"scatterpolar\":[{\"type\":\"scatterpolar\",\"marker\":{\"colorbar\":{\"outlinewidth\":0,\"ticks\":\"\"}}}],\"histogram\":[{\"marker\":{\"pattern\":{\"fillmode\":\"overlay\",\"size\":10,\"solidity\":0.2}},\"type\":\"histogram\"}],\"scattergl\":[{\"type\":\"scattergl\",\"marker\":{\"colorbar\":{\"outlinewidth\":0,\"ticks\":\"\"}}}],\"scatter3d\":[{\"type\":\"scatter3d\",\"line\":{\"colorbar\":{\"outlinewidth\":0,\"ticks\":\"\"}},\"marker\":{\"colorbar\":{\"outlinewidth\":0,\"ticks\":\"\"}}}],\"scattermapbox\":[{\"type\":\"scattermapbox\",\"marker\":{\"colorbar\":{\"outlinewidth\":0,\"ticks\":\"\"}}}],\"scatterternary\":[{\"type\":\"scatterternary\",\"marker\":{\"colorbar\":{\"outlinewidth\":0,\"ticks\":\"\"}}}],\"scattercarpet\":[{\"type\":\"scattercarpet\",\"marker\":{\"colorbar\":{\"outlinewidth\":0,\"ticks\":\"\"}}}],\"carpet\":[{\"aaxis\":{\"endlinecolor\":\"#2a3f5f\",\"gridcolor\":\"white\",\"linecolor\":\"white\",\"minorgridcolor\":\"white\",\"startlinecolor\":\"#2a3f5f\"},\"baxis\":{\"endlinecolor\":\"#2a3f5f\",\"gridcolor\":\"white\",\"linecolor\":\"white\",\"minorgridcolor\":\"white\",\"startlinecolor\":\"#2a3f5f\"},\"type\":\"carpet\"}],\"table\":[{\"cells\":{\"fill\":{\"color\":\"#EBF0F8\"},\"line\":{\"color\":\"white\"}},\"header\":{\"fill\":{\"color\":\"#C8D4E3\"},\"line\":{\"color\":\"white\"}},\"type\":\"table\"}],\"barpolar\":[{\"marker\":{\"line\":{\"color\":\"#E5ECF6\",\"width\":0.5},\"pattern\":{\"fillmode\":\"overlay\",\"size\":10,\"solidity\":0.2}},\"type\":\"barpolar\"}],\"pie\":[{\"automargin\":true,\"type\":\"pie\"}]},\"layout\":{\"autotypenumbers\":\"strict\",\"colorway\":[\"#636efa\",\"#EF553B\",\"#00cc96\",\"#ab63fa\",\"#FFA15A\",\"#19d3f3\",\"#FF6692\",\"#B6E880\",\"#FF97FF\",\"#FECB52\"],\"font\":{\"color\":\"#2a3f5f\"},\"hovermode\":\"closest\",\"hoverlabel\":{\"align\":\"left\"},\"paper_bgcolor\":\"white\",\"plot_bgcolor\":\"#E5ECF6\",\"polar\":{\"bgcolor\":\"#E5ECF6\",\"angularaxis\":{\"gridcolor\":\"white\",\"linecolor\":\"white\",\"ticks\":\"\"},\"radialaxis\":{\"gridcolor\":\"white\",\"linecolor\":\"white\",\"ticks\":\"\"}},\"ternary\":{\"bgcolor\":\"#E5ECF6\",\"aaxis\":{\"gridcolor\":\"white\",\"linecolor\":\"white\",\"ticks\":\"\"},\"baxis\":{\"gridcolor\":\"white\",\"linecolor\":\"white\",\"ticks\":\"\"},\"caxis\":{\"gridcolor\":\"white\",\"linecolor\":\"white\",\"ticks\":\"\"}},\"coloraxis\":{\"colorbar\":{\"outlinewidth\":0,\"ticks\":\"\"}},\"colorscale\":{\"sequential\":[[0.0,\"#0d0887\"],[0.1111111111111111,\"#46039f\"],[0.2222222222222222,\"#7201a8\"],[0.3333333333333333,\"#9c179e\"],[0.4444444444444444,\"#bd3786\"],[0.5555555555555556,\"#d8576b\"],[0.6666666666666666,\"#ed7953\"],[0.7777777777777778,\"#fb9f3a\"],[0.8888888888888888,\"#fdca26\"],[1.0,\"#f0f921\"]],\"sequentialminus\":[[0.0,\"#0d0887\"],[0.1111111111111111,\"#46039f\"],[0.2222222222222222,\"#7201a8\"],[0.3333333333333333,\"#9c179e\"],[0.4444444444444444,\"#bd3786\"],[0.5555555555555556,\"#d8576b\"],[0.6666666666666666,\"#ed7953\"],[0.7777777777777778,\"#fb9f3a\"],[0.8888888888888888,\"#fdca26\"],[1.0,\"#f0f921\"]],\"diverging\":[[0,\"#8e0152\"],[0.1,\"#c51b7d\"],[0.2,\"#de77ae\"],[0.3,\"#f1b6da\"],[0.4,\"#fde0ef\"],[0.5,\"#f7f7f7\"],[0.6,\"#e6f5d0\"],[0.7,\"#b8e186\"],[0.8,\"#7fbc41\"],[0.9,\"#4d9221\"],[1,\"#276419\"]]},\"xaxis\":{\"gridcolor\":\"white\",\"linecolor\":\"white\",\"ticks\":\"\",\"title\":{\"standoff\":15},\"zerolinecolor\":\"white\",\"automargin\":true,\"zerolinewidth\":2},\"yaxis\":{\"gridcolor\":\"white\",\"linecolor\":\"white\",\"ticks\":\"\",\"title\":{\"standoff\":15},\"zerolinecolor\":\"white\",\"automargin\":true,\"zerolinewidth\":2},\"scene\":{\"xaxis\":{\"backgroundcolor\":\"#E5ECF6\",\"gridcolor\":\"white\",\"linecolor\":\"white\",\"showbackground\":true,\"ticks\":\"\",\"zerolinecolor\":\"white\",\"gridwidth\":2},\"yaxis\":{\"backgroundcolor\":\"#E5ECF6\",\"gridcolor\":\"white\",\"linecolor\":\"white\",\"showbackground\":true,\"ticks\":\"\",\"zerolinecolor\":\"white\",\"gridwidth\":2},\"zaxis\":{\"backgroundcolor\":\"#E5ECF6\",\"gridcolor\":\"white\",\"linecolor\":\"white\",\"showbackground\":true,\"ticks\":\"\",\"zerolinecolor\":\"white\",\"gridwidth\":2}},\"shapedefaults\":{\"line\":{\"color\":\"#2a3f5f\"}},\"annotationdefaults\":{\"arrowcolor\":\"#2a3f5f\",\"arrowhead\":0,\"arrowwidth\":1},\"geo\":{\"bgcolor\":\"white\",\"landcolor\":\"#E5ECF6\",\"subunitcolor\":\"white\",\"showland\":true,\"showlakes\":true,\"lakecolor\":\"white\"},\"title\":{\"x\":0.05},\"mapbox\":{\"style\":\"light\"}}},\"scene\":{\"domain\":{\"x\":[0.0,1.0],\"y\":[0.0,1.0]},\"xaxis\":{\"title\":{\"text\":\"Abonados\"}},\"yaxis\":{\"title\":{\"text\":\"DPIR\"}},\"zaxis\":{\"title\":{\"text\":\"FPI\"}}},\"legend\":{\"title\":{\"text\":\"Cluster\"},\"tracegroupgap\":0},\"title\":{\"text\":\"Cl\\u00fasters hechos con K-means y coeficiente silueta\"}},                        {\"responsive\": true}                    ).then(function(){\n",
       "                            \n",
       "var gd = document.getElementById('ad511dfb-e7ec-480e-9f1f-b6de1d068df9');\n",
       "var x = new MutationObserver(function (mutations, observer) {{\n",
       "        var display = window.getComputedStyle(gd).display;\n",
       "        if (!display || display === 'none') {{\n",
       "            console.log([gd, 'removed!']);\n",
       "            Plotly.purge(gd);\n",
       "            observer.disconnect();\n",
       "        }}\n",
       "}});\n",
       "\n",
       "// Listen for the removal of the full notebook cells\n",
       "var notebookContainer = gd.closest('#notebook-container');\n",
       "if (notebookContainer) {{\n",
       "    x.observe(notebookContainer, {childList: true});\n",
       "}}\n",
       "\n",
       "// Listen for the clearing of the current output cell\n",
       "var outputEl = gd.closest('.output');\n",
       "if (outputEl) {{\n",
       "    x.observe(outputEl, {childList: true});\n",
       "}}\n",
       "\n",
       "                        })                };                });            </script>        </div>"
      ]
     },
     "metadata": {},
     "output_type": "display_data"
    }
   ],
   "source": [
    "fig = px.scatter_3d(data_kmeans_sil, x=\"Abonados\", y=\"DPIR\", z=\"FPI\", color=\"Cluster\", \n",
    "                    title='Clústers hechos con K-means y coeficiente silueta')\n",
    "fig.add_trace(go.Scatter3d(\n",
    "    x=centers[:, 0],\n",
    "    y=centers[:, 1],\n",
    "    z=centers[:, 2],\n",
    "    mode='markers',\n",
    "    marker=dict(size=20, color='yellow',symbol='diamond'),\n",
    "    name='Centroids'\n",
    "))\n",
    "\n",
    "fig.update_traces(\n",
    "    textfont=dict(\n",
    "        family=\"Arial\",\n",
    "        size=15,\n",
    "        color=\"crimson\"  \n",
    "    ),\n",
    "    marker=dict(\n",
    "        size=5,\n",
    "    )\n",
    ")\n",
    "fig.show()"
   ]
  },
  {
   "cell_type": "markdown",
   "id": "e00e326a",
   "metadata": {},
   "source": [
    "### Estadísticas"
   ]
  },
  {
   "cell_type": "markdown",
   "id": "41951809",
   "metadata": {},
   "source": [
    "*** Con método del codo ***"
   ]
  },
  {
   "cell_type": "code",
   "execution_count": 173,
   "id": "b8ee3f4f",
   "metadata": {},
   "outputs": [
    {
     "name": "stdout",
     "output_type": "stream",
     "text": [
      "          Abonados       DPIR        FPI Empresa Cluster\n",
      "              mean       mean       mean    mode   count\n",
      "Cluster                                                 \n",
      "0        12661.425  10.989500  11.214750    CNFL      40\n",
      "1         5175.600  27.037000  15.366333     ICE      30\n",
      "2         4856.000  21.261333  27.410667     ICE      15\n",
      "3         4123.375  11.890417   9.597083     ICE      48\n"
     ]
    }
   ],
   "source": [
    "data_kmeans_grouped = data_kmeans_elbow.groupby(\"Cluster\").agg({\"Abonados\":['mean'],\n",
    "                                    \"DPIR\":['mean'],\n",
    "                                    \"FPI\":['mean'],\n",
    "                                  \"Empresa\":[pd.Series.mode],\n",
    "                                    \"Cluster\":'count'})\n",
    "print(data_kmeans_grouped)"
   ]
  },
  {
   "cell_type": "code",
   "execution_count": 174,
   "id": "bc8da992",
   "metadata": {},
   "outputs": [
    {
     "data": {
      "image/png": "[encoded data removed]",
      "text/plain": [
       "<Figure size 1200x600 with 2 Axes>"
      ]
     },
     "metadata": {},
     "output_type": "display_data"
    }
   ],
   "source": [
    "# generamos gráficos más comprensibles\n",
    "data_kmeans_grouped1 = data_kmeans_elbow.groupby(\"Cluster\").agg({\"Abonados\":['mean'],\n",
    "                                    \"DPIR\":['mean'],\n",
    "                                    \"FPI\":['mean'],\n",
    "                                  \"Empresa\":[pd.Series.mode]\n",
    "                                    })\n",
    "\n",
    "data_kmeans_grouped1['Abonados'] = data_kmeans_grouped1['Abonados']/100\n",
    "fig, ax = plt.subplots(1, 2, figsize=(12, 6))\n",
    "data_kmeans_grouped1.plot(kind='bar',ax=ax[0], xlabel='Cluster', ylabel='Valor Promedio')\n",
    "ax[0].legend(['Abonados/100', 'DPIR', 'FPI'])\n",
    "\n",
    "empresas=[data_kmeans_grouped1.Empresa.values[i][0] for i in range(len(data_kmeans_grouped1.Empresa.values))]\n",
    "data_kmeans_grouped2 = data_kmeans_elbow.groupby(\"Cluster\").agg({\"Cluster\":'count'})\n",
    "\n",
    "\n",
    "formatter = [f\"{i} \\n {j} \\n {l}\" for i,j,l in zip(list(data_kmeans_grouped1.index),\\\n",
    "                                                   empresas,list(data_kmeans_grouped2.Cluster))]\n",
    "ax[1].pie(data_kmeans_grouped2.Cluster, labels=formatter, labeldistance=1.2)\n",
    "ax[1].set(title=\"Tamaño de cluster y empresa predominante\")\n",
    "fig.suptitle('Estadísticas de los clusters obtenidos con Kmeans y método del codo')\n",
    "plt.show()"
   ]
  },
  {
   "cell_type": "markdown",
   "id": "c4d08d47",
   "metadata": {},
   "source": [
    "*** Con coeficiente silueta ***"
   ]
  },
  {
   "cell_type": "code",
   "execution_count": 175,
   "id": "2776cd62",
   "metadata": {},
   "outputs": [
    {
     "name": "stdout",
     "output_type": "stream",
     "text": [
      "             Abonados       DPIR        FPI      Empresa Cluster\n",
      "                 mean       mean       mean         mode   count\n",
      "Cluster                                                         \n",
      "0         5110.400000  22.088000  14.574571          ICE      35\n",
      "1         8182.900000  11.146000  22.977000         CNFL      10\n",
      "2         4432.461538  10.447692   8.481795          ICE      39\n",
      "3         2775.000000  41.792000  16.552000          ICE       5\n",
      "4        13175.794118  11.139412  10.230294  [CNFL, ICE]      34\n",
      "5         3707.600000  26.065000  28.014000          ICE      10\n"
     ]
    }
   ],
   "source": [
    "data_kmeans_grouped = data_kmeans_sil.groupby(\"Cluster\").agg({\"Abonados\":['mean'],\n",
    "                                    \"DPIR\":['mean'],\n",
    "                                    \"FPI\":['mean'],\n",
    "                                  \"Empresa\":[pd.Series.mode],\n",
    "                                    \"Cluster\":'count'})\n",
    "print(data_kmeans_grouped)"
   ]
  },
  {
   "cell_type": "code",
   "execution_count": 176,
   "id": "b4470cd8",
   "metadata": {},
   "outputs": [
    {
     "data": {
      "image/png": "[encoded data removed]",
      "text/plain": [
       "<Figure size 1200x600 with 2 Axes>"
      ]
     },
     "metadata": {},
     "output_type": "display_data"
    }
   ],
   "source": [
    "# generamos gráficos más comprensibles\n",
    "data_kmeans_grouped1 = data_kmeans_sil.groupby(\"Cluster\").agg({\"Abonados\":['mean'],\n",
    "                                    \"DPIR\":['mean'],\n",
    "                                    \"FPI\":['mean'],\n",
    "                                  \"Empresa\":[pd.Series.mode]\n",
    "                                    })\n",
    "\n",
    "data_kmeans_grouped1['Abonados'] = data_kmeans_grouped1['Abonados']/100\n",
    "fig, ax = plt.subplots(1, 2, figsize=(12, 6))\n",
    "data_kmeans_grouped1.plot(kind='bar',ax=ax[0], xlabel='Cluster', ylabel='Valor Promedio')\n",
    "ax[0].legend(['Abonados/100', 'DPIR', 'FPI'])\n",
    "\n",
    "empresas=[data_kmeans_grouped1.Empresa.values[i][0] for i in range(len(data_kmeans_grouped1.Empresa.values))]\n",
    "data_kmeans_grouped2 = data_kmeans_sil.groupby(\"Cluster\").agg({\"Cluster\":'count'})\n",
    "\n",
    "\n",
    "formatter = [f\"{i} \\n {j} \\n {l}\" for i,j,l in zip(list(data_kmeans_grouped1.index),\\\n",
    "                                                   empresas,list(data_kmeans_grouped2.Cluster))]\n",
    "ax[1].pie(data_kmeans_grouped2.Cluster, labels=formatter, labeldistance=1.2)\n",
    "ax[1].set(title=\"Tamaño de cluster y empresa predominante\")\n",
    "fig.suptitle('Estadísticas de los clusters obtenidos con Kmeans y coeficiente silueta')\n",
    "plt.show()"
   ]
  },
  {
   "cell_type": "markdown",
   "id": "45b68541",
   "metadata": {},
   "source": [
    "## Algoritmo 2: DBSCAN"
   ]
  },
  {
   "cell_type": "markdown",
   "id": "a2e1d7e8",
   "metadata": {},
   "source": [
    "Mediante prueba y error se concluyó que los clusters del algoritmo DBSCAN convergen en 2, y la cantidad mínima de puntos que rodean a un core point necesaria para conseguirlo fue 8"
   ]
  },
  {
   "cell_type": "markdown",
   "id": "83ec6d49",
   "metadata": {},
   "source": [
    "### Obtención de eps/epsilon"
   ]
  },
  {
   "cell_type": "code",
   "execution_count": 177,
   "id": "1f8b1fb1",
   "metadata": {},
   "outputs": [
    {
     "data": {
      "image/png": "[encoded data removed]",
      "text/plain": [
       "<Figure size 800x550 with 1 Axes>"
      ]
     },
     "metadata": {},
     "output_type": "display_data"
    }
   ],
   "source": [
    "neighbors = NearestNeighbors(n_neighbors=4)\n",
    "neighbors_fit = neighbors.fit(data)\n",
    "distances, indices = neighbors_fit.kneighbors(data)\n",
    "distances = np.sort(distances, axis=0)\n",
    "distances = distances[:,1]\n",
    "plt.plot(distances)\n",
    "plt.title(\"Método del codo para épsilon\", fontsize=15)\n",
    "plt.ylabel(\"Distancias al 8th-Nearest Neighbor, ascendente\")\n",
    "plt.xlabel(\"Índice de cada punto\")\n",
    "plt.show()"
   ]
  },
  {
   "cell_type": "code",
   "execution_count": 178,
   "id": "c59349b4",
   "metadata": {
    "scrolled": false
   },
   "outputs": [
    {
     "data": {
      "application/vnd.plotly.v1+json": {
       "config": {
        "plotlyServerURL": "https://plot.ly"
       },
       "data": [
        {
         "hovertemplate": "Cluster=1<br>Abonados=%{x}<br>DPIR=%{y}<br>FPI=%{z}<extra></extra>",
         "legendgroup": "1",
         "marker": {
          "color": "#636efa",
          "size": 5,
          "symbol": "circle"
         },
         "mode": "markers",
         "name": "1",
         "scene": "scene",
         "showlegend": true,
         "textfont": {
          "color": "crimson",
          "family": "Arial",
          "size": 18
         },
         "type": "scatter3d",
         "x": [
          3756,
          7039,
          9777,
          1012,
          8573,
          10355,
          11976,
          10556,
          12032,
          74,
          373,
          2916,
          6181,
          3796,
          1659,
          2762,
          12534,
          2883,
          1210,
          797,
          21394,
          10878,
          4772,
          4777,
          4571,
          5149,
          11162,
          4036,
          15517
         ],
         "y": [
          32.73,
          23.86,
          22.96,
          20.86,
          16.38,
          12.33,
          9.81,
          7.76,
          8.93,
          54.66,
          41.81,
          40.65,
          39.04,
          38.4,
          34.12,
          28.96,
          26.49,
          24.41,
          18.18,
          15.53,
          11.16,
          7.7,
          7.15,
          9.64,
          23.6,
          20.3,
          20.1,
          17.5,
          17.34
         ],
         "z": [
          25.97,
          24.46,
          26.82,
          29.87,
          22.06,
          19.72,
          23.1,
          21.24,
          28.17,
          19.17,
          11.88,
          14.85,
          28.81,
          22.09,
          29.52,
          31.47,
          18.08,
          28.25,
          29.36,
          25.61,
          9.72,
          1.02,
          28.31,
          30.43,
          1.22,
          1.61,
          1.11,
          1.49,
          15.95
         ]
        },
        {
         "hovertemplate": "Cluster=0<br>Abonados=%{x}<br>DPIR=%{y}<br>FPI=%{z}<extra></extra>",
         "legendgroup": "0",
         "marker": {
          "color": "#EF553B",
          "size": 5,
          "symbol": "circle"
         },
         "mode": "markers",
         "name": "0",
         "scene": "scene",
         "showlegend": true,
         "textfont": {
          "color": "crimson",
          "family": "Arial",
          "size": 18
         },
         "type": "scatter3d",
         "x": [
          2230,
          8644,
          6590,
          4508,
          17327,
          11346,
          14986,
          9650,
          834,
          17360,
          4980,
          6212,
          4855,
          779,
          11155,
          10659,
          4929,
          9407,
          445,
          14980,
          12650,
          11528,
          11110,
          5287,
          13469,
          4722,
          3726,
          1,
          3034,
          3904,
          1305,
          14855,
          5610,
          2496,
          5375,
          135,
          8198,
          1436,
          12604,
          8859,
          6414,
          7901,
          6716,
          5860,
          10473,
          6279,
          8056,
          292,
          9000,
          3937,
          8121,
          7065,
          5310,
          2685,
          9574,
          7199,
          5556,
          483,
          4251,
          4465,
          2756,
          3315,
          603,
          12575,
          4801,
          6226,
          2955,
          4424,
          2807,
          13457,
          2645,
          6315,
          15918,
          18025,
          6768,
          5516,
          12545,
          3909,
          11267,
          7153,
          5279,
          9973,
          10672,
          6281,
          15594,
          13481,
          2168,
          5940,
          9220,
          4984,
          2964,
          4782,
          3952,
          6663,
          16997,
          11889,
          11815,
          5252,
          2386,
          6121,
          342,
          8536,
          12512,
          6370
         ],
         "y": [
          26.88,
          21.12,
          18.63,
          16.45,
          15.63,
          13.36,
          13.16,
          13.02,
          12.83,
          12.74,
          11.47,
          10.99,
          10.87,
          10.51,
          9.36,
          9.01,
          8.42,
          8.21,
          8.17,
          7.98,
          7.63,
          7.63,
          7.27,
          7.17,
          6.76,
          6.72,
          6.61,
          6.56,
          6.35,
          11.51,
          10.15,
          9.32,
          16.17,
          15.52,
          15.24,
          13.9,
          11.82,
          8.45,
          7.8,
          7.51,
          6.63,
          6.54,
          33.44,
          31.11,
          30.16,
          29.1,
          28.18,
          27.54,
          26.6,
          26.44,
          26.21,
          25.81,
          25.42,
          24.13,
          23.3,
          22,
          21.82,
          21.52,
          20.48,
          20.08,
          20.04,
          19.91,
          19.9,
          17.46,
          17.12,
          16.71,
          16.68,
          15.26,
          15.22,
          14.93,
          14.58,
          14.45,
          14.37,
          13.35,
          12.68,
          11.9,
          11.56,
          11.45,
          10.92,
          9.25,
          9.24,
          9.1,
          8.82,
          8.45,
          8.25,
          8,
          7.76,
          7.8,
          7.02,
          6.92,
          6.86,
          6.66,
          16.61,
          16.1,
          14.3,
          13.8,
          12.32,
          7.86,
          20.74,
          19.95,
          19.93,
          11.61,
          9.36,
          7.38
         ],
         "z": [
          14.23,
          18.52,
          11.76,
          15.82,
          11.52,
          11.62,
          9.98,
          7.54,
          7.75,
          9.76,
          17.98,
          12.6,
          7.75,
          8.4,
          12.38,
          7.91,
          8.4,
          9.37,
          7.78,
          15.01,
          14.9,
          10.75,
          13.32,
          7.41,
          11.5,
          7.71,
          7.33,
          8,
          10.19,
          11.91,
          7.71,
          14.05,
          22.05,
          17.06,
          14.7,
          12.2,
          16.71,
          11.17,
          11.35,
          8.53,
          11.67,
          9.36,
          14.77,
          12.69,
          18.52,
          17.48,
          18.88,
          17.7,
          11.5,
          17.65,
          7.63,
          18.54,
          11.82,
          16.21,
          12.3,
          9.75,
          13.55,
          19.44,
          13.62,
          11.79,
          16.99,
          12.5,
          9.85,
          12.04,
          16.09,
          12.6,
          12.88,
          13.47,
          9.09,
          9.96,
          9.18,
          8.79,
          9.94,
          10.16,
          8.68,
          7.6,
          8.4,
          12.27,
          9.76,
          8.75,
          8.96,
          8.6,
          8.12,
          11.66,
          14.83,
          9.32,
          9.16,
          7.4,
          10.35,
          8.26,
          10.05,
          7.88,
          13.15,
          5.29,
          12,
          7.5,
          8.1,
          8.6,
          13.05,
          19.7,
          10.59,
          11.46,
          9.99,
          7.52
         ]
        }
       ],
       "layout": {
        "legend": {
         "title": {
          "text": "Cluster"
         },
         "tracegroupgap": 0
        },
        "scene": {
         "domain": {
          "x": [
           0,
           1
          ],
          "y": [
           0,
           1
          ]
         },
         "xaxis": {
          "title": {
           "text": "Abonados"
          }
         },
         "yaxis": {
          "title": {
           "text": "DPIR"
          }
         },
         "zaxis": {
          "title": {
           "text": "FPI"
          }
         }
        },
        "template": {
         "data": {
          "bar": [
           {
            "error_x": {
             "color": "#2a3f5f"
            },
            "error_y": {
             "color": "#2a3f5f"
            },
            "marker": {
             "line": {
              "color": "#E5ECF6",
              "width": 0.5
             },
             "pattern": {
              "fillmode": "overlay",
              "size": 10,
              "solidity": 0.2
             }
            },
            "type": "bar"
           }
          ],
          "barpolar": [
           {
            "marker": {
             "line": {
              "color": "#E5ECF6",
              "width": 0.5
             },
             "pattern": {
              "fillmode": "overlay",
              "size": 10,
              "solidity": 0.2
             }
            },
            "type": "barpolar"
           }
          ],
          "carpet": [
           {
            "aaxis": {
             "endlinecolor": "#2a3f5f",
             "gridcolor": "white",
             "linecolor": "white",
             "minorgridcolor": "white",
             "startlinecolor": "#2a3f5f"
            },
            "baxis": {
             "endlinecolor": "#2a3f5f",
             "gridcolor": "white",
             "linecolor": "white",
             "minorgridcolor": "white",
             "startlinecolor": "#2a3f5f"
            },
            "type": "carpet"
           }
          ],
          "choropleth": [
           {
            "colorbar": {
             "outlinewidth": 0,
             "ticks": ""
            },
            "type": "choropleth"
           }
          ],
          "contour": [
           {
            "colorbar": {
             "outlinewidth": 0,
             "ticks": ""
            },
            "colorscale": [
             [
              0,
              "#0d0887"
             ],
             [
              0.1111111111111111,
              "#46039f"
             ],
             [
              0.2222222222222222,
              "#7201a8"
             ],
             [
              0.3333333333333333,
              "#9c179e"
             ],
             [
              0.4444444444444444,
              "#bd3786"
             ],
             [
              0.5555555555555556,
              "#d8576b"
             ],
             [
              0.6666666666666666,
              "#ed7953"
             ],
             [
              0.7777777777777778,
              "#fb9f3a"
             ],
             [
              0.8888888888888888,
              "#fdca26"
             ],
             [
              1,
              "#f0f921"
             ]
            ],
            "type": "contour"
           }
          ],
          "contourcarpet": [
           {
            "colorbar": {
             "outlinewidth": 0,
             "ticks": ""
            },
            "type": "contourcarpet"
           }
          ],
          "heatmap": [
           {
            "colorbar": {
             "outlinewidth": 0,
             "ticks": ""
            },
            "colorscale": [
             [
              0,
              "#0d0887"
             ],
             [
              0.1111111111111111,
              "#46039f"
             ],
             [
              0.2222222222222222,
              "#7201a8"
             ],
             [
              0.3333333333333333,
              "#9c179e"
             ],
             [
              0.4444444444444444,
              "#bd3786"
             ],
             [
              0.5555555555555556,
              "#d8576b"
             ],
             [
              0.6666666666666666,
              "#ed7953"
             ],
             [
              0.7777777777777778,
              "#fb9f3a"
             ],
             [
              0.8888888888888888,
              "#fdca26"
             ],
             [
              1,
              "#f0f921"
             ]
            ],
            "type": "heatmap"
           }
          ],
          "heatmapgl": [
           {
            "colorbar": {
             "outlinewidth": 0,
             "ticks": ""
            },
            "colorscale": [
             [
              0,
              "#0d0887"
             ],
             [
              0.1111111111111111,
              "#46039f"
             ],
             [
              0.2222222222222222,
              "#7201a8"
             ],
             [
              0.3333333333333333,
              "#9c179e"
             ],
             [
              0.4444444444444444,
              "#bd3786"
             ],
             [
              0.5555555555555556,
              "#d8576b"
             ],
             [
              0.6666666666666666,
              "#ed7953"
             ],
             [
              0.7777777777777778,
              "#fb9f3a"
             ],
             [
              0.8888888888888888,
              "#fdca26"
             ],
             [
              1,
              "#f0f921"
             ]
            ],
            "type": "heatmapgl"
           }
          ],
          "histogram": [
           {
            "marker": {
             "pattern": {
              "fillmode": "overlay",
              "size": 10,
              "solidity": 0.2
             }
            },
            "type": "histogram"
           }
          ],
          "histogram2d": [
           {
            "colorbar": {
             "outlinewidth": 0,
             "ticks": ""
            },
            "colorscale": [
             [
              0,
              "#0d0887"
             ],
             [
              0.1111111111111111,
              "#46039f"
             ],
             [
              0.2222222222222222,
              "#7201a8"
             ],
             [
              0.3333333333333333,
              "#9c179e"
             ],
             [
              0.4444444444444444,
              "#bd3786"
             ],
             [
              0.5555555555555556,
              "#d8576b"
             ],
             [
              0.6666666666666666,
              "#ed7953"
             ],
             [
              0.7777777777777778,
              "#fb9f3a"
             ],
             [
              0.8888888888888888,
              "#fdca26"
             ],
             [
              1,
              "#f0f921"
             ]
            ],
            "type": "histogram2d"
           }
          ],
          "histogram2dcontour": [
           {
            "colorbar": {
             "outlinewidth": 0,
             "ticks": ""
            },
            "colorscale": [
             [
              0,
              "#0d0887"
             ],
             [
              0.1111111111111111,
              "#46039f"
             ],
             [
              0.2222222222222222,
              "#7201a8"
             ],
             [
              0.3333333333333333,
              "#9c179e"
             ],
             [
              0.4444444444444444,
              "#bd3786"
             ],
             [
              0.5555555555555556,
              "#d8576b"
             ],
             [
              0.6666666666666666,
              "#ed7953"
             ],
             [
              0.7777777777777778,
              "#fb9f3a"
             ],
             [
              0.8888888888888888,
              "#fdca26"
             ],
             [
              1,
              "#f0f921"
             ]
            ],
            "type": "histogram2dcontour"
           }
          ],
          "mesh3d": [
           {
            "colorbar": {
             "outlinewidth": 0,
             "ticks": ""
            },
            "type": "mesh3d"
           }
          ],
          "parcoords": [
           {
            "line": {
             "colorbar": {
              "outlinewidth": 0,
              "ticks": ""
             }
            },
            "type": "parcoords"
           }
          ],
          "pie": [
           {
            "automargin": true,
            "type": "pie"
           }
          ],
          "scatter": [
           {
            "fillpattern": {
             "fillmode": "overlay",
             "size": 10,
             "solidity": 0.2
            },
            "type": "scatter"
           }
          ],
          "scatter3d": [
           {
            "line": {
             "colorbar": {
              "outlinewidth": 0,
              "ticks": ""
             }
            },
            "marker": {
             "colorbar": {
              "outlinewidth": 0,
              "ticks": ""
             }
            },
            "type": "scatter3d"
           }
          ],
          "scattercarpet": [
           {
            "marker": {
             "colorbar": {
              "outlinewidth": 0,
              "ticks": ""
             }
            },
            "type": "scattercarpet"
           }
          ],
          "scattergeo": [
           {
            "marker": {
             "colorbar": {
              "outlinewidth": 0,
              "ticks": ""
             }
            },
            "type": "scattergeo"
           }
          ],
          "scattergl": [
           {
            "marker": {
             "colorbar": {
              "outlinewidth": 0,
              "ticks": ""
             }
            },
            "type": "scattergl"
           }
          ],
          "scattermapbox": [
           {
            "marker": {
             "colorbar": {
              "outlinewidth": 0,
              "ticks": ""
             }
            },
            "type": "scattermapbox"
           }
          ],
          "scatterpolar": [
           {
            "marker": {
             "colorbar": {
              "outlinewidth": 0,
              "ticks": ""
             }
            },
            "type": "scatterpolar"
           }
          ],
          "scatterpolargl": [
           {
            "marker": {
             "colorbar": {
              "outlinewidth": 0,
              "ticks": ""
             }
            },
            "type": "scatterpolargl"
           }
          ],
          "scatterternary": [
           {
            "marker": {
             "colorbar": {
              "outlinewidth": 0,
              "ticks": ""
             }
            },
            "type": "scatterternary"
           }
          ],
          "surface": [
           {
            "colorbar": {
             "outlinewidth": 0,
             "ticks": ""
            },
            "colorscale": [
             [
              0,
              "#0d0887"
             ],
             [
              0.1111111111111111,
              "#46039f"
             ],
             [
              0.2222222222222222,
              "#7201a8"
             ],
             [
              0.3333333333333333,
              "#9c179e"
             ],
             [
              0.4444444444444444,
              "#bd3786"
             ],
             [
              0.5555555555555556,
              "#d8576b"
             ],
             [
              0.6666666666666666,
              "#ed7953"
             ],
             [
              0.7777777777777778,
              "#fb9f3a"
             ],
             [
              0.8888888888888888,
              "#fdca26"
             ],
             [
              1,
              "#f0f921"
             ]
            ],
            "type": "surface"
           }
          ],
          "table": [
           {
            "cells": {
             "fill": {
              "color": "#EBF0F8"
             },
             "line": {
              "color": "white"
             }
            },
            "header": {
             "fill": {
              "color": "#C8D4E3"
             },
             "line": {
              "color": "white"
             }
            },
            "type": "table"
           }
          ]
         },
         "layout": {
          "annotationdefaults": {
           "arrowcolor": "#2a3f5f",
           "arrowhead": 0,
           "arrowwidth": 1
          },
          "autotypenumbers": "strict",
          "coloraxis": {
           "colorbar": {
            "outlinewidth": 0,
            "ticks": ""
           }
          },
          "colorscale": {
           "diverging": [
            [
             0,
             "#8e0152"
            ],
            [
             0.1,
             "#c51b7d"
            ],
            [
             0.2,
             "#de77ae"
            ],
            [
             0.3,
             "#f1b6da"
            ],
            [
             0.4,
             "#fde0ef"
            ],
            [
             0.5,
             "#f7f7f7"
            ],
            [
             0.6,
             "#e6f5d0"
            ],
            [
             0.7,
             "#b8e186"
            ],
            [
             0.8,
             "#7fbc41"
            ],
            [
             0.9,
             "#4d9221"
            ],
            [
             1,
             "#276419"
            ]
           ],
           "sequential": [
            [
             0,
             "#0d0887"
            ],
            [
             0.1111111111111111,
             "#46039f"
            ],
            [
             0.2222222222222222,
             "#7201a8"
            ],
            [
             0.3333333333333333,
             "#9c179e"
            ],
            [
             0.4444444444444444,
             "#bd3786"
            ],
            [
             0.5555555555555556,
             "#d8576b"
            ],
            [
             0.6666666666666666,
             "#ed7953"
            ],
            [
             0.7777777777777778,
             "#fb9f3a"
            ],
            [
             0.8888888888888888,
             "#fdca26"
            ],
            [
             1,
             "#f0f921"
            ]
           ],
           "sequentialminus": [
            [
             0,
             "#0d0887"
            ],
            [
             0.1111111111111111,
             "#46039f"
            ],
            [
             0.2222222222222222,
             "#7201a8"
            ],
            [
             0.3333333333333333,
             "#9c179e"
            ],
            [
             0.4444444444444444,
             "#bd3786"
            ],
            [
             0.5555555555555556,
             "#d8576b"
            ],
            [
             0.6666666666666666,
             "#ed7953"
            ],
            [
             0.7777777777777778,
             "#fb9f3a"
            ],
            [
             0.8888888888888888,
             "#fdca26"
            ],
            [
             1,
             "#f0f921"
            ]
           ]
          },
          "colorway": [
           "#636efa",
           "#EF553B",
           "#00cc96",
           "#ab63fa",
           "#FFA15A",
           "#19d3f3",
           "#FF6692",
           "#B6E880",
           "#FF97FF",
           "#FECB52"
          ],
          "font": {
           "color": "#2a3f5f"
          },
          "geo": {
           "bgcolor": "white",
           "lakecolor": "white",
           "landcolor": "#E5ECF6",
           "showlakes": true,
           "showland": true,
           "subunitcolor": "white"
          },
          "hoverlabel": {
           "align": "left"
          },
          "hovermode": "closest",
          "mapbox": {
           "style": "light"
          },
          "paper_bgcolor": "white",
          "plot_bgcolor": "#E5ECF6",
          "polar": {
           "angularaxis": {
            "gridcolor": "white",
            "linecolor": "white",
            "ticks": ""
           },
           "bgcolor": "#E5ECF6",
           "radialaxis": {
            "gridcolor": "white",
            "linecolor": "white",
            "ticks": ""
           }
          },
          "scene": {
           "xaxis": {
            "backgroundcolor": "#E5ECF6",
            "gridcolor": "white",
            "gridwidth": 2,
            "linecolor": "white",
            "showbackground": true,
            "ticks": "",
            "zerolinecolor": "white"
           },
           "yaxis": {
            "backgroundcolor": "#E5ECF6",
            "gridcolor": "white",
            "gridwidth": 2,
            "linecolor": "white",
            "showbackground": true,
            "ticks": "",
            "zerolinecolor": "white"
           },
           "zaxis": {
            "backgroundcolor": "#E5ECF6",
            "gridcolor": "white",
            "gridwidth": 2,
            "linecolor": "white",
            "showbackground": true,
            "ticks": "",
            "zerolinecolor": "white"
           }
          },
          "shapedefaults": {
           "line": {
            "color": "#2a3f5f"
           }
          },
          "ternary": {
           "aaxis": {
            "gridcolor": "white",
            "linecolor": "white",
            "ticks": ""
           },
           "baxis": {
            "gridcolor": "white",
            "linecolor": "white",
            "ticks": ""
           },
           "bgcolor": "#E5ECF6",
           "caxis": {
            "gridcolor": "white",
            "linecolor": "white",
            "ticks": ""
           }
          },
          "title": {
           "x": 0.05
          },
          "xaxis": {
           "automargin": true,
           "gridcolor": "white",
           "linecolor": "white",
           "ticks": "",
           "title": {
            "standoff": 15
           },
           "zerolinecolor": "white",
           "zerolinewidth": 2
          },
          "yaxis": {
           "automargin": true,
           "gridcolor": "white",
           "linecolor": "white",
           "ticks": "",
           "title": {
            "standoff": 15
           },
           "zerolinecolor": "white",
           "zerolinewidth": 2
          }
         }
        },
        "title": {
         "text": "Clústers hechos con DBSCAN"
        }
       }
      },
      "text/html": [
       "<div>                            <div id=\"f26f0b6f-d7f6-47a7-938f-f5ebf6af0b3a\" class=\"plotly-graph-div\" style=\"height:525px; width:100%;\"></div>            <script type=\"text/javascript\">                require([\"plotly\"], function(Plotly) {                    window.PLOTLYENV=window.PLOTLYENV || {};                                    if (document.getElementById(\"f26f0b6f-d7f6-47a7-938f-f5ebf6af0b3a\")) {                    Plotly.newPlot(                        \"f26f0b6f-d7f6-47a7-938f-f5ebf6af0b3a\",                        [{\"hovertemplate\":\"Cluster=1\\u003cbr\\u003eAbonados=%{x}\\u003cbr\\u003eDPIR=%{y}\\u003cbr\\u003eFPI=%{z}\\u003cextra\\u003e\\u003c\\u002fextra\\u003e\",\"legendgroup\":\"1\",\"marker\":{\"color\":\"#636efa\",\"symbol\":\"circle\",\"size\":5},\"mode\":\"markers\",\"name\":\"1\",\"scene\":\"scene\",\"showlegend\":true,\"x\":[3756,7039,9777,1012,8573,10355,11976,10556,12032,74,373,2916,6181,3796,1659,2762,12534,2883,1210,797,21394,10878,4772,4777,4571,5149,11162,4036,15517],\"y\":[32.73,23.86,22.96,20.86,16.38,12.33,9.81,7.76,8.93,54.66,41.81,40.65,39.04,38.4,34.12,28.96,26.49,24.41,18.18,15.53,11.16,7.7,7.15,9.64,23.6,20.3,20.1,17.5,17.34],\"z\":[25.97,24.46,26.82,29.87,22.06,19.72,23.1,21.24,28.17,19.17,11.88,14.85,28.81,22.09,29.52,31.47,18.08,28.25,29.36,25.61,9.72,1.02,28.31,30.43,1.22,1.61,1.11,1.49,15.95],\"type\":\"scatter3d\",\"textfont\":{\"color\":\"crimson\",\"family\":\"Arial\",\"size\":18}},{\"hovertemplate\":\"Cluster=0\\u003cbr\\u003eAbonados=%{x}\\u003cbr\\u003eDPIR=%{y}\\u003cbr\\u003eFPI=%{z}\\u003cextra\\u003e\\u003c\\u002fextra\\u003e\",\"legendgroup\":\"0\",\"marker\":{\"color\":\"#EF553B\",\"symbol\":\"circle\",\"size\":5},\"mode\":\"markers\",\"name\":\"0\",\"scene\":\"scene\",\"showlegend\":true,\"x\":[2230,8644,6590,4508,17327,11346,14986,9650,834,17360,4980,6212,4855,779,11155,10659,4929,9407,445,14980,12650,11528,11110,5287,13469,4722,3726,1,3034,3904,1305,14855,5610,2496,5375,135,8198,1436,12604,8859,6414,7901,6716,5860,10473,6279,8056,292,9000,3937,8121,7065,5310,2685,9574,7199,5556,483,4251,4465,2756,3315,603,12575,4801,6226,2955,4424,2807,13457,2645,6315,15918,18025,6768,5516,12545,3909,11267,7153,5279,9973,10672,6281,15594,13481,2168,5940,9220,4984,2964,4782,3952,6663,16997,11889,11815,5252,2386,6121,342,8536,12512,6370],\"y\":[26.88,21.12,18.63,16.45,15.63,13.36,13.16,13.02,12.83,12.74,11.47,10.99,10.87,10.51,9.36,9.01,8.42,8.21,8.17,7.98,7.63,7.63,7.27,7.17,6.76,6.72,6.61,6.56,6.35,11.51,10.15,9.32,16.17,15.52,15.24,13.9,11.82,8.45,7.8,7.51,6.63,6.54,33.44,31.11,30.16,29.1,28.18,27.54,26.6,26.44,26.21,25.81,25.42,24.13,23.3,22.0,21.82,21.52,20.48,20.08,20.04,19.91,19.9,17.46,17.12,16.71,16.68,15.26,15.22,14.93,14.58,14.45,14.37,13.35,12.68,11.9,11.56,11.45,10.92,9.25,9.24,9.1,8.82,8.45,8.25,8.0,7.76,7.8,7.02,6.92,6.86,6.66,16.61,16.1,14.3,13.8,12.32,7.86,20.74,19.95,19.93,11.61,9.36,7.38],\"z\":[14.23,18.52,11.76,15.82,11.52,11.62,9.98,7.54,7.75,9.76,17.98,12.6,7.75,8.4,12.38,7.91,8.4,9.37,7.78,15.01,14.9,10.75,13.32,7.41,11.5,7.71,7.33,8.0,10.19,11.91,7.71,14.05,22.05,17.06,14.7,12.2,16.71,11.17,11.35,8.53,11.67,9.36,14.77,12.69,18.52,17.48,18.88,17.7,11.5,17.65,7.63,18.54,11.82,16.21,12.3,9.75,13.55,19.44,13.62,11.79,16.99,12.5,9.85,12.04,16.09,12.6,12.88,13.47,9.09,9.96,9.18,8.79,9.94,10.16,8.68,7.6,8.4,12.27,9.76,8.75,8.96,8.6,8.12,11.66,14.83,9.32,9.16,7.4,10.35,8.26,10.05,7.88,13.15,5.29,12.0,7.5,8.1,8.6,13.05,19.7,10.59,11.46,9.99,7.52],\"type\":\"scatter3d\",\"textfont\":{\"color\":\"crimson\",\"family\":\"Arial\",\"size\":18}}],                        {\"template\":{\"data\":{\"histogram2dcontour\":[{\"type\":\"histogram2dcontour\",\"colorbar\":{\"outlinewidth\":0,\"ticks\":\"\"},\"colorscale\":[[0.0,\"#0d0887\"],[0.1111111111111111,\"#46039f\"],[0.2222222222222222,\"#7201a8\"],[0.3333333333333333,\"#9c179e\"],[0.4444444444444444,\"#bd3786\"],[0.5555555555555556,\"#d8576b\"],[0.6666666666666666,\"#ed7953\"],[0.7777777777777778,\"#fb9f3a\"],[0.8888888888888888,\"#fdca26\"],[1.0,\"#f0f921\"]]}],\"choropleth\":[{\"type\":\"choropleth\",\"colorbar\":{\"outlinewidth\":0,\"ticks\":\"\"}}],\"histogram2d\":[{\"type\":\"histogram2d\",\"colorbar\":{\"outlinewidth\":0,\"ticks\":\"\"},\"colorscale\":[[0.0,\"#0d0887\"],[0.1111111111111111,\"#46039f\"],[0.2222222222222222,\"#7201a8\"],[0.3333333333333333,\"#9c179e\"],[0.4444444444444444,\"#bd3786\"],[0.5555555555555556,\"#d8576b\"],[0.6666666666666666,\"#ed7953\"],[0.7777777777777778,\"#fb9f3a\"],[0.8888888888888888,\"#fdca26\"],[1.0,\"#f0f921\"]]}],\"heatmap\":[{\"type\":\"heatmap\",\"colorbar\":{\"outlinewidth\":0,\"ticks\":\"\"},\"colorscale\":[[0.0,\"#0d0887\"],[0.1111111111111111,\"#46039f\"],[0.2222222222222222,\"#7201a8\"],[0.3333333333333333,\"#9c179e\"],[0.4444444444444444,\"#bd3786\"],[0.5555555555555556,\"#d8576b\"],[0.6666666666666666,\"#ed7953\"],[0.7777777777777778,\"#fb9f3a\"],[0.8888888888888888,\"#fdca26\"],[1.0,\"#f0f921\"]]}],\"heatmapgl\":[{\"type\":\"heatmapgl\",\"colorbar\":{\"outlinewidth\":0,\"ticks\":\"\"},\"colorscale\":[[0.0,\"#0d0887\"],[0.1111111111111111,\"#46039f\"],[0.2222222222222222,\"#7201a8\"],[0.3333333333333333,\"#9c179e\"],[0.4444444444444444,\"#bd3786\"],[0.5555555555555556,\"#d8576b\"],[0.6666666666666666,\"#ed7953\"],[0.7777777777777778,\"#fb9f3a\"],[0.8888888888888888,\"#fdca26\"],[1.0,\"#f0f921\"]]}],\"contourcarpet\":[{\"type\":\"contourcarpet\",\"colorbar\":{\"outlinewidth\":0,\"ticks\":\"\"}}],\"contour\":[{\"type\":\"contour\",\"colorbar\":{\"outlinewidth\":0,\"ticks\":\"\"},\"colorscale\":[[0.0,\"#0d0887\"],[0.1111111111111111,\"#46039f\"],[0.2222222222222222,\"#7201a8\"],[0.3333333333333333,\"#9c179e\"],[0.4444444444444444,\"#bd3786\"],[0.5555555555555556,\"#d8576b\"],[0.6666666666666666,\"#ed7953\"],[0.7777777777777778,\"#fb9f3a\"],[0.8888888888888888,\"#fdca26\"],[1.0,\"#f0f921\"]]}],\"surface\":[{\"type\":\"surface\",\"colorbar\":{\"outlinewidth\":0,\"ticks\":\"\"},\"colorscale\":[[0.0,\"#0d0887\"],[0.1111111111111111,\"#46039f\"],[0.2222222222222222,\"#7201a8\"],[0.3333333333333333,\"#9c179e\"],[0.4444444444444444,\"#bd3786\"],[0.5555555555555556,\"#d8576b\"],[0.6666666666666666,\"#ed7953\"],[0.7777777777777778,\"#fb9f3a\"],[0.8888888888888888,\"#fdca26\"],[1.0,\"#f0f921\"]]}],\"mesh3d\":[{\"type\":\"mesh3d\",\"colorbar\":{\"outlinewidth\":0,\"ticks\":\"\"}}],\"scatter\":[{\"fillpattern\":{\"fillmode\":\"overlay\",\"size\":10,\"solidity\":0.2},\"type\":\"scatter\"}],\"parcoords\":[{\"type\":\"parcoords\",\"line\":{\"colorbar\":{\"outlinewidth\":0,\"ticks\":\"\"}}}],\"scatterpolargl\":[{\"type\":\"scatterpolargl\",\"marker\":{\"colorbar\":{\"outlinewidth\":0,\"ticks\":\"\"}}}],\"bar\":[{\"error_x\":{\"color\":\"#2a3f5f\"},\"error_y\":{\"color\":\"#2a3f5f\"},\"marker\":{\"line\":{\"color\":\"#E5ECF6\",\"width\":0.5},\"pattern\":{\"fillmode\":\"overlay\",\"size\":10,\"solidity\":0.2}},\"type\":\"bar\"}],\"scattergeo\":[{\"type\":\"scattergeo\",\"marker\":{\"colorbar\":{\"outlinewidth\":0,\"ticks\":\"\"}}}],\"scatterpolar\":[{\"type\":\"scatterpolar\",\"marker\":{\"colorbar\":{\"outlinewidth\":0,\"ticks\":\"\"}}}],\"histogram\":[{\"marker\":{\"pattern\":{\"fillmode\":\"overlay\",\"size\":10,\"solidity\":0.2}},\"type\":\"histogram\"}],\"scattergl\":[{\"type\":\"scattergl\",\"marker\":{\"colorbar\":{\"outlinewidth\":0,\"ticks\":\"\"}}}],\"scatter3d\":[{\"type\":\"scatter3d\",\"line\":{\"colorbar\":{\"outlinewidth\":0,\"ticks\":\"\"}},\"marker\":{\"colorbar\":{\"outlinewidth\":0,\"ticks\":\"\"}}}],\"scattermapbox\":[{\"type\":\"scattermapbox\",\"marker\":{\"colorbar\":{\"outlinewidth\":0,\"ticks\":\"\"}}}],\"scatterternary\":[{\"type\":\"scatterternary\",\"marker\":{\"colorbar\":{\"outlinewidth\":0,\"ticks\":\"\"}}}],\"scattercarpet\":[{\"type\":\"scattercarpet\",\"marker\":{\"colorbar\":{\"outlinewidth\":0,\"ticks\":\"\"}}}],\"carpet\":[{\"aaxis\":{\"endlinecolor\":\"#2a3f5f\",\"gridcolor\":\"white\",\"linecolor\":\"white\",\"minorgridcolor\":\"white\",\"startlinecolor\":\"#2a3f5f\"},\"baxis\":{\"endlinecolor\":\"#2a3f5f\",\"gridcolor\":\"white\",\"linecolor\":\"white\",\"minorgridcolor\":\"white\",\"startlinecolor\":\"#2a3f5f\"},\"type\":\"carpet\"}],\"table\":[{\"cells\":{\"fill\":{\"color\":\"#EBF0F8\"},\"line\":{\"color\":\"white\"}},\"header\":{\"fill\":{\"color\":\"#C8D4E3\"},\"line\":{\"color\":\"white\"}},\"type\":\"table\"}],\"barpolar\":[{\"marker\":{\"line\":{\"color\":\"#E5ECF6\",\"width\":0.5},\"pattern\":{\"fillmode\":\"overlay\",\"size\":10,\"solidity\":0.2}},\"type\":\"barpolar\"}],\"pie\":[{\"automargin\":true,\"type\":\"pie\"}]},\"layout\":{\"autotypenumbers\":\"strict\",\"colorway\":[\"#636efa\",\"#EF553B\",\"#00cc96\",\"#ab63fa\",\"#FFA15A\",\"#19d3f3\",\"#FF6692\",\"#B6E880\",\"#FF97FF\",\"#FECB52\"],\"font\":{\"color\":\"#2a3f5f\"},\"hovermode\":\"closest\",\"hoverlabel\":{\"align\":\"left\"},\"paper_bgcolor\":\"white\",\"plot_bgcolor\":\"#E5ECF6\",\"polar\":{\"bgcolor\":\"#E5ECF6\",\"angularaxis\":{\"gridcolor\":\"white\",\"linecolor\":\"white\",\"ticks\":\"\"},\"radialaxis\":{\"gridcolor\":\"white\",\"linecolor\":\"white\",\"ticks\":\"\"}},\"ternary\":{\"bgcolor\":\"#E5ECF6\",\"aaxis\":{\"gridcolor\":\"white\",\"linecolor\":\"white\",\"ticks\":\"\"},\"baxis\":{\"gridcolor\":\"white\",\"linecolor\":\"white\",\"ticks\":\"\"},\"caxis\":{\"gridcolor\":\"white\",\"linecolor\":\"white\",\"ticks\":\"\"}},\"coloraxis\":{\"colorbar\":{\"outlinewidth\":0,\"ticks\":\"\"}},\"colorscale\":{\"sequential\":[[0.0,\"#0d0887\"],[0.1111111111111111,\"#46039f\"],[0.2222222222222222,\"#7201a8\"],[0.3333333333333333,\"#9c179e\"],[0.4444444444444444,\"#bd3786\"],[0.5555555555555556,\"#d8576b\"],[0.6666666666666666,\"#ed7953\"],[0.7777777777777778,\"#fb9f3a\"],[0.8888888888888888,\"#fdca26\"],[1.0,\"#f0f921\"]],\"sequentialminus\":[[0.0,\"#0d0887\"],[0.1111111111111111,\"#46039f\"],[0.2222222222222222,\"#7201a8\"],[0.3333333333333333,\"#9c179e\"],[0.4444444444444444,\"#bd3786\"],[0.5555555555555556,\"#d8576b\"],[0.6666666666666666,\"#ed7953\"],[0.7777777777777778,\"#fb9f3a\"],[0.8888888888888888,\"#fdca26\"],[1.0,\"#f0f921\"]],\"diverging\":[[0,\"#8e0152\"],[0.1,\"#c51b7d\"],[0.2,\"#de77ae\"],[0.3,\"#f1b6da\"],[0.4,\"#fde0ef\"],[0.5,\"#f7f7f7\"],[0.6,\"#e6f5d0\"],[0.7,\"#b8e186\"],[0.8,\"#7fbc41\"],[0.9,\"#4d9221\"],[1,\"#276419\"]]},\"xaxis\":{\"gridcolor\":\"white\",\"linecolor\":\"white\",\"ticks\":\"\",\"title\":{\"standoff\":15},\"zerolinecolor\":\"white\",\"automargin\":true,\"zerolinewidth\":2},\"yaxis\":{\"gridcolor\":\"white\",\"linecolor\":\"white\",\"ticks\":\"\",\"title\":{\"standoff\":15},\"zerolinecolor\":\"white\",\"automargin\":true,\"zerolinewidth\":2},\"scene\":{\"xaxis\":{\"backgroundcolor\":\"#E5ECF6\",\"gridcolor\":\"white\",\"linecolor\":\"white\",\"showbackground\":true,\"ticks\":\"\",\"zerolinecolor\":\"white\",\"gridwidth\":2},\"yaxis\":{\"backgroundcolor\":\"#E5ECF6\",\"gridcolor\":\"white\",\"linecolor\":\"white\",\"showbackground\":true,\"ticks\":\"\",\"zerolinecolor\":\"white\",\"gridwidth\":2},\"zaxis\":{\"backgroundcolor\":\"#E5ECF6\",\"gridcolor\":\"white\",\"linecolor\":\"white\",\"showbackground\":true,\"ticks\":\"\",\"zerolinecolor\":\"white\",\"gridwidth\":2}},\"shapedefaults\":{\"line\":{\"color\":\"#2a3f5f\"}},\"annotationdefaults\":{\"arrowcolor\":\"#2a3f5f\",\"arrowhead\":0,\"arrowwidth\":1},\"geo\":{\"bgcolor\":\"white\",\"landcolor\":\"#E5ECF6\",\"subunitcolor\":\"white\",\"showland\":true,\"showlakes\":true,\"lakecolor\":\"white\"},\"title\":{\"x\":0.05},\"mapbox\":{\"style\":\"light\"}}},\"scene\":{\"domain\":{\"x\":[0.0,1.0],\"y\":[0.0,1.0]},\"xaxis\":{\"title\":{\"text\":\"Abonados\"}},\"yaxis\":{\"title\":{\"text\":\"DPIR\"}},\"zaxis\":{\"title\":{\"text\":\"FPI\"}}},\"legend\":{\"title\":{\"text\":\"Cluster\"},\"tracegroupgap\":0},\"title\":{\"text\":\"Cl\\u00fasters hechos con DBSCAN\"}},                        {\"responsive\": true}                    ).then(function(){\n",
       "                            \n",
       "var gd = document.getElementById('f26f0b6f-d7f6-47a7-938f-f5ebf6af0b3a');\n",
       "var x = new MutationObserver(function (mutations, observer) {{\n",
       "        var display = window.getComputedStyle(gd).display;\n",
       "        if (!display || display === 'none') {{\n",
       "            console.log([gd, 'removed!']);\n",
       "            Plotly.purge(gd);\n",
       "            observer.disconnect();\n",
       "        }}\n",
       "}});\n",
       "\n",
       "// Listen for the removal of the full notebook cells\n",
       "var notebookContainer = gd.closest('#notebook-container');\n",
       "if (notebookContainer) {{\n",
       "    x.observe(notebookContainer, {childList: true});\n",
       "}}\n",
       "\n",
       "// Listen for the clearing of the current output cell\n",
       "var outputEl = gd.closest('.output');\n",
       "if (outputEl) {{\n",
       "    x.observe(outputEl, {childList: true});\n",
       "}}\n",
       "\n",
       "                        })                };                });            </script>        </div>"
      ]
     },
     "metadata": {},
     "output_type": "display_data"
    }
   ],
   "source": [
    "dbscan = DBSCAN(eps=0.75, min_samples=4)\n",
    "dbscan.fit(data)\n",
    "data_DBSCAN = pd.DataFrame(datosA.copy()) #datos sin escalar\n",
    "data_DBSCAN[\"Cluster\"] = dbscan.labels_.astype(str).tolist()\n",
    "data_DBSCAN[\"Cluster\"].replace({'-1':'1'}, inplace=True)\n",
    "fig = px.scatter_3d(data_DBSCAN, x=\"Abonados\", y=\"DPIR\", z=\"FPI\", \n",
    "                    color=\"Cluster\", title='Clústers hechos con DBSCAN')\n",
    "\n",
    "fig.update_traces(\n",
    "    textfont=dict(\n",
    "        family=\"Arial\",\n",
    "        size=18,\n",
    "        color=\"crimson\" \n",
    "    ),\n",
    "    marker=dict(\n",
    "        size=5\n",
    "    )\n",
    ")\n",
    "fig.show()"
   ]
  },
  {
   "cell_type": "markdown",
   "id": "ae2acc10",
   "metadata": {},
   "source": [
    "### Estadísticas"
   ]
  },
  {
   "cell_type": "code",
   "execution_count": 179,
   "id": "4d9aa7b8",
   "metadata": {},
   "outputs": [
    {
     "name": "stdout",
     "output_type": "stream",
     "text": [
      "            Abonados       DPIR        FPI Empresa Cluster\n",
      "                mean       mean       mean    mode   count\n",
      "Cluster                                                   \n",
      "0        7115.096154  14.307596  11.635000     ICE     104\n",
      "1        6638.517241  22.495172  19.702069     ICE      29\n"
     ]
    }
   ],
   "source": [
    "data_DBSCAN_grouped = data_DBSCAN.groupby(\"Cluster\").agg({\"Abonados\":['mean'],\n",
    "                                    \"DPIR\":['mean'],\n",
    "                                    \"FPI\":['mean'],\n",
    "                                  \"Empresa\":[pd.Series.mode],\n",
    "                                    \"Cluster\":'count'})\n",
    "print(data_DBSCAN_grouped)"
   ]
  },
  {
   "cell_type": "code",
   "execution_count": 180,
   "id": "702c51ed",
   "metadata": {},
   "outputs": [
    {
     "data": {
      "image/png": "[encoded data removed]",
      "text/plain": [
       "<Figure size 1200x600 with 2 Axes>"
      ]
     },
     "metadata": {},
     "output_type": "display_data"
    }
   ],
   "source": [
    "# generamos gráficos para entender mejor la data\n",
    "data_DBSCAN_grouped1 = data_DBSCAN.groupby(\"Cluster\").agg({\"Abonados\":['mean'],\n",
    "                                    \"DPIR\":['mean'],\n",
    "                                    \"FPI\":['mean'],\n",
    "                                  \"Empresa\":[pd.Series.mode]\n",
    "                                    })\n",
    "data_DBSCAN_grouped1['Abonados'] = data_DBSCAN_grouped1['Abonados']/100\n",
    "\n",
    "fig, ax = plt.subplots(1, 2, figsize=(12, 6))\n",
    "data_DBSCAN_grouped1.plot(kind='bar',ax=ax[0], xlabel='Cluster', ylabel='Valor Promedio')\n",
    "ax[0].legend(['Abonados/100', 'DPIR', 'FPI'])\n",
    "\n",
    "\n",
    "empresas=[data_DBSCAN_grouped1.Empresa.values[i][0] for i in range(len(data_DBSCAN_grouped1.Empresa.values))]\n",
    "data_DBSCAN_grouped2 = data_DBSCAN.groupby(\"Cluster\").agg({\"Cluster\":'count'})\n",
    "\n",
    "formatter = [f\"{i} \\n {j} \\n {l}\" for i,j,l in zip(list(data_DBSCAN_grouped1.index),\\\n",
    "                                                   empresas,list(data_DBSCAN_grouped2.Cluster))]\n",
    "ax[1].pie(data_DBSCAN_grouped2.Cluster, labels=formatter)\n",
    "ax[1].set(title=\"Tamaño de cluster y empresa predominante\")\n",
    "fig.suptitle('Estadísticas de los clusters obtenidos con DBSCAN')\n",
    "plt.show()"
   ]
  }
 ],
 "metadata": {
  "kernelspec": {
   "display_name": "Python 3 (ipykernel)",
   "language": "python",
   "name": "python3"
  },
  "language_info": {
   "codemirror_mode": {
    "name": "ipython",
    "version": 3
   },
   "file_extension": ".py",
   "mimetype": "text/x-python",
   "name": "python",
   "nbconvert_exporter": "python",
   "pygments_lexer": "ipython3",
   "version": "3.9.4"
  }
 },
 "nbformat": 4,
 "nbformat_minor": 5
}
